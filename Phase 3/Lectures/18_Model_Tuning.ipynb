{
 "cells": [
  {
   "cell_type": "markdown",
   "metadata": {},
   "source": [
    "# Model Tuning: Grid Search + Pipeline"
   ]
  },
  {
   "cell_type": "code",
   "execution_count": 1,
   "metadata": {
    "ExecuteTime": {
     "end_time": "2021-10-28T04:05:08.822957Z",
     "start_time": "2021-10-28T04:05:08.819534Z"
    }
   },
   "outputs": [],
   "source": [
    "import numpy as np\n",
    "import pandas as pd\n",
    "from matplotlib import pyplot as plt\n",
    "import seaborn as sns\n",
    "from scipy import stats as stats\n",
    "\n",
    "from sklearn.linear_model import LogisticRegression\n",
    "from sklearn.tree import DecisionTreeClassifier\n",
    "\n",
    "from sklearn.metrics import precision_score, recall_score\n",
    "from sklearn.model_selection import train_test_split, GridSearchCV,\\\n",
    "cross_val_score, RandomizedSearchCV\n",
    "\n",
    "from sklearn.preprocessing import OneHotEncoder, StandardScaler\n",
    "from sklearn.impute import SimpleImputer\n",
    "from sklearn.pipeline import Pipeline\n",
    "from sklearn.compose import ColumnTransformer"
   ]
  },
  {
   "cell_type": "markdown",
   "metadata": {
    "heading_collapsed": true
   },
   "source": [
    "# Objectives"
   ]
  },
  {
   "cell_type": "markdown",
   "metadata": {
    "hidden": true
   },
   "source": [
    "- Explain what hyperparameters are\n",
    "- Describe the purpose of grid searching\n",
    "- Implement grid searching for the purposes of model optimization."
   ]
  },
  {
   "cell_type": "markdown",
   "metadata": {
    "heading_collapsed": true
   },
   "source": [
    "# Model Tuning"
   ]
  },
  {
   "cell_type": "markdown",
   "metadata": {
    "hidden": true
   },
   "source": [
    "![](https://imgs.xkcd.com/comics/machine_learning.png)"
   ]
  },
  {
   "cell_type": "markdown",
   "metadata": {
    "heading_collapsed": true,
    "hidden": true
   },
   "source": [
    "## Hyperparameters"
   ]
  },
  {
   "cell_type": "markdown",
   "metadata": {
    "hidden": true
   },
   "source": [
    "Many of the models we have looked at are really *families* of models in the sense that they make use of **hyperparameters**."
   ]
  },
  {
   "cell_type": "markdown",
   "metadata": {
    "hidden": true
   },
   "source": [
    "Thus for example the $k$-nearest-neighbors algorithm allows us to make:\n",
    "\n",
    "- a 1-nearest-neighbor model\n",
    "- a 2-nearest-neighbors model\n",
    "- a 3-nearest-neighbors model\n",
    "- etc."
   ]
  },
  {
   "cell_type": "markdown",
   "metadata": {
    "hidden": true
   },
   "source": [
    "Or, for another example, the decision tree algorithm allows us to make:\n",
    "\n",
    "- a classifier that branches according to information gain\n",
    "- a classifier that branches according to Gini impurity\n",
    "- a regressor that branches according to mean squared error\n",
    "- etc."
   ]
  },
  {
   "cell_type": "markdown",
   "metadata": {
    "hidden": true
   },
   "source": [
    "Depending on the sort of problem and data at hand, it is natural to experiment with different values of these hyperparameters to try to improve model performance."
   ]
  },
  {
   "cell_type": "markdown",
   "metadata": {
    "hidden": true
   },
   "source": [
    "> We can think of these **hyperparameters** as _dials_ of the base model\n",
    "\n",
    "<img width=60% src='images/dials.png'/>"
   ]
  },
  {
   "cell_type": "markdown",
   "metadata": {
    "heading_collapsed": true,
    "hidden": true
   },
   "source": [
    "### Difference from Parametric / Non-Parametric Models"
   ]
  },
  {
   "cell_type": "markdown",
   "metadata": {
    "hidden": true
   },
   "source": [
    "Contrast the notion of hyperparameters with the distinction between parametric and non-parametric models."
   ]
  },
  {
   "cell_type": "markdown",
   "metadata": {
    "hidden": true
   },
   "source": [
    "A linear regression model is parametric in the sense that we start with a given model *form* and we then search for the optimal parameters to fill in that form. But *those* parameters are not the sort we might tweak for the purposes of improving model performance. On the contrary, there is one best set of parameters, and the training of the model is a matter of finding those optimal values."
   ]
  },
  {
   "cell_type": "markdown",
   "metadata": {
    "heading_collapsed": true,
    "hidden": true
   },
   "source": [
    "## Data Example"
   ]
  },
  {
   "cell_type": "markdown",
   "metadata": {
    "hidden": true
   },
   "source": [
    "![Penguins](https://raw.githubusercontent.com/allisonhorst/palmerpenguins/69530276d74b99df81cc385f4e95c644da69ebfa/man/figures/lter_penguins.png)\n",
    "\n",
    "> Images source: @allison_horst [github.com/allisonhorst/penguins](github.com/allisonhorst/penguins)"
   ]
  },
  {
   "cell_type": "code",
   "execution_count": 2,
   "metadata": {
    "ExecuteTime": {
     "end_time": "2021-10-28T03:33:19.245056Z",
     "start_time": "2021-10-28T03:33:19.234933Z"
    },
    "hidden": true
   },
   "outputs": [],
   "source": [
    "penguins = sns.load_dataset('penguins')"
   ]
  },
  {
   "cell_type": "markdown",
   "metadata": {
    "hidden": true
   },
   "source": [
    "![Bill length & depth](https://raw.githubusercontent.com/allisonhorst/palmerpenguins/69530276d74b99df81cc385f4e95c644da69ebfa/man/figures/culmen_depth.png)\n",
    "\n",
    "> Images source: @allison_horst [github.com/allisonhorst/penguins](github.com/allisonhorst/penguins)"
   ]
  },
  {
   "cell_type": "code",
   "execution_count": 3,
   "metadata": {
    "ExecuteTime": {
     "end_time": "2021-10-28T03:33:20.583442Z",
     "start_time": "2021-10-28T03:33:20.566368Z"
    },
    "hidden": true
   },
   "outputs": [
    {
     "data": {
      "text/html": [
       "<div>\n",
       "<style scoped>\n",
       "    .dataframe tbody tr th:only-of-type {\n",
       "        vertical-align: middle;\n",
       "    }\n",
       "\n",
       "    .dataframe tbody tr th {\n",
       "        vertical-align: top;\n",
       "    }\n",
       "\n",
       "    .dataframe thead th {\n",
       "        text-align: right;\n",
       "    }\n",
       "</style>\n",
       "<table border=\"1\" class=\"dataframe\">\n",
       "  <thead>\n",
       "    <tr style=\"text-align: right;\">\n",
       "      <th></th>\n",
       "      <th>species</th>\n",
       "      <th>island</th>\n",
       "      <th>bill_length_mm</th>\n",
       "      <th>bill_depth_mm</th>\n",
       "      <th>flipper_length_mm</th>\n",
       "      <th>body_mass_g</th>\n",
       "      <th>sex</th>\n",
       "    </tr>\n",
       "  </thead>\n",
       "  <tbody>\n",
       "    <tr>\n",
       "      <th>0</th>\n",
       "      <td>Adelie</td>\n",
       "      <td>Torgersen</td>\n",
       "      <td>39.1</td>\n",
       "      <td>18.7</td>\n",
       "      <td>181.0</td>\n",
       "      <td>3750.0</td>\n",
       "      <td>Male</td>\n",
       "    </tr>\n",
       "    <tr>\n",
       "      <th>1</th>\n",
       "      <td>Adelie</td>\n",
       "      <td>Torgersen</td>\n",
       "      <td>39.5</td>\n",
       "      <td>17.4</td>\n",
       "      <td>186.0</td>\n",
       "      <td>3800.0</td>\n",
       "      <td>Female</td>\n",
       "    </tr>\n",
       "    <tr>\n",
       "      <th>2</th>\n",
       "      <td>Adelie</td>\n",
       "      <td>Torgersen</td>\n",
       "      <td>40.3</td>\n",
       "      <td>18.0</td>\n",
       "      <td>195.0</td>\n",
       "      <td>3250.0</td>\n",
       "      <td>Female</td>\n",
       "    </tr>\n",
       "    <tr>\n",
       "      <th>3</th>\n",
       "      <td>Adelie</td>\n",
       "      <td>Torgersen</td>\n",
       "      <td>NaN</td>\n",
       "      <td>NaN</td>\n",
       "      <td>NaN</td>\n",
       "      <td>NaN</td>\n",
       "      <td>NaN</td>\n",
       "    </tr>\n",
       "    <tr>\n",
       "      <th>4</th>\n",
       "      <td>Adelie</td>\n",
       "      <td>Torgersen</td>\n",
       "      <td>36.7</td>\n",
       "      <td>19.3</td>\n",
       "      <td>193.0</td>\n",
       "      <td>3450.0</td>\n",
       "      <td>Female</td>\n",
       "    </tr>\n",
       "  </tbody>\n",
       "</table>\n",
       "</div>"
      ],
      "text/plain": [
       "  species     island  bill_length_mm  bill_depth_mm  flipper_length_mm  \\\n",
       "0  Adelie  Torgersen            39.1           18.7              181.0   \n",
       "1  Adelie  Torgersen            39.5           17.4              186.0   \n",
       "2  Adelie  Torgersen            40.3           18.0              195.0   \n",
       "3  Adelie  Torgersen             NaN            NaN                NaN   \n",
       "4  Adelie  Torgersen            36.7           19.3              193.0   \n",
       "\n",
       "   body_mass_g     sex  \n",
       "0       3750.0    Male  \n",
       "1       3800.0  Female  \n",
       "2       3250.0  Female  \n",
       "3          NaN     NaN  \n",
       "4       3450.0  Female  "
      ]
     },
     "execution_count": 3,
     "metadata": {},
     "output_type": "execute_result"
    }
   ],
   "source": [
    "penguins.head()"
   ]
  },
  {
   "cell_type": "code",
   "execution_count": 4,
   "metadata": {
    "ExecuteTime": {
     "end_time": "2021-10-28T03:33:21.461254Z",
     "start_time": "2021-10-28T03:33:21.450522Z"
    }
   },
   "outputs": [
    {
     "name": "stdout",
     "output_type": "stream",
     "text": [
      "<class 'pandas.core.frame.DataFrame'>\n",
      "RangeIndex: 344 entries, 0 to 343\n",
      "Data columns (total 7 columns):\n",
      " #   Column             Non-Null Count  Dtype  \n",
      "---  ------             --------------  -----  \n",
      " 0   species            344 non-null    object \n",
      " 1   island             344 non-null    object \n",
      " 2   bill_length_mm     342 non-null    float64\n",
      " 3   bill_depth_mm      342 non-null    float64\n",
      " 4   flipper_length_mm  342 non-null    float64\n",
      " 5   body_mass_g        342 non-null    float64\n",
      " 6   sex                333 non-null    object \n",
      "dtypes: float64(4), object(3)\n",
      "memory usage: 18.9+ KB\n"
     ]
    }
   ],
   "source": [
    "penguins.info()"
   ]
  },
  {
   "cell_type": "code",
   "execution_count": 5,
   "metadata": {},
   "outputs": [
    {
     "data": {
      "text/html": [
       "<div>\n",
       "<style scoped>\n",
       "    .dataframe tbody tr th:only-of-type {\n",
       "        vertical-align: middle;\n",
       "    }\n",
       "\n",
       "    .dataframe tbody tr th {\n",
       "        vertical-align: top;\n",
       "    }\n",
       "\n",
       "    .dataframe thead th {\n",
       "        text-align: right;\n",
       "    }\n",
       "</style>\n",
       "<table border=\"1\" class=\"dataframe\">\n",
       "  <thead>\n",
       "    <tr style=\"text-align: right;\">\n",
       "      <th></th>\n",
       "      <th>bill_length_mm</th>\n",
       "      <th>bill_depth_mm</th>\n",
       "      <th>flipper_length_mm</th>\n",
       "      <th>body_mass_g</th>\n",
       "    </tr>\n",
       "  </thead>\n",
       "  <tbody>\n",
       "    <tr>\n",
       "      <th>count</th>\n",
       "      <td>342.000000</td>\n",
       "      <td>342.000000</td>\n",
       "      <td>342.000000</td>\n",
       "      <td>342.000000</td>\n",
       "    </tr>\n",
       "    <tr>\n",
       "      <th>mean</th>\n",
       "      <td>43.921930</td>\n",
       "      <td>17.151170</td>\n",
       "      <td>200.915205</td>\n",
       "      <td>4201.754386</td>\n",
       "    </tr>\n",
       "    <tr>\n",
       "      <th>std</th>\n",
       "      <td>5.459584</td>\n",
       "      <td>1.974793</td>\n",
       "      <td>14.061714</td>\n",
       "      <td>801.954536</td>\n",
       "    </tr>\n",
       "    <tr>\n",
       "      <th>min</th>\n",
       "      <td>32.100000</td>\n",
       "      <td>13.100000</td>\n",
       "      <td>172.000000</td>\n",
       "      <td>2700.000000</td>\n",
       "    </tr>\n",
       "    <tr>\n",
       "      <th>25%</th>\n",
       "      <td>39.225000</td>\n",
       "      <td>15.600000</td>\n",
       "      <td>190.000000</td>\n",
       "      <td>3550.000000</td>\n",
       "    </tr>\n",
       "    <tr>\n",
       "      <th>50%</th>\n",
       "      <td>44.450000</td>\n",
       "      <td>17.300000</td>\n",
       "      <td>197.000000</td>\n",
       "      <td>4050.000000</td>\n",
       "    </tr>\n",
       "    <tr>\n",
       "      <th>75%</th>\n",
       "      <td>48.500000</td>\n",
       "      <td>18.700000</td>\n",
       "      <td>213.000000</td>\n",
       "      <td>4750.000000</td>\n",
       "    </tr>\n",
       "    <tr>\n",
       "      <th>max</th>\n",
       "      <td>59.600000</td>\n",
       "      <td>21.500000</td>\n",
       "      <td>231.000000</td>\n",
       "      <td>6300.000000</td>\n",
       "    </tr>\n",
       "  </tbody>\n",
       "</table>\n",
       "</div>"
      ],
      "text/plain": [
       "       bill_length_mm  bill_depth_mm  flipper_length_mm  body_mass_g\n",
       "count      342.000000     342.000000         342.000000   342.000000\n",
       "mean        43.921930      17.151170         200.915205  4201.754386\n",
       "std          5.459584       1.974793          14.061714   801.954536\n",
       "min         32.100000      13.100000         172.000000  2700.000000\n",
       "25%         39.225000      15.600000         190.000000  3550.000000\n",
       "50%         44.450000      17.300000         197.000000  4050.000000\n",
       "75%         48.500000      18.700000         213.000000  4750.000000\n",
       "max         59.600000      21.500000         231.000000  6300.000000"
      ]
     },
     "execution_count": 5,
     "metadata": {},
     "output_type": "execute_result"
    }
   ],
   "source": [
    "penguins.describe()"
   ]
  },
  {
   "cell_type": "markdown",
   "metadata": {
    "heading_collapsed": true,
    "hidden": true
   },
   "source": [
    "### Data Prep"
   ]
  },
  {
   "cell_type": "markdown",
   "metadata": {
    "hidden": true
   },
   "source": [
    "We'll try to predict species given the other columns' values. Let's dummy-out `island` and `sex`:"
   ]
  },
  {
   "cell_type": "code",
   "execution_count": 6,
   "metadata": {
    "ExecuteTime": {
     "end_time": "2021-10-28T03:33:22.756858Z",
     "start_time": "2021-10-28T03:33:22.751784Z"
    },
    "hidden": true
   },
   "outputs": [
    {
     "data": {
      "text/plain": [
       "19"
      ]
     },
     "execution_count": 6,
     "metadata": {},
     "output_type": "execute_result"
    }
   ],
   "source": [
    "penguins.isna().sum().sum()"
   ]
  },
  {
   "cell_type": "code",
   "execution_count": 7,
   "metadata": {
    "ExecuteTime": {
     "end_time": "2021-10-28T03:33:23.129535Z",
     "start_time": "2021-10-28T03:33:23.109712Z"
    },
    "hidden": true
   },
   "outputs": [],
   "source": [
    "penguins = penguins.dropna()"
   ]
  },
  {
   "cell_type": "code",
   "execution_count": 8,
   "metadata": {
    "ExecuteTime": {
     "end_time": "2021-10-28T03:33:23.154283Z",
     "start_time": "2021-10-28T03:33:23.151406Z"
    },
    "hidden": true,
    "scrolled": true
   },
   "outputs": [
    {
     "data": {
      "text/plain": [
       "0      Adelie\n",
       "1      Adelie\n",
       "2      Adelie\n",
       "4      Adelie\n",
       "5      Adelie\n",
       "        ...  \n",
       "338    Gentoo\n",
       "340    Gentoo\n",
       "341    Gentoo\n",
       "342    Gentoo\n",
       "343    Gentoo\n",
       "Name: species, Length: 333, dtype: object"
      ]
     },
     "execution_count": 8,
     "metadata": {},
     "output_type": "execute_result"
    }
   ],
   "source": [
    "y = penguins.pop('species')\n",
    "y"
   ]
  },
  {
   "cell_type": "code",
   "execution_count": 9,
   "metadata": {},
   "outputs": [
    {
     "data": {
      "text/html": [
       "<div>\n",
       "<style scoped>\n",
       "    .dataframe tbody tr th:only-of-type {\n",
       "        vertical-align: middle;\n",
       "    }\n",
       "\n",
       "    .dataframe tbody tr th {\n",
       "        vertical-align: top;\n",
       "    }\n",
       "\n",
       "    .dataframe thead th {\n",
       "        text-align: right;\n",
       "    }\n",
       "</style>\n",
       "<table border=\"1\" class=\"dataframe\">\n",
       "  <thead>\n",
       "    <tr style=\"text-align: right;\">\n",
       "      <th></th>\n",
       "      <th>island</th>\n",
       "      <th>bill_length_mm</th>\n",
       "      <th>bill_depth_mm</th>\n",
       "      <th>flipper_length_mm</th>\n",
       "      <th>body_mass_g</th>\n",
       "      <th>sex</th>\n",
       "    </tr>\n",
       "  </thead>\n",
       "  <tbody>\n",
       "    <tr>\n",
       "      <th>0</th>\n",
       "      <td>Torgersen</td>\n",
       "      <td>39.1</td>\n",
       "      <td>18.7</td>\n",
       "      <td>181.0</td>\n",
       "      <td>3750.0</td>\n",
       "      <td>Male</td>\n",
       "    </tr>\n",
       "    <tr>\n",
       "      <th>1</th>\n",
       "      <td>Torgersen</td>\n",
       "      <td>39.5</td>\n",
       "      <td>17.4</td>\n",
       "      <td>186.0</td>\n",
       "      <td>3800.0</td>\n",
       "      <td>Female</td>\n",
       "    </tr>\n",
       "    <tr>\n",
       "      <th>2</th>\n",
       "      <td>Torgersen</td>\n",
       "      <td>40.3</td>\n",
       "      <td>18.0</td>\n",
       "      <td>195.0</td>\n",
       "      <td>3250.0</td>\n",
       "      <td>Female</td>\n",
       "    </tr>\n",
       "    <tr>\n",
       "      <th>4</th>\n",
       "      <td>Torgersen</td>\n",
       "      <td>36.7</td>\n",
       "      <td>19.3</td>\n",
       "      <td>193.0</td>\n",
       "      <td>3450.0</td>\n",
       "      <td>Female</td>\n",
       "    </tr>\n",
       "    <tr>\n",
       "      <th>5</th>\n",
       "      <td>Torgersen</td>\n",
       "      <td>39.3</td>\n",
       "      <td>20.6</td>\n",
       "      <td>190.0</td>\n",
       "      <td>3650.0</td>\n",
       "      <td>Male</td>\n",
       "    </tr>\n",
       "    <tr>\n",
       "      <th>...</th>\n",
       "      <td>...</td>\n",
       "      <td>...</td>\n",
       "      <td>...</td>\n",
       "      <td>...</td>\n",
       "      <td>...</td>\n",
       "      <td>...</td>\n",
       "    </tr>\n",
       "    <tr>\n",
       "      <th>338</th>\n",
       "      <td>Biscoe</td>\n",
       "      <td>47.2</td>\n",
       "      <td>13.7</td>\n",
       "      <td>214.0</td>\n",
       "      <td>4925.0</td>\n",
       "      <td>Female</td>\n",
       "    </tr>\n",
       "    <tr>\n",
       "      <th>340</th>\n",
       "      <td>Biscoe</td>\n",
       "      <td>46.8</td>\n",
       "      <td>14.3</td>\n",
       "      <td>215.0</td>\n",
       "      <td>4850.0</td>\n",
       "      <td>Female</td>\n",
       "    </tr>\n",
       "    <tr>\n",
       "      <th>341</th>\n",
       "      <td>Biscoe</td>\n",
       "      <td>50.4</td>\n",
       "      <td>15.7</td>\n",
       "      <td>222.0</td>\n",
       "      <td>5750.0</td>\n",
       "      <td>Male</td>\n",
       "    </tr>\n",
       "    <tr>\n",
       "      <th>342</th>\n",
       "      <td>Biscoe</td>\n",
       "      <td>45.2</td>\n",
       "      <td>14.8</td>\n",
       "      <td>212.0</td>\n",
       "      <td>5200.0</td>\n",
       "      <td>Female</td>\n",
       "    </tr>\n",
       "    <tr>\n",
       "      <th>343</th>\n",
       "      <td>Biscoe</td>\n",
       "      <td>49.9</td>\n",
       "      <td>16.1</td>\n",
       "      <td>213.0</td>\n",
       "      <td>5400.0</td>\n",
       "      <td>Male</td>\n",
       "    </tr>\n",
       "  </tbody>\n",
       "</table>\n",
       "<p>333 rows × 6 columns</p>\n",
       "</div>"
      ],
      "text/plain": [
       "        island  bill_length_mm  bill_depth_mm  flipper_length_mm  body_mass_g  \\\n",
       "0    Torgersen            39.1           18.7              181.0       3750.0   \n",
       "1    Torgersen            39.5           17.4              186.0       3800.0   \n",
       "2    Torgersen            40.3           18.0              195.0       3250.0   \n",
       "4    Torgersen            36.7           19.3              193.0       3450.0   \n",
       "5    Torgersen            39.3           20.6              190.0       3650.0   \n",
       "..         ...             ...            ...                ...          ...   \n",
       "338     Biscoe            47.2           13.7              214.0       4925.0   \n",
       "340     Biscoe            46.8           14.3              215.0       4850.0   \n",
       "341     Biscoe            50.4           15.7              222.0       5750.0   \n",
       "342     Biscoe            45.2           14.8              212.0       5200.0   \n",
       "343     Biscoe            49.9           16.1              213.0       5400.0   \n",
       "\n",
       "        sex  \n",
       "0      Male  \n",
       "1    Female  \n",
       "2    Female  \n",
       "4    Female  \n",
       "5      Male  \n",
       "..      ...  \n",
       "338  Female  \n",
       "340  Female  \n",
       "341    Male  \n",
       "342  Female  \n",
       "343    Male  \n",
       "\n",
       "[333 rows x 6 columns]"
      ]
     },
     "execution_count": 9,
     "metadata": {},
     "output_type": "execute_result"
    }
   ],
   "source": [
    "penguins"
   ]
  },
  {
   "cell_type": "code",
   "execution_count": 10,
   "metadata": {
    "ExecuteTime": {
     "end_time": "2021-10-28T03:33:23.343753Z",
     "start_time": "2021-10-28T03:33:23.339442Z"
    },
    "hidden": true
   },
   "outputs": [],
   "source": [
    "# Note we're dedicating a lot of data to the testing set just for demonstrative purposes\n",
    "X_train, X_test, y_train, y_test = train_test_split(\n",
    "    penguins, y, test_size=0.5, random_state=42)"
   ]
  },
  {
   "cell_type": "code",
   "execution_count": 41,
   "metadata": {
    "ExecuteTime": {
     "end_time": "2021-10-28T03:33:23.689260Z",
     "start_time": "2021-10-28T03:33:23.683728Z"
    },
    "hidden": true
   },
   "outputs": [],
   "source": [
    "X_train_cat = X_train.select_dtypes('object')\n",
    "\n",
    "ohe = OneHotEncoder(sparse_output=False)\n",
    "\n",
    "dums = ohe.fit_transform(X_train_cat)\n",
    "dums_df = pd.DataFrame(dums,\n",
    "                       columns=ohe.get_feature_names_out(),\n",
    "                       index=X_train_cat.index)"
   ]
  },
  {
   "cell_type": "code",
   "execution_count": 42,
   "metadata": {
    "ExecuteTime": {
     "end_time": "2021-10-28T03:33:23.749194Z",
     "start_time": "2021-10-28T03:33:23.740492Z"
    }
   },
   "outputs": [
    {
     "data": {
      "text/html": [
       "<div>\n",
       "<style scoped>\n",
       "    .dataframe tbody tr th:only-of-type {\n",
       "        vertical-align: middle;\n",
       "    }\n",
       "\n",
       "    .dataframe tbody tr th {\n",
       "        vertical-align: top;\n",
       "    }\n",
       "\n",
       "    .dataframe thead th {\n",
       "        text-align: right;\n",
       "    }\n",
       "</style>\n",
       "<table border=\"1\" class=\"dataframe\">\n",
       "  <thead>\n",
       "    <tr style=\"text-align: right;\">\n",
       "      <th></th>\n",
       "      <th>island_Biscoe</th>\n",
       "      <th>island_Dream</th>\n",
       "      <th>island_Torgersen</th>\n",
       "      <th>sex_Female</th>\n",
       "      <th>sex_Male</th>\n",
       "    </tr>\n",
       "  </thead>\n",
       "  <tbody>\n",
       "    <tr>\n",
       "      <th>160</th>\n",
       "      <td>0.0</td>\n",
       "      <td>1.0</td>\n",
       "      <td>0.0</td>\n",
       "      <td>1.0</td>\n",
       "      <td>0.0</td>\n",
       "    </tr>\n",
       "    <tr>\n",
       "      <th>237</th>\n",
       "      <td>1.0</td>\n",
       "      <td>0.0</td>\n",
       "      <td>0.0</td>\n",
       "      <td>0.0</td>\n",
       "      <td>1.0</td>\n",
       "    </tr>\n",
       "    <tr>\n",
       "      <th>2</th>\n",
       "      <td>0.0</td>\n",
       "      <td>0.0</td>\n",
       "      <td>1.0</td>\n",
       "      <td>1.0</td>\n",
       "      <td>0.0</td>\n",
       "    </tr>\n",
       "    <tr>\n",
       "      <th>121</th>\n",
       "      <td>0.0</td>\n",
       "      <td>0.0</td>\n",
       "      <td>1.0</td>\n",
       "      <td>0.0</td>\n",
       "      <td>1.0</td>\n",
       "    </tr>\n",
       "    <tr>\n",
       "      <th>179</th>\n",
       "      <td>0.0</td>\n",
       "      <td>1.0</td>\n",
       "      <td>0.0</td>\n",
       "      <td>0.0</td>\n",
       "      <td>1.0</td>\n",
       "    </tr>\n",
       "  </tbody>\n",
       "</table>\n",
       "</div>"
      ],
      "text/plain": [
       "     island_Biscoe  island_Dream  island_Torgersen  sex_Female  sex_Male\n",
       "160            0.0           1.0               0.0         1.0       0.0\n",
       "237            1.0           0.0               0.0         0.0       1.0\n",
       "2              0.0           0.0               1.0         1.0       0.0\n",
       "121            0.0           0.0               1.0         0.0       1.0\n",
       "179            0.0           1.0               0.0         0.0       1.0"
      ]
     },
     "execution_count": 42,
     "metadata": {},
     "output_type": "execute_result"
    }
   ],
   "source": [
    "dums_df.head()"
   ]
  },
  {
   "cell_type": "code",
   "execution_count": 44,
   "metadata": {
    "ExecuteTime": {
     "end_time": "2021-10-28T03:33:23.903884Z",
     "start_time": "2021-10-28T03:33:23.896009Z"
    },
    "hidden": true
   },
   "outputs": [
    {
     "data": {
      "text/html": [
       "<div>\n",
       "<style scoped>\n",
       "    .dataframe tbody tr th:only-of-type {\n",
       "        vertical-align: middle;\n",
       "    }\n",
       "\n",
       "    .dataframe tbody tr th {\n",
       "        vertical-align: top;\n",
       "    }\n",
       "\n",
       "    .dataframe thead th {\n",
       "        text-align: right;\n",
       "    }\n",
       "</style>\n",
       "<table border=\"1\" class=\"dataframe\">\n",
       "  <thead>\n",
       "    <tr style=\"text-align: right;\">\n",
       "      <th></th>\n",
       "      <th>bill_length_mm</th>\n",
       "      <th>bill_depth_mm</th>\n",
       "      <th>flipper_length_mm</th>\n",
       "      <th>body_mass_g</th>\n",
       "    </tr>\n",
       "  </thead>\n",
       "  <tbody>\n",
       "    <tr>\n",
       "      <th>160</th>\n",
       "      <td>0.362748</td>\n",
       "      <td>0.903276</td>\n",
       "      <td>-0.472344</td>\n",
       "      <td>-0.094599</td>\n",
       "    </tr>\n",
       "    <tr>\n",
       "      <th>237</th>\n",
       "      <td>0.973499</td>\n",
       "      <td>-0.977375</td>\n",
       "      <td>1.408317</td>\n",
       "      <td>2.512546</td>\n",
       "    </tr>\n",
       "    <tr>\n",
       "      <th>2</th>\n",
       "      <td>-0.725152</td>\n",
       "      <td>0.445820</td>\n",
       "      <td>-0.472344</td>\n",
       "      <td>-1.185963</td>\n",
       "    </tr>\n",
       "    <tr>\n",
       "      <th>121</th>\n",
       "      <td>-1.221387</td>\n",
       "      <td>1.360731</td>\n",
       "      <td>-0.255345</td>\n",
       "      <td>-0.882806</td>\n",
       "    </tr>\n",
       "    <tr>\n",
       "      <th>179</th>\n",
       "      <td>1.030757</td>\n",
       "      <td>0.954104</td>\n",
       "      <td>-0.110678</td>\n",
       "      <td>-0.519018</td>\n",
       "    </tr>\n",
       "    <tr>\n",
       "      <th>...</th>\n",
       "      <td>...</td>\n",
       "      <td>...</td>\n",
       "      <td>...</td>\n",
       "      <td>...</td>\n",
       "    </tr>\n",
       "    <tr>\n",
       "      <th>194</th>\n",
       "      <td>1.297960</td>\n",
       "      <td>1.004932</td>\n",
       "      <td>-0.400011</td>\n",
       "      <td>-0.822175</td>\n",
       "    </tr>\n",
       "    <tr>\n",
       "      <th>77</th>\n",
       "      <td>-1.316816</td>\n",
       "      <td>1.157417</td>\n",
       "      <td>-1.268008</td>\n",
       "      <td>-0.397756</td>\n",
       "    </tr>\n",
       "    <tr>\n",
       "      <th>112</th>\n",
       "      <td>-0.839667</td>\n",
       "      <td>0.293335</td>\n",
       "      <td>-0.617010</td>\n",
       "      <td>-1.246594</td>\n",
       "    </tr>\n",
       "    <tr>\n",
       "      <th>277</th>\n",
       "      <td>0.267318</td>\n",
       "      <td>-1.079032</td>\n",
       "      <td>1.335984</td>\n",
       "      <td>0.936132</td>\n",
       "    </tr>\n",
       "    <tr>\n",
       "      <th>108</th>\n",
       "      <td>-1.145043</td>\n",
       "      <td>-0.062464</td>\n",
       "      <td>-1.485007</td>\n",
       "      <td>-1.276910</td>\n",
       "    </tr>\n",
       "  </tbody>\n",
       "</table>\n",
       "<p>166 rows × 4 columns</p>\n",
       "</div>"
      ],
      "text/plain": [
       "     bill_length_mm  bill_depth_mm  flipper_length_mm  body_mass_g\n",
       "160        0.362748       0.903276          -0.472344    -0.094599\n",
       "237        0.973499      -0.977375           1.408317     2.512546\n",
       "2         -0.725152       0.445820          -0.472344    -1.185963\n",
       "121       -1.221387       1.360731          -0.255345    -0.882806\n",
       "179        1.030757       0.954104          -0.110678    -0.519018\n",
       "..              ...            ...                ...          ...\n",
       "194        1.297960       1.004932          -0.400011    -0.822175\n",
       "77        -1.316816       1.157417          -1.268008    -0.397756\n",
       "112       -0.839667       0.293335          -0.617010    -1.246594\n",
       "277        0.267318      -1.079032           1.335984     0.936132\n",
       "108       -1.145043      -0.062464          -1.485007    -1.276910\n",
       "\n",
       "[166 rows x 4 columns]"
      ]
     },
     "execution_count": 44,
     "metadata": {},
     "output_type": "execute_result"
    }
   ],
   "source": [
    "X_train_nums = X_train.select_dtypes('float64')\n",
    "\n",
    "ss = StandardScaler()\n",
    "\n",
    "ss.fit(X_train_nums)\n",
    "nums_df = pd.DataFrame(ss.transform(X_train_nums),\n",
    "                       columns= X_train_nums.columns,\n",
    "                      index=X_train_nums.index)\n",
    "nums_df"
   ]
  },
  {
   "cell_type": "code",
   "execution_count": 45,
   "metadata": {
    "ExecuteTime": {
     "end_time": "2021-10-28T03:33:24.209621Z",
     "start_time": "2021-10-28T03:33:24.206439Z"
    },
    "hidden": true,
    "scrolled": true
   },
   "outputs": [],
   "source": [
    "X_train_clean = pd.concat([nums_df, dums_df], axis=1)"
   ]
  },
  {
   "cell_type": "code",
   "execution_count": 46,
   "metadata": {
    "ExecuteTime": {
     "end_time": "2021-10-28T03:33:24.632509Z",
     "start_time": "2021-10-28T03:33:24.620549Z"
    },
    "hidden": true
   },
   "outputs": [
    {
     "data": {
      "text/html": [
       "<div>\n",
       "<style scoped>\n",
       "    .dataframe tbody tr th:only-of-type {\n",
       "        vertical-align: middle;\n",
       "    }\n",
       "\n",
       "    .dataframe tbody tr th {\n",
       "        vertical-align: top;\n",
       "    }\n",
       "\n",
       "    .dataframe thead th {\n",
       "        text-align: right;\n",
       "    }\n",
       "</style>\n",
       "<table border=\"1\" class=\"dataframe\">\n",
       "  <thead>\n",
       "    <tr style=\"text-align: right;\">\n",
       "      <th></th>\n",
       "      <th>bill_length_mm</th>\n",
       "      <th>bill_depth_mm</th>\n",
       "      <th>flipper_length_mm</th>\n",
       "      <th>body_mass_g</th>\n",
       "      <th>island_Biscoe</th>\n",
       "      <th>island_Dream</th>\n",
       "      <th>island_Torgersen</th>\n",
       "      <th>sex_Female</th>\n",
       "      <th>sex_Male</th>\n",
       "    </tr>\n",
       "  </thead>\n",
       "  <tbody>\n",
       "    <tr>\n",
       "      <th>160</th>\n",
       "      <td>0.362748</td>\n",
       "      <td>0.903276</td>\n",
       "      <td>-0.472344</td>\n",
       "      <td>-0.094599</td>\n",
       "      <td>0.0</td>\n",
       "      <td>1.0</td>\n",
       "      <td>0.0</td>\n",
       "      <td>1.0</td>\n",
       "      <td>0.0</td>\n",
       "    </tr>\n",
       "    <tr>\n",
       "      <th>237</th>\n",
       "      <td>0.973499</td>\n",
       "      <td>-0.977375</td>\n",
       "      <td>1.408317</td>\n",
       "      <td>2.512546</td>\n",
       "      <td>1.0</td>\n",
       "      <td>0.0</td>\n",
       "      <td>0.0</td>\n",
       "      <td>0.0</td>\n",
       "      <td>1.0</td>\n",
       "    </tr>\n",
       "    <tr>\n",
       "      <th>2</th>\n",
       "      <td>-0.725152</td>\n",
       "      <td>0.445820</td>\n",
       "      <td>-0.472344</td>\n",
       "      <td>-1.185963</td>\n",
       "      <td>0.0</td>\n",
       "      <td>0.0</td>\n",
       "      <td>1.0</td>\n",
       "      <td>1.0</td>\n",
       "      <td>0.0</td>\n",
       "    </tr>\n",
       "    <tr>\n",
       "      <th>121</th>\n",
       "      <td>-1.221387</td>\n",
       "      <td>1.360731</td>\n",
       "      <td>-0.255345</td>\n",
       "      <td>-0.882806</td>\n",
       "      <td>0.0</td>\n",
       "      <td>0.0</td>\n",
       "      <td>1.0</td>\n",
       "      <td>0.0</td>\n",
       "      <td>1.0</td>\n",
       "    </tr>\n",
       "    <tr>\n",
       "      <th>179</th>\n",
       "      <td>1.030757</td>\n",
       "      <td>0.954104</td>\n",
       "      <td>-0.110678</td>\n",
       "      <td>-0.519018</td>\n",
       "      <td>0.0</td>\n",
       "      <td>1.0</td>\n",
       "      <td>0.0</td>\n",
       "      <td>0.0</td>\n",
       "      <td>1.0</td>\n",
       "    </tr>\n",
       "  </tbody>\n",
       "</table>\n",
       "</div>"
      ],
      "text/plain": [
       "     bill_length_mm  bill_depth_mm  flipper_length_mm  body_mass_g  \\\n",
       "160        0.362748       0.903276          -0.472344    -0.094599   \n",
       "237        0.973499      -0.977375           1.408317     2.512546   \n",
       "2         -0.725152       0.445820          -0.472344    -1.185963   \n",
       "121       -1.221387       1.360731          -0.255345    -0.882806   \n",
       "179        1.030757       0.954104          -0.110678    -0.519018   \n",
       "\n",
       "     island_Biscoe  island_Dream  island_Torgersen  sex_Female  sex_Male  \n",
       "160            0.0           1.0               0.0         1.0       0.0  \n",
       "237            1.0           0.0               0.0         0.0       1.0  \n",
       "2              0.0           0.0               1.0         1.0       0.0  \n",
       "121            0.0           0.0               1.0         0.0       1.0  \n",
       "179            0.0           1.0               0.0         0.0       1.0  "
      ]
     },
     "execution_count": 46,
     "metadata": {},
     "output_type": "execute_result"
    }
   ],
   "source": [
    "X_train_clean.head()"
   ]
  },
  {
   "cell_type": "markdown",
   "metadata": {
    "heading_collapsed": true,
    "hidden": true
   },
   "source": [
    "#### Preparing the Test Set"
   ]
  },
  {
   "cell_type": "code",
   "execution_count": 47,
   "metadata": {
    "ExecuteTime": {
     "end_time": "2021-10-28T03:33:25.300049Z",
     "start_time": "2021-10-28T03:33:25.294945Z"
    },
    "hidden": true
   },
   "outputs": [],
   "source": [
    "X_test_cat = X_test.select_dtypes('object')\n",
    "\n",
    "test_dums = ohe.transform(X_test_cat)\n",
    "test_dums_df = pd.DataFrame(test_dums,\n",
    "                       columns=ohe.get_feature_names_out(),\n",
    "                      index=X_test_cat.index)"
   ]
  },
  {
   "cell_type": "code",
   "execution_count": 51,
   "metadata": {
    "ExecuteTime": {
     "end_time": "2021-10-28T03:33:25.700016Z",
     "start_time": "2021-10-28T03:33:25.695249Z"
    },
    "hidden": true
   },
   "outputs": [],
   "source": [
    "X_test_nums = X_test.select_dtypes('float64')\n",
    "\n",
    "test_nums = ss.transform(X_test_nums)\n",
    "test_nums_df = pd.DataFrame(test_nums,\n",
    "                            columns=X_test_nums.columns,\n",
    "                           index=X_test_nums.index)"
   ]
  },
  {
   "cell_type": "code",
   "execution_count": 52,
   "metadata": {
    "ExecuteTime": {
     "end_time": "2021-10-28T03:33:25.735115Z",
     "start_time": "2021-10-28T03:33:25.732029Z"
    },
    "hidden": true
   },
   "outputs": [],
   "source": [
    "X_test_clean = pd.concat([test_nums_df,\n",
    "                 test_dums_df], axis=1)"
   ]
  },
  {
   "cell_type": "code",
   "execution_count": 53,
   "metadata": {
    "ExecuteTime": {
     "end_time": "2021-10-28T03:33:25.869137Z",
     "start_time": "2021-10-28T03:33:25.857740Z"
    },
    "hidden": true
   },
   "outputs": [
    {
     "data": {
      "text/html": [
       "<div>\n",
       "<style scoped>\n",
       "    .dataframe tbody tr th:only-of-type {\n",
       "        vertical-align: middle;\n",
       "    }\n",
       "\n",
       "    .dataframe tbody tr th {\n",
       "        vertical-align: top;\n",
       "    }\n",
       "\n",
       "    .dataframe thead th {\n",
       "        text-align: right;\n",
       "    }\n",
       "</style>\n",
       "<table border=\"1\" class=\"dataframe\">\n",
       "  <thead>\n",
       "    <tr style=\"text-align: right;\">\n",
       "      <th></th>\n",
       "      <th>bill_length_mm</th>\n",
       "      <th>bill_depth_mm</th>\n",
       "      <th>flipper_length_mm</th>\n",
       "      <th>body_mass_g</th>\n",
       "      <th>island_Biscoe</th>\n",
       "      <th>island_Dream</th>\n",
       "      <th>island_Torgersen</th>\n",
       "      <th>sex_Female</th>\n",
       "      <th>sex_Male</th>\n",
       "    </tr>\n",
       "  </thead>\n",
       "  <tbody>\n",
       "    <tr>\n",
       "      <th>30</th>\n",
       "      <td>-0.877839</td>\n",
       "      <td>-0.214949</td>\n",
       "      <td>-1.702007</td>\n",
       "      <td>-1.185963</td>\n",
       "      <td>0.0</td>\n",
       "      <td>1.0</td>\n",
       "      <td>0.0</td>\n",
       "      <td>1.0</td>\n",
       "      <td>0.0</td>\n",
       "    </tr>\n",
       "    <tr>\n",
       "      <th>317</th>\n",
       "      <td>0.534522</td>\n",
       "      <td>-1.282345</td>\n",
       "      <td>1.480650</td>\n",
       "      <td>0.784554</td>\n",
       "      <td>1.0</td>\n",
       "      <td>0.0</td>\n",
       "      <td>0.0</td>\n",
       "      <td>1.0</td>\n",
       "      <td>0.0</td>\n",
       "    </tr>\n",
       "    <tr>\n",
       "      <th>79</th>\n",
       "      <td>-0.381604</td>\n",
       "      <td>1.004932</td>\n",
       "      <td>-0.472344</td>\n",
       "      <td>-0.276493</td>\n",
       "      <td>0.0</td>\n",
       "      <td>0.0</td>\n",
       "      <td>1.0</td>\n",
       "      <td>0.0</td>\n",
       "      <td>1.0</td>\n",
       "    </tr>\n",
       "    <tr>\n",
       "      <th>201</th>\n",
       "      <td>1.088015</td>\n",
       "      <td>0.090021</td>\n",
       "      <td>-0.255345</td>\n",
       "      <td>-0.670597</td>\n",
       "      <td>0.0</td>\n",
       "      <td>1.0</td>\n",
       "      <td>0.0</td>\n",
       "      <td>1.0</td>\n",
       "      <td>0.0</td>\n",
       "    </tr>\n",
       "    <tr>\n",
       "      <th>63</th>\n",
       "      <td>-0.572464</td>\n",
       "      <td>0.547477</td>\n",
       "      <td>-0.689343</td>\n",
       "      <td>-0.215862</td>\n",
       "      <td>1.0</td>\n",
       "      <td>0.0</td>\n",
       "      <td>0.0</td>\n",
       "      <td>0.0</td>\n",
       "      <td>1.0</td>\n",
       "    </tr>\n",
       "  </tbody>\n",
       "</table>\n",
       "</div>"
      ],
      "text/plain": [
       "     bill_length_mm  bill_depth_mm  flipper_length_mm  body_mass_g  \\\n",
       "30        -0.877839      -0.214949          -1.702007    -1.185963   \n",
       "317        0.534522      -1.282345           1.480650     0.784554   \n",
       "79        -0.381604       1.004932          -0.472344    -0.276493   \n",
       "201        1.088015       0.090021          -0.255345    -0.670597   \n",
       "63        -0.572464       0.547477          -0.689343    -0.215862   \n",
       "\n",
       "     island_Biscoe  island_Dream  island_Torgersen  sex_Female  sex_Male  \n",
       "30             0.0           1.0               0.0         1.0       0.0  \n",
       "317            1.0           0.0               0.0         1.0       0.0  \n",
       "79             0.0           0.0               1.0         0.0       1.0  \n",
       "201            0.0           1.0               0.0         1.0       0.0  \n",
       "63             1.0           0.0               0.0         0.0       1.0  "
      ]
     },
     "execution_count": 53,
     "metadata": {},
     "output_type": "execute_result"
    }
   ],
   "source": [
    "X_test_clean.head()"
   ]
  },
  {
   "cell_type": "markdown",
   "metadata": {
    "heading_collapsed": true,
    "hidden": true
   },
   "source": [
    "### Trying Different Models & Values"
   ]
  },
  {
   "cell_type": "markdown",
   "metadata": {
    "heading_collapsed": true,
    "hidden": true
   },
   "source": [
    "#### Decision Tree"
   ]
  },
  {
   "cell_type": "code",
   "execution_count": 54,
   "metadata": {
    "ExecuteTime": {
     "end_time": "2021-10-28T03:33:29.217048Z",
     "start_time": "2021-10-28T03:33:29.210785Z"
    },
    "hidden": true
   },
   "outputs": [
    {
     "data": {
      "text/html": [
       "<style>#sk-container-id-1 {color: black;}#sk-container-id-1 pre{padding: 0;}#sk-container-id-1 div.sk-toggleable {background-color: white;}#sk-container-id-1 label.sk-toggleable__label {cursor: pointer;display: block;width: 100%;margin-bottom: 0;padding: 0.3em;box-sizing: border-box;text-align: center;}#sk-container-id-1 label.sk-toggleable__label-arrow:before {content: \"▸\";float: left;margin-right: 0.25em;color: #696969;}#sk-container-id-1 label.sk-toggleable__label-arrow:hover:before {color: black;}#sk-container-id-1 div.sk-estimator:hover label.sk-toggleable__label-arrow:before {color: black;}#sk-container-id-1 div.sk-toggleable__content {max-height: 0;max-width: 0;overflow: hidden;text-align: left;background-color: #f0f8ff;}#sk-container-id-1 div.sk-toggleable__content pre {margin: 0.2em;color: black;border-radius: 0.25em;background-color: #f0f8ff;}#sk-container-id-1 input.sk-toggleable__control:checked~div.sk-toggleable__content {max-height: 200px;max-width: 100%;overflow: auto;}#sk-container-id-1 input.sk-toggleable__control:checked~label.sk-toggleable__label-arrow:before {content: \"▾\";}#sk-container-id-1 div.sk-estimator input.sk-toggleable__control:checked~label.sk-toggleable__label {background-color: #d4ebff;}#sk-container-id-1 div.sk-label input.sk-toggleable__control:checked~label.sk-toggleable__label {background-color: #d4ebff;}#sk-container-id-1 input.sk-hidden--visually {border: 0;clip: rect(1px 1px 1px 1px);clip: rect(1px, 1px, 1px, 1px);height: 1px;margin: -1px;overflow: hidden;padding: 0;position: absolute;width: 1px;}#sk-container-id-1 div.sk-estimator {font-family: monospace;background-color: #f0f8ff;border: 1px dotted black;border-radius: 0.25em;box-sizing: border-box;margin-bottom: 0.5em;}#sk-container-id-1 div.sk-estimator:hover {background-color: #d4ebff;}#sk-container-id-1 div.sk-parallel-item::after {content: \"\";width: 100%;border-bottom: 1px solid gray;flex-grow: 1;}#sk-container-id-1 div.sk-label:hover label.sk-toggleable__label {background-color: #d4ebff;}#sk-container-id-1 div.sk-serial::before {content: \"\";position: absolute;border-left: 1px solid gray;box-sizing: border-box;top: 0;bottom: 0;left: 50%;z-index: 0;}#sk-container-id-1 div.sk-serial {display: flex;flex-direction: column;align-items: center;background-color: white;padding-right: 0.2em;padding-left: 0.2em;position: relative;}#sk-container-id-1 div.sk-item {position: relative;z-index: 1;}#sk-container-id-1 div.sk-parallel {display: flex;align-items: stretch;justify-content: center;background-color: white;position: relative;}#sk-container-id-1 div.sk-item::before, #sk-container-id-1 div.sk-parallel-item::before {content: \"\";position: absolute;border-left: 1px solid gray;box-sizing: border-box;top: 0;bottom: 0;left: 50%;z-index: -1;}#sk-container-id-1 div.sk-parallel-item {display: flex;flex-direction: column;z-index: 1;position: relative;background-color: white;}#sk-container-id-1 div.sk-parallel-item:first-child::after {align-self: flex-end;width: 50%;}#sk-container-id-1 div.sk-parallel-item:last-child::after {align-self: flex-start;width: 50%;}#sk-container-id-1 div.sk-parallel-item:only-child::after {width: 0;}#sk-container-id-1 div.sk-dashed-wrapped {border: 1px dashed gray;margin: 0 0.4em 0.5em 0.4em;box-sizing: border-box;padding-bottom: 0.4em;background-color: white;}#sk-container-id-1 div.sk-label label {font-family: monospace;font-weight: bold;display: inline-block;line-height: 1.2em;}#sk-container-id-1 div.sk-label-container {text-align: center;}#sk-container-id-1 div.sk-container {/* jupyter's `normalize.less` sets `[hidden] { display: none; }` but bootstrap.min.css set `[hidden] { display: none !important; }` so we also need the `!important` here to be able to override the default hidden behavior on the sphinx rendered scikit-learn.org. See: https://github.com/scikit-learn/scikit-learn/issues/21755 */display: inline-block !important;position: relative;}#sk-container-id-1 div.sk-text-repr-fallback {display: none;}</style><div id=\"sk-container-id-1\" class=\"sk-top-container\"><div class=\"sk-text-repr-fallback\"><pre>DecisionTreeClassifier(random_state=10)</pre><b>In a Jupyter environment, please rerun this cell to show the HTML representation or trust the notebook. <br />On GitHub, the HTML representation is unable to render, please try loading this page with nbviewer.org.</b></div><div class=\"sk-container\" hidden><div class=\"sk-item\"><div class=\"sk-estimator sk-toggleable\"><input class=\"sk-toggleable__control sk-hidden--visually\" id=\"sk-estimator-id-1\" type=\"checkbox\" checked><label for=\"sk-estimator-id-1\" class=\"sk-toggleable__label sk-toggleable__label-arrow\">DecisionTreeClassifier</label><div class=\"sk-toggleable__content\"><pre>DecisionTreeClassifier(random_state=10)</pre></div></div></div></div></div>"
      ],
      "text/plain": [
       "DecisionTreeClassifier(random_state=10)"
      ]
     },
     "execution_count": 54,
     "metadata": {},
     "output_type": "execute_result"
    }
   ],
   "source": [
    "dt = DecisionTreeClassifier(random_state=10)\n",
    "\n",
    "dt.fit(X_train_clean, y_train)"
   ]
  },
  {
   "cell_type": "code",
   "execution_count": 55,
   "metadata": {
    "ExecuteTime": {
     "end_time": "2021-10-28T03:33:29.257276Z",
     "start_time": "2021-10-28T03:33:29.251732Z"
    },
    "hidden": true
   },
   "outputs": [
    {
     "data": {
      "text/plain": [
       "0.9700598802395209"
      ]
     },
     "execution_count": 55,
     "metadata": {},
     "output_type": "execute_result"
    }
   ],
   "source": [
    "dt.score(X_test_clean, y_test)"
   ]
  },
  {
   "cell_type": "markdown",
   "metadata": {
    "heading_collapsed": true,
    "hidden": true
   },
   "source": [
    "##### Changing the branching criterion"
   ]
  },
  {
   "cell_type": "code",
   "execution_count": 56,
   "metadata": {
    "ExecuteTime": {
     "end_time": "2021-10-28T03:33:29.988524Z",
     "start_time": "2021-10-28T03:33:29.982468Z"
    },
    "hidden": true
   },
   "outputs": [
    {
     "data": {
      "text/html": [
       "<style>#sk-container-id-2 {color: black;}#sk-container-id-2 pre{padding: 0;}#sk-container-id-2 div.sk-toggleable {background-color: white;}#sk-container-id-2 label.sk-toggleable__label {cursor: pointer;display: block;width: 100%;margin-bottom: 0;padding: 0.3em;box-sizing: border-box;text-align: center;}#sk-container-id-2 label.sk-toggleable__label-arrow:before {content: \"▸\";float: left;margin-right: 0.25em;color: #696969;}#sk-container-id-2 label.sk-toggleable__label-arrow:hover:before {color: black;}#sk-container-id-2 div.sk-estimator:hover label.sk-toggleable__label-arrow:before {color: black;}#sk-container-id-2 div.sk-toggleable__content {max-height: 0;max-width: 0;overflow: hidden;text-align: left;background-color: #f0f8ff;}#sk-container-id-2 div.sk-toggleable__content pre {margin: 0.2em;color: black;border-radius: 0.25em;background-color: #f0f8ff;}#sk-container-id-2 input.sk-toggleable__control:checked~div.sk-toggleable__content {max-height: 200px;max-width: 100%;overflow: auto;}#sk-container-id-2 input.sk-toggleable__control:checked~label.sk-toggleable__label-arrow:before {content: \"▾\";}#sk-container-id-2 div.sk-estimator input.sk-toggleable__control:checked~label.sk-toggleable__label {background-color: #d4ebff;}#sk-container-id-2 div.sk-label input.sk-toggleable__control:checked~label.sk-toggleable__label {background-color: #d4ebff;}#sk-container-id-2 input.sk-hidden--visually {border: 0;clip: rect(1px 1px 1px 1px);clip: rect(1px, 1px, 1px, 1px);height: 1px;margin: -1px;overflow: hidden;padding: 0;position: absolute;width: 1px;}#sk-container-id-2 div.sk-estimator {font-family: monospace;background-color: #f0f8ff;border: 1px dotted black;border-radius: 0.25em;box-sizing: border-box;margin-bottom: 0.5em;}#sk-container-id-2 div.sk-estimator:hover {background-color: #d4ebff;}#sk-container-id-2 div.sk-parallel-item::after {content: \"\";width: 100%;border-bottom: 1px solid gray;flex-grow: 1;}#sk-container-id-2 div.sk-label:hover label.sk-toggleable__label {background-color: #d4ebff;}#sk-container-id-2 div.sk-serial::before {content: \"\";position: absolute;border-left: 1px solid gray;box-sizing: border-box;top: 0;bottom: 0;left: 50%;z-index: 0;}#sk-container-id-2 div.sk-serial {display: flex;flex-direction: column;align-items: center;background-color: white;padding-right: 0.2em;padding-left: 0.2em;position: relative;}#sk-container-id-2 div.sk-item {position: relative;z-index: 1;}#sk-container-id-2 div.sk-parallel {display: flex;align-items: stretch;justify-content: center;background-color: white;position: relative;}#sk-container-id-2 div.sk-item::before, #sk-container-id-2 div.sk-parallel-item::before {content: \"\";position: absolute;border-left: 1px solid gray;box-sizing: border-box;top: 0;bottom: 0;left: 50%;z-index: -1;}#sk-container-id-2 div.sk-parallel-item {display: flex;flex-direction: column;z-index: 1;position: relative;background-color: white;}#sk-container-id-2 div.sk-parallel-item:first-child::after {align-self: flex-end;width: 50%;}#sk-container-id-2 div.sk-parallel-item:last-child::after {align-self: flex-start;width: 50%;}#sk-container-id-2 div.sk-parallel-item:only-child::after {width: 0;}#sk-container-id-2 div.sk-dashed-wrapped {border: 1px dashed gray;margin: 0 0.4em 0.5em 0.4em;box-sizing: border-box;padding-bottom: 0.4em;background-color: white;}#sk-container-id-2 div.sk-label label {font-family: monospace;font-weight: bold;display: inline-block;line-height: 1.2em;}#sk-container-id-2 div.sk-label-container {text-align: center;}#sk-container-id-2 div.sk-container {/* jupyter's `normalize.less` sets `[hidden] { display: none; }` but bootstrap.min.css set `[hidden] { display: none !important; }` so we also need the `!important` here to be able to override the default hidden behavior on the sphinx rendered scikit-learn.org. See: https://github.com/scikit-learn/scikit-learn/issues/21755 */display: inline-block !important;position: relative;}#sk-container-id-2 div.sk-text-repr-fallback {display: none;}</style><div id=\"sk-container-id-2\" class=\"sk-top-container\"><div class=\"sk-text-repr-fallback\"><pre>DecisionTreeClassifier(criterion=&#x27;entropy&#x27;, random_state=10)</pre><b>In a Jupyter environment, please rerun this cell to show the HTML representation or trust the notebook. <br />On GitHub, the HTML representation is unable to render, please try loading this page with nbviewer.org.</b></div><div class=\"sk-container\" hidden><div class=\"sk-item\"><div class=\"sk-estimator sk-toggleable\"><input class=\"sk-toggleable__control sk-hidden--visually\" id=\"sk-estimator-id-2\" type=\"checkbox\" checked><label for=\"sk-estimator-id-2\" class=\"sk-toggleable__label sk-toggleable__label-arrow\">DecisionTreeClassifier</label><div class=\"sk-toggleable__content\"><pre>DecisionTreeClassifier(criterion=&#x27;entropy&#x27;, random_state=10)</pre></div></div></div></div></div>"
      ],
      "text/plain": [
       "DecisionTreeClassifier(criterion='entropy', random_state=10)"
      ]
     },
     "execution_count": 56,
     "metadata": {},
     "output_type": "execute_result"
    }
   ],
   "source": [
    "dt2 = DecisionTreeClassifier(criterion='entropy',\n",
    "                          random_state=10)\n",
    "\n",
    "dt2.fit(X_train_clean, y_train)"
   ]
  },
  {
   "cell_type": "code",
   "execution_count": 57,
   "metadata": {
    "ExecuteTime": {
     "end_time": "2021-10-28T03:33:30.469779Z",
     "start_time": "2021-10-28T03:33:30.463825Z"
    },
    "hidden": true
   },
   "outputs": [
    {
     "data": {
      "text/plain": [
       "0.9700598802395209"
      ]
     },
     "execution_count": 57,
     "metadata": {},
     "output_type": "execute_result"
    }
   ],
   "source": [
    "dt2.score(X_test_clean, y_test)"
   ]
  },
  {
   "cell_type": "markdown",
   "metadata": {},
   "source": [
    "##### Changing the max_depth"
   ]
  },
  {
   "cell_type": "code",
   "execution_count": 58,
   "metadata": {},
   "outputs": [
    {
     "data": {
      "text/html": [
       "<style>#sk-container-id-3 {color: black;}#sk-container-id-3 pre{padding: 0;}#sk-container-id-3 div.sk-toggleable {background-color: white;}#sk-container-id-3 label.sk-toggleable__label {cursor: pointer;display: block;width: 100%;margin-bottom: 0;padding: 0.3em;box-sizing: border-box;text-align: center;}#sk-container-id-3 label.sk-toggleable__label-arrow:before {content: \"▸\";float: left;margin-right: 0.25em;color: #696969;}#sk-container-id-3 label.sk-toggleable__label-arrow:hover:before {color: black;}#sk-container-id-3 div.sk-estimator:hover label.sk-toggleable__label-arrow:before {color: black;}#sk-container-id-3 div.sk-toggleable__content {max-height: 0;max-width: 0;overflow: hidden;text-align: left;background-color: #f0f8ff;}#sk-container-id-3 div.sk-toggleable__content pre {margin: 0.2em;color: black;border-radius: 0.25em;background-color: #f0f8ff;}#sk-container-id-3 input.sk-toggleable__control:checked~div.sk-toggleable__content {max-height: 200px;max-width: 100%;overflow: auto;}#sk-container-id-3 input.sk-toggleable__control:checked~label.sk-toggleable__label-arrow:before {content: \"▾\";}#sk-container-id-3 div.sk-estimator input.sk-toggleable__control:checked~label.sk-toggleable__label {background-color: #d4ebff;}#sk-container-id-3 div.sk-label input.sk-toggleable__control:checked~label.sk-toggleable__label {background-color: #d4ebff;}#sk-container-id-3 input.sk-hidden--visually {border: 0;clip: rect(1px 1px 1px 1px);clip: rect(1px, 1px, 1px, 1px);height: 1px;margin: -1px;overflow: hidden;padding: 0;position: absolute;width: 1px;}#sk-container-id-3 div.sk-estimator {font-family: monospace;background-color: #f0f8ff;border: 1px dotted black;border-radius: 0.25em;box-sizing: border-box;margin-bottom: 0.5em;}#sk-container-id-3 div.sk-estimator:hover {background-color: #d4ebff;}#sk-container-id-3 div.sk-parallel-item::after {content: \"\";width: 100%;border-bottom: 1px solid gray;flex-grow: 1;}#sk-container-id-3 div.sk-label:hover label.sk-toggleable__label {background-color: #d4ebff;}#sk-container-id-3 div.sk-serial::before {content: \"\";position: absolute;border-left: 1px solid gray;box-sizing: border-box;top: 0;bottom: 0;left: 50%;z-index: 0;}#sk-container-id-3 div.sk-serial {display: flex;flex-direction: column;align-items: center;background-color: white;padding-right: 0.2em;padding-left: 0.2em;position: relative;}#sk-container-id-3 div.sk-item {position: relative;z-index: 1;}#sk-container-id-3 div.sk-parallel {display: flex;align-items: stretch;justify-content: center;background-color: white;position: relative;}#sk-container-id-3 div.sk-item::before, #sk-container-id-3 div.sk-parallel-item::before {content: \"\";position: absolute;border-left: 1px solid gray;box-sizing: border-box;top: 0;bottom: 0;left: 50%;z-index: -1;}#sk-container-id-3 div.sk-parallel-item {display: flex;flex-direction: column;z-index: 1;position: relative;background-color: white;}#sk-container-id-3 div.sk-parallel-item:first-child::after {align-self: flex-end;width: 50%;}#sk-container-id-3 div.sk-parallel-item:last-child::after {align-self: flex-start;width: 50%;}#sk-container-id-3 div.sk-parallel-item:only-child::after {width: 0;}#sk-container-id-3 div.sk-dashed-wrapped {border: 1px dashed gray;margin: 0 0.4em 0.5em 0.4em;box-sizing: border-box;padding-bottom: 0.4em;background-color: white;}#sk-container-id-3 div.sk-label label {font-family: monospace;font-weight: bold;display: inline-block;line-height: 1.2em;}#sk-container-id-3 div.sk-label-container {text-align: center;}#sk-container-id-3 div.sk-container {/* jupyter's `normalize.less` sets `[hidden] { display: none; }` but bootstrap.min.css set `[hidden] { display: none !important; }` so we also need the `!important` here to be able to override the default hidden behavior on the sphinx rendered scikit-learn.org. See: https://github.com/scikit-learn/scikit-learn/issues/21755 */display: inline-block !important;position: relative;}#sk-container-id-3 div.sk-text-repr-fallback {display: none;}</style><div id=\"sk-container-id-3\" class=\"sk-top-container\"><div class=\"sk-text-repr-fallback\"><pre>DecisionTreeClassifier(criterion=&#x27;entropy&#x27;, random_state=10)</pre><b>In a Jupyter environment, please rerun this cell to show the HTML representation or trust the notebook. <br />On GitHub, the HTML representation is unable to render, please try loading this page with nbviewer.org.</b></div><div class=\"sk-container\" hidden><div class=\"sk-item\"><div class=\"sk-estimator sk-toggleable\"><input class=\"sk-toggleable__control sk-hidden--visually\" id=\"sk-estimator-id-3\" type=\"checkbox\" checked><label for=\"sk-estimator-id-3\" class=\"sk-toggleable__label sk-toggleable__label-arrow\">DecisionTreeClassifier</label><div class=\"sk-toggleable__content\"><pre>DecisionTreeClassifier(criterion=&#x27;entropy&#x27;, random_state=10)</pre></div></div></div></div></div>"
      ],
      "text/plain": [
       "DecisionTreeClassifier(criterion='entropy', random_state=10)"
      ]
     },
     "execution_count": 58,
     "metadata": {},
     "output_type": "execute_result"
    }
   ],
   "source": [
    "# How much tho?\n",
    "dt3 = DecisionTreeClassifier(max_depth=None, criterion='entropy',\n",
    "                          random_state=10)\n",
    "\n",
    "dt3.fit(X_train_clean, y_train)"
   ]
  },
  {
   "cell_type": "code",
   "execution_count": 59,
   "metadata": {},
   "outputs": [
    {
     "data": {
      "text/plain": [
       "0.9700598802395209"
      ]
     },
     "execution_count": 59,
     "metadata": {},
     "output_type": "execute_result"
    }
   ],
   "source": [
    "dt3.score(X_test_clean, y_test)"
   ]
  },
  {
   "cell_type": "markdown",
   "metadata": {
    "heading_collapsed": true
   },
   "source": [
    "# Automatically Searching with Grid Search"
   ]
  },
  {
   "cell_type": "markdown",
   "metadata": {
    "hidden": true
   },
   "source": [
    "It's not a bad idea to experiment with the values of your models' hyperparameters a bit as you're getting a feel for your models' performance. But there are more systematic ways of going about the search for optimal hyperparameters. One method of hyperparameter tuning is **grid searching**. "
   ]
  },
  {
   "cell_type": "markdown",
   "metadata": {
    "hidden": true
   },
   "source": [
    "The idea is to build multiple models with different hyperparameter values and then see which one performs the best. The hyperparameters and the values to try form a sort of *grid* along which we are looking for the best performance. For example:\n",
    "\n",
    "\n",
    "    1           | 'minkowski' | 'uniform'\n",
    "    3           | 'manhattan' | 'distance'\n",
    "    5           |\n",
    "    ______________________________________\n",
    "    n_neighbors | metric      | weights"
   ]
  },
  {
   "cell_type": "markdown",
   "metadata": {
    "hidden": true
   },
   "source": [
    "Scikit-Learn has a [`GridSearchCV`](https://scikit-learn.org/stable/modules/generated/sklearn.model_selection.GridSearchCV.html) class whose `fit()` method runs this procedure. Note that this can be quite computationally expensive since:\n",
    "\n",
    "- A model is constructed for each combination of hyperparameter values that we input; and\n",
    "- Each model is cross-validated."
   ]
  },
  {
   "cell_type": "code",
   "execution_count": 60,
   "metadata": {},
   "outputs": [
    {
     "data": {
      "text/plain": [
       "60"
      ]
     },
     "execution_count": 60,
     "metadata": {},
     "output_type": "execute_result"
    }
   ],
   "source": [
    "3 * 2 * 2 * 5"
   ]
  },
  {
   "cell_type": "markdown",
   "metadata": {
    "heading_collapsed": true,
    "hidden": true
   },
   "source": [
    "### `GridSearchCV`"
   ]
  },
  {
   "cell_type": "code",
   "execution_count": 61,
   "metadata": {
    "ExecuteTime": {
     "end_time": "2021-10-28T03:33:34.611150Z",
     "start_time": "2021-10-28T03:33:34.608300Z"
    },
    "hidden": true
   },
   "outputs": [],
   "source": [
    "# Define the parameter grid\n",
    "\n",
    "grid = {'max_depth': [None, 2, 3, 4, 5], \n",
    "        'min_samples_split': [2, 3, 4, 5], \n",
    "        'min_samples_leaf': [1, 2, 3, 4]}"
   ]
  },
  {
   "cell_type": "markdown",
   "metadata": {
    "hidden": true
   },
   "source": [
    "**Question: How many models will we be constructing with this grid?**"
   ]
  },
  {
   "cell_type": "code",
   "execution_count": 62,
   "metadata": {},
   "outputs": [],
   "source": [
    "dt_model = DecisionTreeClassifier(random_state=10)"
   ]
  },
  {
   "cell_type": "code",
   "execution_count": 63,
   "metadata": {
    "ExecuteTime": {
     "end_time": "2021-10-28T03:33:35.802959Z",
     "start_time": "2021-10-28T03:33:35.800647Z"
    },
    "hidden": true
   },
   "outputs": [],
   "source": [
    "# Initialize the grid search object with five-fold cross-validation\n",
    "\n",
    "gs = GridSearchCV(estimator=dt_model, param_grid=grid, verbose=3)"
   ]
  },
  {
   "cell_type": "code",
   "execution_count": 64,
   "metadata": {
    "ExecuteTime": {
     "end_time": "2021-10-28T03:33:38.433413Z",
     "start_time": "2021-10-28T03:33:38.076112Z"
    },
    "hidden": true
   },
   "outputs": [
    {
     "name": "stdout",
     "output_type": "stream",
     "text": [
      "Fitting 5 folds for each of 80 candidates, totalling 400 fits\n",
      "[CV 1/5] END max_depth=None, min_samples_leaf=1, min_samples_split=2;, score=1.000 total time=   0.0s\n",
      "[CV 2/5] END max_depth=None, min_samples_leaf=1, min_samples_split=2;, score=0.939 total time=   0.0s\n",
      "[CV 3/5] END max_depth=None, min_samples_leaf=1, min_samples_split=2;, score=1.000 total time=   0.0s\n",
      "[CV 4/5] END max_depth=None, min_samples_leaf=1, min_samples_split=2;, score=0.939 total time=   0.0s\n",
      "[CV 5/5] END max_depth=None, min_samples_leaf=1, min_samples_split=2;, score=1.000 total time=   0.0s\n",
      "[CV 1/5] END max_depth=None, min_samples_leaf=1, min_samples_split=3;, score=1.000 total time=   0.0s\n",
      "[CV 2/5] END max_depth=None, min_samples_leaf=1, min_samples_split=3;, score=0.939 total time=   0.0s\n",
      "[CV 3/5] END max_depth=None, min_samples_leaf=1, min_samples_split=3;, score=1.000 total time=   0.0s\n",
      "[CV 4/5] END max_depth=None, min_samples_leaf=1, min_samples_split=3;, score=0.939 total time=   0.0s\n",
      "[CV 5/5] END max_depth=None, min_samples_leaf=1, min_samples_split=3;, score=1.000 total time=   0.0s\n",
      "[CV 1/5] END max_depth=None, min_samples_leaf=1, min_samples_split=4;, score=1.000 total time=   0.0s\n",
      "[CV 2/5] END max_depth=None, min_samples_leaf=1, min_samples_split=4;, score=0.939 total time=   0.0s\n",
      "[CV 3/5] END max_depth=None, min_samples_leaf=1, min_samples_split=4;, score=1.000 total time=   0.0s\n",
      "[CV 4/5] END max_depth=None, min_samples_leaf=1, min_samples_split=4;, score=0.939 total time=   0.0s\n",
      "[CV 5/5] END max_depth=None, min_samples_leaf=1, min_samples_split=4;, score=1.000 total time=   0.0s\n",
      "[CV 1/5] END max_depth=None, min_samples_leaf=1, min_samples_split=5;, score=1.000 total time=   0.0s\n",
      "[CV 2/5] END max_depth=None, min_samples_leaf=1, min_samples_split=5;, score=0.939 total time=   0.0s\n",
      "[CV 3/5] END max_depth=None, min_samples_leaf=1, min_samples_split=5;, score=1.000 total time=   0.0s\n",
      "[CV 4/5] END max_depth=None, min_samples_leaf=1, min_samples_split=5;, score=0.939 total time=   0.0s\n",
      "[CV 5/5] END max_depth=None, min_samples_leaf=1, min_samples_split=5;, score=1.000 total time=   0.0s\n",
      "[CV 1/5] END max_depth=None, min_samples_leaf=2, min_samples_split=2;, score=0.971 total time=   0.0s\n",
      "[CV 2/5] END max_depth=None, min_samples_leaf=2, min_samples_split=2;, score=0.939 total time=   0.0s\n",
      "[CV 3/5] END max_depth=None, min_samples_leaf=2, min_samples_split=2;, score=0.970 total time=   0.0s\n",
      "[CV 4/5] END max_depth=None, min_samples_leaf=2, min_samples_split=2;, score=0.939 total time=   0.0s\n",
      "[CV 5/5] END max_depth=None, min_samples_leaf=2, min_samples_split=2;, score=1.000 total time=   0.0s\n",
      "[CV 1/5] END max_depth=None, min_samples_leaf=2, min_samples_split=3;, score=0.971 total time=   0.0s\n",
      "[CV 2/5] END max_depth=None, min_samples_leaf=2, min_samples_split=3;, score=0.939 total time=   0.0s\n",
      "[CV 3/5] END max_depth=None, min_samples_leaf=2, min_samples_split=3;, score=0.970 total time=   0.0s\n",
      "[CV 4/5] END max_depth=None, min_samples_leaf=2, min_samples_split=3;, score=0.939 total time=   0.0s\n",
      "[CV 5/5] END max_depth=None, min_samples_leaf=2, min_samples_split=3;, score=1.000 total time=   0.0s\n",
      "[CV 1/5] END max_depth=None, min_samples_leaf=2, min_samples_split=4;, score=0.971 total time=   0.0s\n",
      "[CV 2/5] END max_depth=None, min_samples_leaf=2, min_samples_split=4;, score=0.939 total time=   0.0s\n",
      "[CV 3/5] END max_depth=None, min_samples_leaf=2, min_samples_split=4;, score=0.970 total time=   0.0s\n",
      "[CV 4/5] END max_depth=None, min_samples_leaf=2, min_samples_split=4;, score=0.939 total time=   0.0s\n",
      "[CV 5/5] END max_depth=None, min_samples_leaf=2, min_samples_split=4;, score=1.000 total time=   0.0s\n",
      "[CV 1/5] END max_depth=None, min_samples_leaf=2, min_samples_split=5;, score=0.971 total time=   0.0s\n",
      "[CV 2/5] END max_depth=None, min_samples_leaf=2, min_samples_split=5;, score=0.939 total time=   0.0s\n",
      "[CV 3/5] END max_depth=None, min_samples_leaf=2, min_samples_split=5;, score=0.970 total time=   0.0s\n",
      "[CV 4/5] END max_depth=None, min_samples_leaf=2, min_samples_split=5;, score=0.939 total time=   0.0s\n",
      "[CV 5/5] END max_depth=None, min_samples_leaf=2, min_samples_split=5;, score=1.000 total time=   0.0s\n",
      "[CV 1/5] END max_depth=None, min_samples_leaf=3, min_samples_split=2;, score=1.000 total time=   0.0s\n",
      "[CV 2/5] END max_depth=None, min_samples_leaf=3, min_samples_split=2;, score=0.939 total time=   0.0s\n",
      "[CV 3/5] END max_depth=None, min_samples_leaf=3, min_samples_split=2;, score=0.970 total time=   0.0s\n",
      "[CV 4/5] END max_depth=None, min_samples_leaf=3, min_samples_split=2;, score=0.909 total time=   0.0s\n",
      "[CV 5/5] END max_depth=None, min_samples_leaf=3, min_samples_split=2;, score=1.000 total time=   0.0s\n",
      "[CV 1/5] END max_depth=None, min_samples_leaf=3, min_samples_split=3;, score=1.000 total time=   0.0s\n",
      "[CV 2/5] END max_depth=None, min_samples_leaf=3, min_samples_split=3;, score=0.939 total time=   0.0s\n",
      "[CV 3/5] END max_depth=None, min_samples_leaf=3, min_samples_split=3;, score=0.970 total time=   0.0s\n",
      "[CV 4/5] END max_depth=None, min_samples_leaf=3, min_samples_split=3;, score=0.909 total time=   0.0s\n",
      "[CV 5/5] END max_depth=None, min_samples_leaf=3, min_samples_split=3;, score=1.000 total time=   0.0s\n",
      "[CV 1/5] END max_depth=None, min_samples_leaf=3, min_samples_split=4;, score=1.000 total time=   0.0s\n",
      "[CV 2/5] END max_depth=None, min_samples_leaf=3, min_samples_split=4;, score=0.939 total time=   0.0s\n",
      "[CV 3/5] END max_depth=None, min_samples_leaf=3, min_samples_split=4;, score=0.970 total time=   0.0s\n",
      "[CV 4/5] END max_depth=None, min_samples_leaf=3, min_samples_split=4;, score=0.909 total time=   0.0s\n",
      "[CV 5/5] END max_depth=None, min_samples_leaf=3, min_samples_split=4;, score=1.000 total time=   0.0s\n",
      "[CV 1/5] END max_depth=None, min_samples_leaf=3, min_samples_split=5;, score=1.000 total time=   0.0s\n",
      "[CV 2/5] END max_depth=None, min_samples_leaf=3, min_samples_split=5;, score=0.939 total time=   0.0s\n",
      "[CV 3/5] END max_depth=None, min_samples_leaf=3, min_samples_split=5;, score=0.970 total time=   0.0s\n",
      "[CV 4/5] END max_depth=None, min_samples_leaf=3, min_samples_split=5;, score=0.909 total time=   0.0s\n",
      "[CV 5/5] END max_depth=None, min_samples_leaf=3, min_samples_split=5;, score=1.000 total time=   0.0s\n",
      "[CV 1/5] END max_depth=None, min_samples_leaf=4, min_samples_split=2;, score=1.000 total time=   0.0s\n",
      "[CV 2/5] END max_depth=None, min_samples_leaf=4, min_samples_split=2;, score=0.879 total time=   0.0s\n",
      "[CV 3/5] END max_depth=None, min_samples_leaf=4, min_samples_split=2;, score=0.970 total time=   0.0s\n",
      "[CV 4/5] END max_depth=None, min_samples_leaf=4, min_samples_split=2;, score=0.909 total time=   0.0s\n",
      "[CV 5/5] END max_depth=None, min_samples_leaf=4, min_samples_split=2;, score=1.000 total time=   0.0s\n",
      "[CV 1/5] END max_depth=None, min_samples_leaf=4, min_samples_split=3;, score=1.000 total time=   0.0s\n",
      "[CV 2/5] END max_depth=None, min_samples_leaf=4, min_samples_split=3;, score=0.879 total time=   0.0s\n",
      "[CV 3/5] END max_depth=None, min_samples_leaf=4, min_samples_split=3;, score=0.970 total time=   0.0s\n",
      "[CV 4/5] END max_depth=None, min_samples_leaf=4, min_samples_split=3;, score=0.909 total time=   0.0s\n",
      "[CV 5/5] END max_depth=None, min_samples_leaf=4, min_samples_split=3;, score=1.000 total time=   0.0s\n",
      "[CV 1/5] END max_depth=None, min_samples_leaf=4, min_samples_split=4;, score=1.000 total time=   0.0s\n",
      "[CV 2/5] END max_depth=None, min_samples_leaf=4, min_samples_split=4;, score=0.879 total time=   0.0s\n",
      "[CV 3/5] END max_depth=None, min_samples_leaf=4, min_samples_split=4;, score=0.970 total time=   0.0s\n",
      "[CV 4/5] END max_depth=None, min_samples_leaf=4, min_samples_split=4;, score=0.909 total time=   0.0s\n",
      "[CV 5/5] END max_depth=None, min_samples_leaf=4, min_samples_split=4;, score=1.000 total time=   0.0s\n",
      "[CV 1/5] END max_depth=None, min_samples_leaf=4, min_samples_split=5;, score=1.000 total time=   0.0s\n",
      "[CV 2/5] END max_depth=None, min_samples_leaf=4, min_samples_split=5;, score=0.879 total time=   0.0s\n",
      "[CV 3/5] END max_depth=None, min_samples_leaf=4, min_samples_split=5;, score=0.970 total time=   0.0s\n",
      "[CV 4/5] END max_depth=None, min_samples_leaf=4, min_samples_split=5;, score=0.909 total time=   0.0s\n",
      "[CV 5/5] END max_depth=None, min_samples_leaf=4, min_samples_split=5;, score=1.000 total time=   0.0s\n",
      "[CV 1/5] END max_depth=2, min_samples_leaf=1, min_samples_split=2;, score=0.971 total time=   0.0s\n",
      "[CV 2/5] END max_depth=2, min_samples_leaf=1, min_samples_split=2;, score=0.879 total time=   0.0s\n",
      "[CV 3/5] END max_depth=2, min_samples_leaf=1, min_samples_split=2;, score=0.970 total time=   0.0s\n",
      "[CV 4/5] END max_depth=2, min_samples_leaf=1, min_samples_split=2;, score=0.909 total time=   0.0s\n",
      "[CV 5/5] END max_depth=2, min_samples_leaf=1, min_samples_split=2;, score=1.000 total time=   0.0s\n",
      "[CV 1/5] END max_depth=2, min_samples_leaf=1, min_samples_split=3;, score=0.971 total time=   0.0s\n",
      "[CV 2/5] END max_depth=2, min_samples_leaf=1, min_samples_split=3;, score=0.879 total time=   0.0s\n",
      "[CV 3/5] END max_depth=2, min_samples_leaf=1, min_samples_split=3;, score=0.970 total time=   0.0s\n",
      "[CV 4/5] END max_depth=2, min_samples_leaf=1, min_samples_split=3;, score=0.909 total time=   0.0s\n",
      "[CV 5/5] END max_depth=2, min_samples_leaf=1, min_samples_split=3;, score=1.000 total time=   0.0s\n",
      "[CV 1/5] END max_depth=2, min_samples_leaf=1, min_samples_split=4;, score=0.971 total time=   0.0s\n",
      "[CV 2/5] END max_depth=2, min_samples_leaf=1, min_samples_split=4;, score=0.879 total time=   0.0s\n",
      "[CV 3/5] END max_depth=2, min_samples_leaf=1, min_samples_split=4;, score=0.970 total time=   0.0s\n",
      "[CV 4/5] END max_depth=2, min_samples_leaf=1, min_samples_split=4;, score=0.909 total time=   0.0s\n",
      "[CV 5/5] END max_depth=2, min_samples_leaf=1, min_samples_split=4;, score=1.000 total time=   0.0s\n",
      "[CV 1/5] END max_depth=2, min_samples_leaf=1, min_samples_split=5;, score=0.971 total time=   0.0s\n",
      "[CV 2/5] END max_depth=2, min_samples_leaf=1, min_samples_split=5;, score=0.879 total time=   0.0s\n",
      "[CV 3/5] END max_depth=2, min_samples_leaf=1, min_samples_split=5;, score=0.970 total time=   0.0s\n",
      "[CV 4/5] END max_depth=2, min_samples_leaf=1, min_samples_split=5;, score=0.909 total time=   0.0s\n",
      "[CV 5/5] END max_depth=2, min_samples_leaf=1, min_samples_split=5;, score=1.000 total time=   0.0s\n",
      "[CV 1/5] END max_depth=2, min_samples_leaf=2, min_samples_split=2;, score=0.941 total time=   0.0s\n",
      "[CV 2/5] END max_depth=2, min_samples_leaf=2, min_samples_split=2;, score=0.879 total time=   0.0s\n",
      "[CV 3/5] END max_depth=2, min_samples_leaf=2, min_samples_split=2;, score=0.939 total time=   0.0s\n",
      "[CV 4/5] END max_depth=2, min_samples_leaf=2, min_samples_split=2;, score=0.909 total time=   0.0s\n",
      "[CV 5/5] END max_depth=2, min_samples_leaf=2, min_samples_split=2;, score=1.000 total time=   0.0s\n",
      "[CV 1/5] END max_depth=2, min_samples_leaf=2, min_samples_split=3;, score=0.941 total time=   0.0s\n",
      "[CV 2/5] END max_depth=2, min_samples_leaf=2, min_samples_split=3;, score=0.879 total time=   0.0s\n",
      "[CV 3/5] END max_depth=2, min_samples_leaf=2, min_samples_split=3;, score=0.939 total time=   0.0s\n",
      "[CV 4/5] END max_depth=2, min_samples_leaf=2, min_samples_split=3;, score=0.909 total time=   0.0s\n",
      "[CV 5/5] END max_depth=2, min_samples_leaf=2, min_samples_split=3;, score=1.000 total time=   0.0s\n",
      "[CV 1/5] END max_depth=2, min_samples_leaf=2, min_samples_split=4;, score=0.941 total time=   0.0s\n",
      "[CV 2/5] END max_depth=2, min_samples_leaf=2, min_samples_split=4;, score=0.879 total time=   0.0s\n",
      "[CV 3/5] END max_depth=2, min_samples_leaf=2, min_samples_split=4;, score=0.939 total time=   0.0s\n",
      "[CV 4/5] END max_depth=2, min_samples_leaf=2, min_samples_split=4;, score=0.909 total time=   0.0s\n",
      "[CV 5/5] END max_depth=2, min_samples_leaf=2, min_samples_split=4;, score=1.000 total time=   0.0s\n",
      "[CV 1/5] END max_depth=2, min_samples_leaf=2, min_samples_split=5;, score=0.941 total time=   0.0s\n",
      "[CV 2/5] END max_depth=2, min_samples_leaf=2, min_samples_split=5;, score=0.879 total time=   0.0s\n",
      "[CV 3/5] END max_depth=2, min_samples_leaf=2, min_samples_split=5;, score=0.939 total time=   0.0s\n",
      "[CV 4/5] END max_depth=2, min_samples_leaf=2, min_samples_split=5;, score=0.909 total time=   0.0s\n",
      "[CV 5/5] END max_depth=2, min_samples_leaf=2, min_samples_split=5;, score=1.000 total time=   0.0s\n",
      "[CV 1/5] END max_depth=2, min_samples_leaf=3, min_samples_split=2;, score=0.971 total time=   0.0s\n",
      "[CV 2/5] END max_depth=2, min_samples_leaf=3, min_samples_split=2;, score=0.879 total time=   0.0s\n",
      "[CV 3/5] END max_depth=2, min_samples_leaf=3, min_samples_split=2;, score=0.970 total time=   0.0s\n",
      "[CV 4/5] END max_depth=2, min_samples_leaf=3, min_samples_split=2;, score=0.909 total time=   0.0s\n",
      "[CV 5/5] END max_depth=2, min_samples_leaf=3, min_samples_split=2;, score=1.000 total time=   0.0s\n",
      "[CV 1/5] END max_depth=2, min_samples_leaf=3, min_samples_split=3;, score=0.971 total time=   0.0s\n",
      "[CV 2/5] END max_depth=2, min_samples_leaf=3, min_samples_split=3;, score=0.879 total time=   0.0s\n",
      "[CV 3/5] END max_depth=2, min_samples_leaf=3, min_samples_split=3;, score=0.970 total time=   0.0s\n",
      "[CV 4/5] END max_depth=2, min_samples_leaf=3, min_samples_split=3;, score=0.909 total time=   0.0s\n",
      "[CV 5/5] END max_depth=2, min_samples_leaf=3, min_samples_split=3;, score=1.000 total time=   0.0s\n",
      "[CV 1/5] END max_depth=2, min_samples_leaf=3, min_samples_split=4;, score=0.971 total time=   0.0s\n",
      "[CV 2/5] END max_depth=2, min_samples_leaf=3, min_samples_split=4;, score=0.879 total time=   0.0s\n",
      "[CV 3/5] END max_depth=2, min_samples_leaf=3, min_samples_split=4;, score=0.970 total time=   0.0s\n",
      "[CV 4/5] END max_depth=2, min_samples_leaf=3, min_samples_split=4;, score=0.909 total time=   0.0s\n",
      "[CV 5/5] END max_depth=2, min_samples_leaf=3, min_samples_split=4;, score=1.000 total time=   0.0s\n",
      "[CV 1/5] END max_depth=2, min_samples_leaf=3, min_samples_split=5;, score=0.971 total time=   0.0s\n",
      "[CV 2/5] END max_depth=2, min_samples_leaf=3, min_samples_split=5;, score=0.879 total time=   0.0s\n",
      "[CV 3/5] END max_depth=2, min_samples_leaf=3, min_samples_split=5;, score=0.970 total time=   0.0s\n",
      "[CV 4/5] END max_depth=2, min_samples_leaf=3, min_samples_split=5;, score=0.909 total time=   0.0s\n",
      "[CV 5/5] END max_depth=2, min_samples_leaf=3, min_samples_split=5;, score=1.000 total time=   0.0s\n",
      "[CV 1/5] END max_depth=2, min_samples_leaf=4, min_samples_split=2;, score=0.971 total time=   0.0s\n",
      "[CV 2/5] END max_depth=2, min_samples_leaf=4, min_samples_split=2;, score=0.879 total time=   0.0s\n",
      "[CV 3/5] END max_depth=2, min_samples_leaf=4, min_samples_split=2;, score=0.970 total time=   0.0s\n",
      "[CV 4/5] END max_depth=2, min_samples_leaf=4, min_samples_split=2;, score=0.909 total time=   0.0s\n",
      "[CV 5/5] END max_depth=2, min_samples_leaf=4, min_samples_split=2;, score=1.000 total time=   0.0s\n",
      "[CV 1/5] END max_depth=2, min_samples_leaf=4, min_samples_split=3;, score=0.971 total time=   0.0s\n",
      "[CV 2/5] END max_depth=2, min_samples_leaf=4, min_samples_split=3;, score=0.879 total time=   0.0s\n",
      "[CV 3/5] END max_depth=2, min_samples_leaf=4, min_samples_split=3;, score=0.970 total time=   0.0s\n",
      "[CV 4/5] END max_depth=2, min_samples_leaf=4, min_samples_split=3;, score=0.909 total time=   0.0s\n",
      "[CV 5/5] END max_depth=2, min_samples_leaf=4, min_samples_split=3;, score=1.000 total time=   0.0s\n",
      "[CV 1/5] END max_depth=2, min_samples_leaf=4, min_samples_split=4;, score=0.971 total time=   0.0s\n",
      "[CV 2/5] END max_depth=2, min_samples_leaf=4, min_samples_split=4;, score=0.879 total time=   0.0s\n",
      "[CV 3/5] END max_depth=2, min_samples_leaf=4, min_samples_split=4;, score=0.970 total time=   0.0s\n",
      "[CV 4/5] END max_depth=2, min_samples_leaf=4, min_samples_split=4;, score=0.909 total time=   0.0s\n",
      "[CV 5/5] END max_depth=2, min_samples_leaf=4, min_samples_split=4;, score=1.000 total time=   0.0s\n",
      "[CV 1/5] END max_depth=2, min_samples_leaf=4, min_samples_split=5;, score=0.971 total time=   0.0s\n",
      "[CV 2/5] END max_depth=2, min_samples_leaf=4, min_samples_split=5;, score=0.879 total time=   0.0s\n",
      "[CV 3/5] END max_depth=2, min_samples_leaf=4, min_samples_split=5;, score=0.970 total time=   0.0s\n",
      "[CV 4/5] END max_depth=2, min_samples_leaf=4, min_samples_split=5;, score=0.909 total time=   0.0s\n",
      "[CV 5/5] END max_depth=2, min_samples_leaf=4, min_samples_split=5;, score=1.000 total time=   0.0s\n",
      "[CV 1/5] END max_depth=3, min_samples_leaf=1, min_samples_split=2;, score=1.000 total time=   0.0s\n",
      "[CV 2/5] END max_depth=3, min_samples_leaf=1, min_samples_split=2;, score=0.939 total time=   0.0s\n",
      "[CV 3/5] END max_depth=3, min_samples_leaf=1, min_samples_split=2;, score=0.970 total time=   0.0s\n",
      "[CV 4/5] END max_depth=3, min_samples_leaf=1, min_samples_split=2;, score=0.909 total time=   0.0s\n",
      "[CV 5/5] END max_depth=3, min_samples_leaf=1, min_samples_split=2;, score=1.000 total time=   0.0s\n",
      "[CV 1/5] END max_depth=3, min_samples_leaf=1, min_samples_split=3;, score=1.000 total time=   0.0s\n",
      "[CV 2/5] END max_depth=3, min_samples_leaf=1, min_samples_split=3;, score=0.939 total time=   0.0s\n",
      "[CV 3/5] END max_depth=3, min_samples_leaf=1, min_samples_split=3;, score=0.970 total time=   0.0s\n",
      "[CV 4/5] END max_depth=3, min_samples_leaf=1, min_samples_split=3;, score=0.909 total time=   0.0s\n",
      "[CV 5/5] END max_depth=3, min_samples_leaf=1, min_samples_split=3;, score=1.000 total time=   0.0s\n",
      "[CV 1/5] END max_depth=3, min_samples_leaf=1, min_samples_split=4;, score=1.000 total time=   0.0s\n",
      "[CV 2/5] END max_depth=3, min_samples_leaf=1, min_samples_split=4;, score=0.939 total time=   0.0s\n",
      "[CV 3/5] END max_depth=3, min_samples_leaf=1, min_samples_split=4;, score=0.970 total time=   0.0s\n",
      "[CV 4/5] END max_depth=3, min_samples_leaf=1, min_samples_split=4;, score=0.909 total time=   0.0s\n",
      "[CV 5/5] END max_depth=3, min_samples_leaf=1, min_samples_split=4;, score=1.000 total time=   0.0s\n",
      "[CV 1/5] END max_depth=3, min_samples_leaf=1, min_samples_split=5;, score=1.000 total time=   0.0s\n",
      "[CV 2/5] END max_depth=3, min_samples_leaf=1, min_samples_split=5;, score=0.939 total time=   0.0s\n",
      "[CV 3/5] END max_depth=3, min_samples_leaf=1, min_samples_split=5;, score=0.970 total time=   0.0s\n",
      "[CV 4/5] END max_depth=3, min_samples_leaf=1, min_samples_split=5;, score=0.909 total time=   0.0s\n",
      "[CV 5/5] END max_depth=3, min_samples_leaf=1, min_samples_split=5;, score=1.000 total time=   0.0s\n",
      "[CV 1/5] END max_depth=3, min_samples_leaf=2, min_samples_split=2;, score=0.971 total time=   0.0s\n",
      "[CV 2/5] END max_depth=3, min_samples_leaf=2, min_samples_split=2;, score=0.939 total time=   0.0s\n",
      "[CV 3/5] END max_depth=3, min_samples_leaf=2, min_samples_split=2;, score=0.939 total time=   0.0s\n",
      "[CV 4/5] END max_depth=3, min_samples_leaf=2, min_samples_split=2;, score=0.909 total time=   0.0s\n",
      "[CV 5/5] END max_depth=3, min_samples_leaf=2, min_samples_split=2;, score=1.000 total time=   0.0s\n",
      "[CV 1/5] END max_depth=3, min_samples_leaf=2, min_samples_split=3;, score=0.971 total time=   0.0s\n",
      "[CV 2/5] END max_depth=3, min_samples_leaf=2, min_samples_split=3;, score=0.939 total time=   0.0s\n",
      "[CV 3/5] END max_depth=3, min_samples_leaf=2, min_samples_split=3;, score=0.939 total time=   0.0s\n",
      "[CV 4/5] END max_depth=3, min_samples_leaf=2, min_samples_split=3;, score=0.909 total time=   0.0s\n",
      "[CV 5/5] END max_depth=3, min_samples_leaf=2, min_samples_split=3;, score=1.000 total time=   0.0s\n",
      "[CV 1/5] END max_depth=3, min_samples_leaf=2, min_samples_split=4;, score=0.971 total time=   0.0s\n",
      "[CV 2/5] END max_depth=3, min_samples_leaf=2, min_samples_split=4;, score=0.939 total time=   0.0s\n",
      "[CV 3/5] END max_depth=3, min_samples_leaf=2, min_samples_split=4;, score=0.939 total time=   0.0s\n",
      "[CV 4/5] END max_depth=3, min_samples_leaf=2, min_samples_split=4;, score=0.909 total time=   0.0s\n",
      "[CV 5/5] END max_depth=3, min_samples_leaf=2, min_samples_split=4;, score=1.000 total time=   0.0s\n",
      "[CV 1/5] END max_depth=3, min_samples_leaf=2, min_samples_split=5;, score=0.971 total time=   0.0s\n",
      "[CV 2/5] END max_depth=3, min_samples_leaf=2, min_samples_split=5;, score=0.939 total time=   0.0s\n",
      "[CV 3/5] END max_depth=3, min_samples_leaf=2, min_samples_split=5;, score=0.939 total time=   0.0s\n",
      "[CV 4/5] END max_depth=3, min_samples_leaf=2, min_samples_split=5;, score=0.909 total time=   0.0s\n",
      "[CV 5/5] END max_depth=3, min_samples_leaf=2, min_samples_split=5;, score=1.000 total time=   0.0s\n",
      "[CV 1/5] END max_depth=3, min_samples_leaf=3, min_samples_split=2;, score=1.000 total time=   0.0s\n",
      "[CV 2/5] END max_depth=3, min_samples_leaf=3, min_samples_split=2;, score=0.939 total time=   0.0s\n",
      "[CV 3/5] END max_depth=3, min_samples_leaf=3, min_samples_split=2;, score=0.970 total time=   0.0s\n",
      "[CV 4/5] END max_depth=3, min_samples_leaf=3, min_samples_split=2;, score=0.909 total time=   0.0s\n",
      "[CV 5/5] END max_depth=3, min_samples_leaf=3, min_samples_split=2;, score=1.000 total time=   0.0s\n",
      "[CV 1/5] END max_depth=3, min_samples_leaf=3, min_samples_split=3;, score=1.000 total time=   0.0s\n",
      "[CV 2/5] END max_depth=3, min_samples_leaf=3, min_samples_split=3;, score=0.939 total time=   0.0s\n",
      "[CV 3/5] END max_depth=3, min_samples_leaf=3, min_samples_split=3;, score=0.970 total time=   0.0s\n",
      "[CV 4/5] END max_depth=3, min_samples_leaf=3, min_samples_split=3;, score=0.909 total time=   0.0s\n",
      "[CV 5/5] END max_depth=3, min_samples_leaf=3, min_samples_split=3;, score=1.000 total time=   0.0s\n",
      "[CV 1/5] END max_depth=3, min_samples_leaf=3, min_samples_split=4;, score=1.000 total time=   0.0s\n",
      "[CV 2/5] END max_depth=3, min_samples_leaf=3, min_samples_split=4;, score=0.939 total time=   0.0s\n",
      "[CV 3/5] END max_depth=3, min_samples_leaf=3, min_samples_split=4;, score=0.970 total time=   0.0s\n",
      "[CV 4/5] END max_depth=3, min_samples_leaf=3, min_samples_split=4;, score=0.909 total time=   0.0s\n",
      "[CV 5/5] END max_depth=3, min_samples_leaf=3, min_samples_split=4;, score=1.000 total time=   0.0s\n",
      "[CV 1/5] END max_depth=3, min_samples_leaf=3, min_samples_split=5;, score=1.000 total time=   0.0s\n",
      "[CV 2/5] END max_depth=3, min_samples_leaf=3, min_samples_split=5;, score=0.939 total time=   0.0s\n",
      "[CV 3/5] END max_depth=3, min_samples_leaf=3, min_samples_split=5;, score=0.970 total time=   0.0s\n",
      "[CV 4/5] END max_depth=3, min_samples_leaf=3, min_samples_split=5;, score=0.909 total time=   0.0s\n",
      "[CV 5/5] END max_depth=3, min_samples_leaf=3, min_samples_split=5;, score=1.000 total time=   0.0s\n",
      "[CV 1/5] END max_depth=3, min_samples_leaf=4, min_samples_split=2;, score=1.000 total time=   0.0s\n",
      "[CV 2/5] END max_depth=3, min_samples_leaf=4, min_samples_split=2;, score=0.879 total time=   0.0s\n",
      "[CV 3/5] END max_depth=3, min_samples_leaf=4, min_samples_split=2;, score=0.970 total time=   0.0s\n",
      "[CV 4/5] END max_depth=3, min_samples_leaf=4, min_samples_split=2;, score=0.909 total time=   0.0s\n",
      "[CV 5/5] END max_depth=3, min_samples_leaf=4, min_samples_split=2;, score=1.000 total time=   0.0s\n",
      "[CV 1/5] END max_depth=3, min_samples_leaf=4, min_samples_split=3;, score=1.000 total time=   0.0s\n",
      "[CV 2/5] END max_depth=3, min_samples_leaf=4, min_samples_split=3;, score=0.879 total time=   0.0s\n",
      "[CV 3/5] END max_depth=3, min_samples_leaf=4, min_samples_split=3;, score=0.970 total time=   0.0s\n",
      "[CV 4/5] END max_depth=3, min_samples_leaf=4, min_samples_split=3;, score=0.909 total time=   0.0s\n",
      "[CV 5/5] END max_depth=3, min_samples_leaf=4, min_samples_split=3;, score=1.000 total time=   0.0s\n",
      "[CV 1/5] END max_depth=3, min_samples_leaf=4, min_samples_split=4;, score=1.000 total time=   0.0s\n",
      "[CV 2/5] END max_depth=3, min_samples_leaf=4, min_samples_split=4;, score=0.879 total time=   0.0s\n",
      "[CV 3/5] END max_depth=3, min_samples_leaf=4, min_samples_split=4;, score=0.970 total time=   0.0s\n",
      "[CV 4/5] END max_depth=3, min_samples_leaf=4, min_samples_split=4;, score=0.909 total time=   0.0s\n",
      "[CV 5/5] END max_depth=3, min_samples_leaf=4, min_samples_split=4;, score=1.000 total time=   0.0s\n",
      "[CV 1/5] END max_depth=3, min_samples_leaf=4, min_samples_split=5;, score=1.000 total time=   0.0s\n",
      "[CV 2/5] END max_depth=3, min_samples_leaf=4, min_samples_split=5;, score=0.879 total time=   0.0s\n",
      "[CV 3/5] END max_depth=3, min_samples_leaf=4, min_samples_split=5;, score=0.970 total time=   0.0s\n",
      "[CV 4/5] END max_depth=3, min_samples_leaf=4, min_samples_split=5;, score=0.909 total time=   0.0s\n",
      "[CV 5/5] END max_depth=3, min_samples_leaf=4, min_samples_split=5;, score=1.000 total time=   0.0s\n",
      "[CV 1/5] END max_depth=4, min_samples_leaf=1, min_samples_split=2;, score=1.000 total time=   0.0s\n",
      "[CV 2/5] END max_depth=4, min_samples_leaf=1, min_samples_split=2;, score=0.939 total time=   0.0s\n",
      "[CV 3/5] END max_depth=4, min_samples_leaf=1, min_samples_split=2;, score=1.000 total time=   0.0s\n",
      "[CV 4/5] END max_depth=4, min_samples_leaf=1, min_samples_split=2;, score=0.939 total time=   0.0s\n",
      "[CV 5/5] END max_depth=4, min_samples_leaf=1, min_samples_split=2;, score=1.000 total time=   0.0s\n",
      "[CV 1/5] END max_depth=4, min_samples_leaf=1, min_samples_split=3;, score=1.000 total time=   0.0s\n",
      "[CV 2/5] END max_depth=4, min_samples_leaf=1, min_samples_split=3;, score=0.939 total time=   0.0s\n",
      "[CV 3/5] END max_depth=4, min_samples_leaf=1, min_samples_split=3;, score=1.000 total time=   0.0s\n",
      "[CV 4/5] END max_depth=4, min_samples_leaf=1, min_samples_split=3;, score=0.939 total time=   0.0s\n",
      "[CV 5/5] END max_depth=4, min_samples_leaf=1, min_samples_split=3;, score=1.000 total time=   0.0s\n",
      "[CV 1/5] END max_depth=4, min_samples_leaf=1, min_samples_split=4;, score=1.000 total time=   0.0s\n",
      "[CV 2/5] END max_depth=4, min_samples_leaf=1, min_samples_split=4;, score=0.939 total time=   0.0s\n",
      "[CV 3/5] END max_depth=4, min_samples_leaf=1, min_samples_split=4;, score=1.000 total time=   0.0s\n",
      "[CV 4/5] END max_depth=4, min_samples_leaf=1, min_samples_split=4;, score=0.939 total time=   0.0s\n",
      "[CV 5/5] END max_depth=4, min_samples_leaf=1, min_samples_split=4;, score=1.000 total time=   0.0s\n",
      "[CV 1/5] END max_depth=4, min_samples_leaf=1, min_samples_split=5;, score=1.000 total time=   0.0s\n",
      "[CV 2/5] END max_depth=4, min_samples_leaf=1, min_samples_split=5;, score=0.939 total time=   0.0s\n",
      "[CV 3/5] END max_depth=4, min_samples_leaf=1, min_samples_split=5;, score=1.000 total time=   0.0s\n",
      "[CV 4/5] END max_depth=4, min_samples_leaf=1, min_samples_split=5;, score=0.939 total time=   0.0s\n",
      "[CV 5/5] END max_depth=4, min_samples_leaf=1, min_samples_split=5;, score=1.000 total time=   0.0s\n",
      "[CV 1/5] END max_depth=4, min_samples_leaf=2, min_samples_split=2;, score=0.971 total time=   0.0s\n",
      "[CV 2/5] END max_depth=4, min_samples_leaf=2, min_samples_split=2;, score=0.939 total time=   0.0s\n",
      "[CV 3/5] END max_depth=4, min_samples_leaf=2, min_samples_split=2;, score=0.970 total time=   0.0s\n",
      "[CV 4/5] END max_depth=4, min_samples_leaf=2, min_samples_split=2;, score=0.939 total time=   0.0s\n",
      "[CV 5/5] END max_depth=4, min_samples_leaf=2, min_samples_split=2;, score=1.000 total time=   0.0s\n",
      "[CV 1/5] END max_depth=4, min_samples_leaf=2, min_samples_split=3;, score=0.971 total time=   0.0s\n",
      "[CV 2/5] END max_depth=4, min_samples_leaf=2, min_samples_split=3;, score=0.939 total time=   0.0s\n",
      "[CV 3/5] END max_depth=4, min_samples_leaf=2, min_samples_split=3;, score=0.970 total time=   0.0s\n",
      "[CV 4/5] END max_depth=4, min_samples_leaf=2, min_samples_split=3;, score=0.939 total time=   0.0s\n",
      "[CV 5/5] END max_depth=4, min_samples_leaf=2, min_samples_split=3;, score=1.000 total time=   0.0s\n",
      "[CV 1/5] END max_depth=4, min_samples_leaf=2, min_samples_split=4;, score=0.971 total time=   0.0s\n",
      "[CV 2/5] END max_depth=4, min_samples_leaf=2, min_samples_split=4;, score=0.939 total time=   0.0s\n",
      "[CV 3/5] END max_depth=4, min_samples_leaf=2, min_samples_split=4;, score=0.970 total time=   0.0s\n",
      "[CV 4/5] END max_depth=4, min_samples_leaf=2, min_samples_split=4;, score=0.939 total time=   0.0s\n",
      "[CV 5/5] END max_depth=4, min_samples_leaf=2, min_samples_split=4;, score=1.000 total time=   0.0s\n",
      "[CV 1/5] END max_depth=4, min_samples_leaf=2, min_samples_split=5;, score=0.971 total time=   0.0s\n",
      "[CV 2/5] END max_depth=4, min_samples_leaf=2, min_samples_split=5;, score=0.939 total time=   0.0s\n",
      "[CV 3/5] END max_depth=4, min_samples_leaf=2, min_samples_split=5;, score=0.970 total time=   0.0s\n",
      "[CV 4/5] END max_depth=4, min_samples_leaf=2, min_samples_split=5;, score=0.939 total time=   0.0s\n",
      "[CV 5/5] END max_depth=4, min_samples_leaf=2, min_samples_split=5;, score=1.000 total time=   0.0s\n",
      "[CV 1/5] END max_depth=4, min_samples_leaf=3, min_samples_split=2;, score=1.000 total time=   0.0s\n",
      "[CV 2/5] END max_depth=4, min_samples_leaf=3, min_samples_split=2;, score=0.939 total time=   0.0s\n",
      "[CV 3/5] END max_depth=4, min_samples_leaf=3, min_samples_split=2;, score=0.970 total time=   0.0s\n",
      "[CV 4/5] END max_depth=4, min_samples_leaf=3, min_samples_split=2;, score=0.909 total time=   0.0s\n",
      "[CV 5/5] END max_depth=4, min_samples_leaf=3, min_samples_split=2;, score=1.000 total time=   0.0s\n",
      "[CV 1/5] END max_depth=4, min_samples_leaf=3, min_samples_split=3;, score=1.000 total time=   0.0s\n",
      "[CV 2/5] END max_depth=4, min_samples_leaf=3, min_samples_split=3;, score=0.939 total time=   0.0s\n",
      "[CV 3/5] END max_depth=4, min_samples_leaf=3, min_samples_split=3;, score=0.970 total time=   0.0s\n",
      "[CV 4/5] END max_depth=4, min_samples_leaf=3, min_samples_split=3;, score=0.909 total time=   0.0s\n",
      "[CV 5/5] END max_depth=4, min_samples_leaf=3, min_samples_split=3;, score=1.000 total time=   0.0s\n",
      "[CV 1/5] END max_depth=4, min_samples_leaf=3, min_samples_split=4;, score=1.000 total time=   0.0s\n",
      "[CV 2/5] END max_depth=4, min_samples_leaf=3, min_samples_split=4;, score=0.939 total time=   0.0s\n",
      "[CV 3/5] END max_depth=4, min_samples_leaf=3, min_samples_split=4;, score=0.970 total time=   0.0s\n",
      "[CV 4/5] END max_depth=4, min_samples_leaf=3, min_samples_split=4;, score=0.909 total time=   0.0s\n",
      "[CV 5/5] END max_depth=4, min_samples_leaf=3, min_samples_split=4;, score=1.000 total time=   0.0s\n",
      "[CV 1/5] END max_depth=4, min_samples_leaf=3, min_samples_split=5;, score=1.000 total time=   0.0s\n",
      "[CV 2/5] END max_depth=4, min_samples_leaf=3, min_samples_split=5;, score=0.939 total time=   0.0s\n",
      "[CV 3/5] END max_depth=4, min_samples_leaf=3, min_samples_split=5;, score=0.970 total time=   0.0s\n",
      "[CV 4/5] END max_depth=4, min_samples_leaf=3, min_samples_split=5;, score=0.909 total time=   0.0s\n",
      "[CV 5/5] END max_depth=4, min_samples_leaf=3, min_samples_split=5;, score=1.000 total time=   0.0s\n",
      "[CV 1/5] END max_depth=4, min_samples_leaf=4, min_samples_split=2;, score=1.000 total time=   0.0s\n",
      "[CV 2/5] END max_depth=4, min_samples_leaf=4, min_samples_split=2;, score=0.879 total time=   0.0s\n",
      "[CV 3/5] END max_depth=4, min_samples_leaf=4, min_samples_split=2;, score=0.970 total time=   0.0s\n",
      "[CV 4/5] END max_depth=4, min_samples_leaf=4, min_samples_split=2;, score=0.909 total time=   0.0s\n",
      "[CV 5/5] END max_depth=4, min_samples_leaf=4, min_samples_split=2;, score=1.000 total time=   0.0s\n",
      "[CV 1/5] END max_depth=4, min_samples_leaf=4, min_samples_split=3;, score=1.000 total time=   0.0s\n",
      "[CV 2/5] END max_depth=4, min_samples_leaf=4, min_samples_split=3;, score=0.879 total time=   0.0s\n",
      "[CV 3/5] END max_depth=4, min_samples_leaf=4, min_samples_split=3;, score=0.970 total time=   0.0s\n",
      "[CV 4/5] END max_depth=4, min_samples_leaf=4, min_samples_split=3;, score=0.909 total time=   0.0s\n",
      "[CV 5/5] END max_depth=4, min_samples_leaf=4, min_samples_split=3;, score=1.000 total time=   0.0s\n",
      "[CV 1/5] END max_depth=4, min_samples_leaf=4, min_samples_split=4;, score=1.000 total time=   0.0s\n",
      "[CV 2/5] END max_depth=4, min_samples_leaf=4, min_samples_split=4;, score=0.879 total time=   0.0s\n",
      "[CV 3/5] END max_depth=4, min_samples_leaf=4, min_samples_split=4;, score=0.970 total time=   0.0s\n",
      "[CV 4/5] END max_depth=4, min_samples_leaf=4, min_samples_split=4;, score=0.909 total time=   0.0s\n",
      "[CV 5/5] END max_depth=4, min_samples_leaf=4, min_samples_split=4;, score=1.000 total time=   0.0s\n",
      "[CV 1/5] END max_depth=4, min_samples_leaf=4, min_samples_split=5;, score=1.000 total time=   0.0s\n",
      "[CV 2/5] END max_depth=4, min_samples_leaf=4, min_samples_split=5;, score=0.879 total time=   0.0s\n",
      "[CV 3/5] END max_depth=4, min_samples_leaf=4, min_samples_split=5;, score=0.970 total time=   0.0s\n",
      "[CV 4/5] END max_depth=4, min_samples_leaf=4, min_samples_split=5;, score=0.909 total time=   0.0s\n",
      "[CV 5/5] END max_depth=4, min_samples_leaf=4, min_samples_split=5;, score=1.000 total time=   0.0s\n",
      "[CV 1/5] END max_depth=5, min_samples_leaf=1, min_samples_split=2;, score=1.000 total time=   0.0s\n",
      "[CV 2/5] END max_depth=5, min_samples_leaf=1, min_samples_split=2;, score=0.939 total time=   0.0s\n",
      "[CV 3/5] END max_depth=5, min_samples_leaf=1, min_samples_split=2;, score=1.000 total time=   0.0s\n",
      "[CV 4/5] END max_depth=5, min_samples_leaf=1, min_samples_split=2;, score=0.939 total time=   0.0s\n",
      "[CV 5/5] END max_depth=5, min_samples_leaf=1, min_samples_split=2;, score=1.000 total time=   0.0s\n",
      "[CV 1/5] END max_depth=5, min_samples_leaf=1, min_samples_split=3;, score=1.000 total time=   0.0s\n",
      "[CV 2/5] END max_depth=5, min_samples_leaf=1, min_samples_split=3;, score=0.939 total time=   0.0s\n",
      "[CV 3/5] END max_depth=5, min_samples_leaf=1, min_samples_split=3;, score=1.000 total time=   0.0s\n",
      "[CV 4/5] END max_depth=5, min_samples_leaf=1, min_samples_split=3;, score=0.939 total time=   0.0s\n",
      "[CV 5/5] END max_depth=5, min_samples_leaf=1, min_samples_split=3;, score=1.000 total time=   0.0s\n",
      "[CV 1/5] END max_depth=5, min_samples_leaf=1, min_samples_split=4;, score=1.000 total time=   0.0s\n",
      "[CV 2/5] END max_depth=5, min_samples_leaf=1, min_samples_split=4;, score=0.939 total time=   0.0s\n",
      "[CV 3/5] END max_depth=5, min_samples_leaf=1, min_samples_split=4;, score=1.000 total time=   0.0s\n",
      "[CV 4/5] END max_depth=5, min_samples_leaf=1, min_samples_split=4;, score=0.939 total time=   0.0s\n",
      "[CV 5/5] END max_depth=5, min_samples_leaf=1, min_samples_split=4;, score=1.000 total time=   0.0s\n",
      "[CV 1/5] END max_depth=5, min_samples_leaf=1, min_samples_split=5;, score=1.000 total time=   0.0s\n",
      "[CV 2/5] END max_depth=5, min_samples_leaf=1, min_samples_split=5;, score=0.939 total time=   0.0s\n",
      "[CV 3/5] END max_depth=5, min_samples_leaf=1, min_samples_split=5;, score=1.000 total time=   0.0s\n",
      "[CV 4/5] END max_depth=5, min_samples_leaf=1, min_samples_split=5;, score=0.939 total time=   0.0s\n",
      "[CV 5/5] END max_depth=5, min_samples_leaf=1, min_samples_split=5;, score=1.000 total time=   0.0s\n",
      "[CV 1/5] END max_depth=5, min_samples_leaf=2, min_samples_split=2;, score=0.971 total time=   0.0s\n",
      "[CV 2/5] END max_depth=5, min_samples_leaf=2, min_samples_split=2;, score=0.939 total time=   0.0s\n",
      "[CV 3/5] END max_depth=5, min_samples_leaf=2, min_samples_split=2;, score=0.970 total time=   0.0s\n",
      "[CV 4/5] END max_depth=5, min_samples_leaf=2, min_samples_split=2;, score=0.939 total time=   0.0s\n",
      "[CV 5/5] END max_depth=5, min_samples_leaf=2, min_samples_split=2;, score=1.000 total time=   0.0s\n",
      "[CV 1/5] END max_depth=5, min_samples_leaf=2, min_samples_split=3;, score=0.971 total time=   0.0s\n",
      "[CV 2/5] END max_depth=5, min_samples_leaf=2, min_samples_split=3;, score=0.939 total time=   0.0s\n",
      "[CV 3/5] END max_depth=5, min_samples_leaf=2, min_samples_split=3;, score=0.970 total time=   0.0s\n",
      "[CV 4/5] END max_depth=5, min_samples_leaf=2, min_samples_split=3;, score=0.939 total time=   0.0s\n",
      "[CV 5/5] END max_depth=5, min_samples_leaf=2, min_samples_split=3;, score=1.000 total time=   0.0s\n",
      "[CV 1/5] END max_depth=5, min_samples_leaf=2, min_samples_split=4;, score=0.971 total time=   0.0s\n",
      "[CV 2/5] END max_depth=5, min_samples_leaf=2, min_samples_split=4;, score=0.939 total time=   0.0s\n",
      "[CV 3/5] END max_depth=5, min_samples_leaf=2, min_samples_split=4;, score=0.970 total time=   0.0s\n",
      "[CV 4/5] END max_depth=5, min_samples_leaf=2, min_samples_split=4;, score=0.939 total time=   0.0s\n",
      "[CV 5/5] END max_depth=5, min_samples_leaf=2, min_samples_split=4;, score=1.000 total time=   0.0s\n",
      "[CV 1/5] END max_depth=5, min_samples_leaf=2, min_samples_split=5;, score=0.971 total time=   0.0s\n",
      "[CV 2/5] END max_depth=5, min_samples_leaf=2, min_samples_split=5;, score=0.939 total time=   0.0s\n",
      "[CV 3/5] END max_depth=5, min_samples_leaf=2, min_samples_split=5;, score=0.970 total time=   0.0s\n",
      "[CV 4/5] END max_depth=5, min_samples_leaf=2, min_samples_split=5;, score=0.939 total time=   0.0s\n",
      "[CV 5/5] END max_depth=5, min_samples_leaf=2, min_samples_split=5;, score=1.000 total time=   0.0s\n",
      "[CV 1/5] END max_depth=5, min_samples_leaf=3, min_samples_split=2;, score=1.000 total time=   0.0s\n",
      "[CV 2/5] END max_depth=5, min_samples_leaf=3, min_samples_split=2;, score=0.939 total time=   0.0s\n",
      "[CV 3/5] END max_depth=5, min_samples_leaf=3, min_samples_split=2;, score=0.970 total time=   0.0s\n",
      "[CV 4/5] END max_depth=5, min_samples_leaf=3, min_samples_split=2;, score=0.909 total time=   0.0s\n",
      "[CV 5/5] END max_depth=5, min_samples_leaf=3, min_samples_split=2;, score=1.000 total time=   0.0s\n",
      "[CV 1/5] END max_depth=5, min_samples_leaf=3, min_samples_split=3;, score=1.000 total time=   0.0s\n",
      "[CV 2/5] END max_depth=5, min_samples_leaf=3, min_samples_split=3;, score=0.939 total time=   0.0s\n",
      "[CV 3/5] END max_depth=5, min_samples_leaf=3, min_samples_split=3;, score=0.970 total time=   0.0s\n",
      "[CV 4/5] END max_depth=5, min_samples_leaf=3, min_samples_split=3;, score=0.909 total time=   0.0s\n",
      "[CV 5/5] END max_depth=5, min_samples_leaf=3, min_samples_split=3;, score=1.000 total time=   0.0s\n",
      "[CV 1/5] END max_depth=5, min_samples_leaf=3, min_samples_split=4;, score=1.000 total time=   0.0s\n",
      "[CV 2/5] END max_depth=5, min_samples_leaf=3, min_samples_split=4;, score=0.939 total time=   0.0s\n",
      "[CV 3/5] END max_depth=5, min_samples_leaf=3, min_samples_split=4;, score=0.970 total time=   0.0s\n",
      "[CV 4/5] END max_depth=5, min_samples_leaf=3, min_samples_split=4;, score=0.909 total time=   0.0s\n",
      "[CV 5/5] END max_depth=5, min_samples_leaf=3, min_samples_split=4;, score=1.000 total time=   0.0s\n",
      "[CV 1/5] END max_depth=5, min_samples_leaf=3, min_samples_split=5;, score=1.000 total time=   0.0s\n",
      "[CV 2/5] END max_depth=5, min_samples_leaf=3, min_samples_split=5;, score=0.939 total time=   0.0s\n",
      "[CV 3/5] END max_depth=5, min_samples_leaf=3, min_samples_split=5;, score=0.970 total time=   0.0s\n",
      "[CV 4/5] END max_depth=5, min_samples_leaf=3, min_samples_split=5;, score=0.909 total time=   0.0s\n",
      "[CV 5/5] END max_depth=5, min_samples_leaf=3, min_samples_split=5;, score=1.000 total time=   0.0s\n",
      "[CV 1/5] END max_depth=5, min_samples_leaf=4, min_samples_split=2;, score=1.000 total time=   0.0s\n",
      "[CV 2/5] END max_depth=5, min_samples_leaf=4, min_samples_split=2;, score=0.879 total time=   0.0s\n",
      "[CV 3/5] END max_depth=5, min_samples_leaf=4, min_samples_split=2;, score=0.970 total time=   0.0s\n",
      "[CV 4/5] END max_depth=5, min_samples_leaf=4, min_samples_split=2;, score=0.909 total time=   0.0s\n",
      "[CV 5/5] END max_depth=5, min_samples_leaf=4, min_samples_split=2;, score=1.000 total time=   0.0s\n",
      "[CV 1/5] END max_depth=5, min_samples_leaf=4, min_samples_split=3;, score=1.000 total time=   0.0s\n",
      "[CV 2/5] END max_depth=5, min_samples_leaf=4, min_samples_split=3;, score=0.879 total time=   0.0s\n",
      "[CV 3/5] END max_depth=5, min_samples_leaf=4, min_samples_split=3;, score=0.970 total time=   0.0s\n",
      "[CV 4/5] END max_depth=5, min_samples_leaf=4, min_samples_split=3;, score=0.909 total time=   0.0s\n",
      "[CV 5/5] END max_depth=5, min_samples_leaf=4, min_samples_split=3;, score=1.000 total time=   0.0s\n",
      "[CV 1/5] END max_depth=5, min_samples_leaf=4, min_samples_split=4;, score=1.000 total time=   0.0s\n",
      "[CV 2/5] END max_depth=5, min_samples_leaf=4, min_samples_split=4;, score=0.879 total time=   0.0s\n",
      "[CV 3/5] END max_depth=5, min_samples_leaf=4, min_samples_split=4;, score=0.970 total time=   0.0s\n",
      "[CV 4/5] END max_depth=5, min_samples_leaf=4, min_samples_split=4;, score=0.909 total time=   0.0s\n",
      "[CV 5/5] END max_depth=5, min_samples_leaf=4, min_samples_split=4;, score=1.000 total time=   0.0s\n",
      "[CV 1/5] END max_depth=5, min_samples_leaf=4, min_samples_split=5;, score=1.000 total time=   0.0s\n",
      "[CV 2/5] END max_depth=5, min_samples_leaf=4, min_samples_split=5;, score=0.879 total time=   0.0s\n",
      "[CV 3/5] END max_depth=5, min_samples_leaf=4, min_samples_split=5;, score=0.970 total time=   0.0s\n",
      "[CV 4/5] END max_depth=5, min_samples_leaf=4, min_samples_split=5;, score=0.909 total time=   0.0s\n",
      "[CV 5/5] END max_depth=5, min_samples_leaf=4, min_samples_split=5;, score=1.000 total time=   0.0s\n"
     ]
    },
    {
     "data": {
      "text/html": [
       "<style>#sk-container-id-4 {color: black;}#sk-container-id-4 pre{padding: 0;}#sk-container-id-4 div.sk-toggleable {background-color: white;}#sk-container-id-4 label.sk-toggleable__label {cursor: pointer;display: block;width: 100%;margin-bottom: 0;padding: 0.3em;box-sizing: border-box;text-align: center;}#sk-container-id-4 label.sk-toggleable__label-arrow:before {content: \"▸\";float: left;margin-right: 0.25em;color: #696969;}#sk-container-id-4 label.sk-toggleable__label-arrow:hover:before {color: black;}#sk-container-id-4 div.sk-estimator:hover label.sk-toggleable__label-arrow:before {color: black;}#sk-container-id-4 div.sk-toggleable__content {max-height: 0;max-width: 0;overflow: hidden;text-align: left;background-color: #f0f8ff;}#sk-container-id-4 div.sk-toggleable__content pre {margin: 0.2em;color: black;border-radius: 0.25em;background-color: #f0f8ff;}#sk-container-id-4 input.sk-toggleable__control:checked~div.sk-toggleable__content {max-height: 200px;max-width: 100%;overflow: auto;}#sk-container-id-4 input.sk-toggleable__control:checked~label.sk-toggleable__label-arrow:before {content: \"▾\";}#sk-container-id-4 div.sk-estimator input.sk-toggleable__control:checked~label.sk-toggleable__label {background-color: #d4ebff;}#sk-container-id-4 div.sk-label input.sk-toggleable__control:checked~label.sk-toggleable__label {background-color: #d4ebff;}#sk-container-id-4 input.sk-hidden--visually {border: 0;clip: rect(1px 1px 1px 1px);clip: rect(1px, 1px, 1px, 1px);height: 1px;margin: -1px;overflow: hidden;padding: 0;position: absolute;width: 1px;}#sk-container-id-4 div.sk-estimator {font-family: monospace;background-color: #f0f8ff;border: 1px dotted black;border-radius: 0.25em;box-sizing: border-box;margin-bottom: 0.5em;}#sk-container-id-4 div.sk-estimator:hover {background-color: #d4ebff;}#sk-container-id-4 div.sk-parallel-item::after {content: \"\";width: 100%;border-bottom: 1px solid gray;flex-grow: 1;}#sk-container-id-4 div.sk-label:hover label.sk-toggleable__label {background-color: #d4ebff;}#sk-container-id-4 div.sk-serial::before {content: \"\";position: absolute;border-left: 1px solid gray;box-sizing: border-box;top: 0;bottom: 0;left: 50%;z-index: 0;}#sk-container-id-4 div.sk-serial {display: flex;flex-direction: column;align-items: center;background-color: white;padding-right: 0.2em;padding-left: 0.2em;position: relative;}#sk-container-id-4 div.sk-item {position: relative;z-index: 1;}#sk-container-id-4 div.sk-parallel {display: flex;align-items: stretch;justify-content: center;background-color: white;position: relative;}#sk-container-id-4 div.sk-item::before, #sk-container-id-4 div.sk-parallel-item::before {content: \"\";position: absolute;border-left: 1px solid gray;box-sizing: border-box;top: 0;bottom: 0;left: 50%;z-index: -1;}#sk-container-id-4 div.sk-parallel-item {display: flex;flex-direction: column;z-index: 1;position: relative;background-color: white;}#sk-container-id-4 div.sk-parallel-item:first-child::after {align-self: flex-end;width: 50%;}#sk-container-id-4 div.sk-parallel-item:last-child::after {align-self: flex-start;width: 50%;}#sk-container-id-4 div.sk-parallel-item:only-child::after {width: 0;}#sk-container-id-4 div.sk-dashed-wrapped {border: 1px dashed gray;margin: 0 0.4em 0.5em 0.4em;box-sizing: border-box;padding-bottom: 0.4em;background-color: white;}#sk-container-id-4 div.sk-label label {font-family: monospace;font-weight: bold;display: inline-block;line-height: 1.2em;}#sk-container-id-4 div.sk-label-container {text-align: center;}#sk-container-id-4 div.sk-container {/* jupyter's `normalize.less` sets `[hidden] { display: none; }` but bootstrap.min.css set `[hidden] { display: none !important; }` so we also need the `!important` here to be able to override the default hidden behavior on the sphinx rendered scikit-learn.org. See: https://github.com/scikit-learn/scikit-learn/issues/21755 */display: inline-block !important;position: relative;}#sk-container-id-4 div.sk-text-repr-fallback {display: none;}</style><div id=\"sk-container-id-4\" class=\"sk-top-container\"><div class=\"sk-text-repr-fallback\"><pre>GridSearchCV(estimator=DecisionTreeClassifier(random_state=10),\n",
       "             param_grid={&#x27;max_depth&#x27;: [None, 2, 3, 4, 5],\n",
       "                         &#x27;min_samples_leaf&#x27;: [1, 2, 3, 4],\n",
       "                         &#x27;min_samples_split&#x27;: [2, 3, 4, 5]},\n",
       "             verbose=3)</pre><b>In a Jupyter environment, please rerun this cell to show the HTML representation or trust the notebook. <br />On GitHub, the HTML representation is unable to render, please try loading this page with nbviewer.org.</b></div><div class=\"sk-container\" hidden><div class=\"sk-item sk-dashed-wrapped\"><div class=\"sk-label-container\"><div class=\"sk-label sk-toggleable\"><input class=\"sk-toggleable__control sk-hidden--visually\" id=\"sk-estimator-id-4\" type=\"checkbox\" ><label for=\"sk-estimator-id-4\" class=\"sk-toggleable__label sk-toggleable__label-arrow\">GridSearchCV</label><div class=\"sk-toggleable__content\"><pre>GridSearchCV(estimator=DecisionTreeClassifier(random_state=10),\n",
       "             param_grid={&#x27;max_depth&#x27;: [None, 2, 3, 4, 5],\n",
       "                         &#x27;min_samples_leaf&#x27;: [1, 2, 3, 4],\n",
       "                         &#x27;min_samples_split&#x27;: [2, 3, 4, 5]},\n",
       "             verbose=3)</pre></div></div></div><div class=\"sk-parallel\"><div class=\"sk-parallel-item\"><div class=\"sk-item\"><div class=\"sk-label-container\"><div class=\"sk-label sk-toggleable\"><input class=\"sk-toggleable__control sk-hidden--visually\" id=\"sk-estimator-id-5\" type=\"checkbox\" ><label for=\"sk-estimator-id-5\" class=\"sk-toggleable__label sk-toggleable__label-arrow\">estimator: DecisionTreeClassifier</label><div class=\"sk-toggleable__content\"><pre>DecisionTreeClassifier(random_state=10)</pre></div></div></div><div class=\"sk-serial\"><div class=\"sk-item\"><div class=\"sk-estimator sk-toggleable\"><input class=\"sk-toggleable__control sk-hidden--visually\" id=\"sk-estimator-id-6\" type=\"checkbox\" ><label for=\"sk-estimator-id-6\" class=\"sk-toggleable__label sk-toggleable__label-arrow\">DecisionTreeClassifier</label><div class=\"sk-toggleable__content\"><pre>DecisionTreeClassifier(random_state=10)</pre></div></div></div></div></div></div></div></div></div></div>"
      ],
      "text/plain": [
       "GridSearchCV(estimator=DecisionTreeClassifier(random_state=10),\n",
       "             param_grid={'max_depth': [None, 2, 3, 4, 5],\n",
       "                         'min_samples_leaf': [1, 2, 3, 4],\n",
       "                         'min_samples_split': [2, 3, 4, 5]},\n",
       "             verbose=3)"
      ]
     },
     "execution_count": 64,
     "metadata": {},
     "output_type": "execute_result"
    }
   ],
   "source": [
    "gs.fit(X_train_clean, y_train)"
   ]
  },
  {
   "cell_type": "code",
   "execution_count": 65,
   "metadata": {
    "ExecuteTime": {
     "end_time": "2021-10-28T03:33:38.438408Z",
     "start_time": "2021-10-28T03:33:38.435309Z"
    },
    "hidden": true
   },
   "outputs": [
    {
     "data": {
      "text/plain": [
       "{'max_depth': None, 'min_samples_leaf': 1, 'min_samples_split': 2}"
      ]
     },
     "execution_count": 65,
     "metadata": {},
     "output_type": "execute_result"
    }
   ],
   "source": [
    "gs.best_params_"
   ]
  },
  {
   "cell_type": "code",
   "execution_count": 66,
   "metadata": {
    "ExecuteTime": {
     "end_time": "2021-10-28T03:33:38.739396Z",
     "start_time": "2021-10-28T03:33:38.736044Z"
    },
    "hidden": true
   },
   "outputs": [
    {
     "data": {
      "text/plain": [
       "0.9757575757575758"
      ]
     },
     "execution_count": 66,
     "metadata": {},
     "output_type": "execute_result"
    }
   ],
   "source": [
    "gs.best_score_"
   ]
  },
  {
   "cell_type": "code",
   "execution_count": 67,
   "metadata": {
    "ExecuteTime": {
     "end_time": "2021-10-28T03:33:40.999187Z",
     "start_time": "2021-10-28T03:33:40.984761Z"
    },
    "hidden": true
   },
   "outputs": [
    {
     "data": {
      "text/html": [
       "<style>#sk-container-id-5 {color: black;}#sk-container-id-5 pre{padding: 0;}#sk-container-id-5 div.sk-toggleable {background-color: white;}#sk-container-id-5 label.sk-toggleable__label {cursor: pointer;display: block;width: 100%;margin-bottom: 0;padding: 0.3em;box-sizing: border-box;text-align: center;}#sk-container-id-5 label.sk-toggleable__label-arrow:before {content: \"▸\";float: left;margin-right: 0.25em;color: #696969;}#sk-container-id-5 label.sk-toggleable__label-arrow:hover:before {color: black;}#sk-container-id-5 div.sk-estimator:hover label.sk-toggleable__label-arrow:before {color: black;}#sk-container-id-5 div.sk-toggleable__content {max-height: 0;max-width: 0;overflow: hidden;text-align: left;background-color: #f0f8ff;}#sk-container-id-5 div.sk-toggleable__content pre {margin: 0.2em;color: black;border-radius: 0.25em;background-color: #f0f8ff;}#sk-container-id-5 input.sk-toggleable__control:checked~div.sk-toggleable__content {max-height: 200px;max-width: 100%;overflow: auto;}#sk-container-id-5 input.sk-toggleable__control:checked~label.sk-toggleable__label-arrow:before {content: \"▾\";}#sk-container-id-5 div.sk-estimator input.sk-toggleable__control:checked~label.sk-toggleable__label {background-color: #d4ebff;}#sk-container-id-5 div.sk-label input.sk-toggleable__control:checked~label.sk-toggleable__label {background-color: #d4ebff;}#sk-container-id-5 input.sk-hidden--visually {border: 0;clip: rect(1px 1px 1px 1px);clip: rect(1px, 1px, 1px, 1px);height: 1px;margin: -1px;overflow: hidden;padding: 0;position: absolute;width: 1px;}#sk-container-id-5 div.sk-estimator {font-family: monospace;background-color: #f0f8ff;border: 1px dotted black;border-radius: 0.25em;box-sizing: border-box;margin-bottom: 0.5em;}#sk-container-id-5 div.sk-estimator:hover {background-color: #d4ebff;}#sk-container-id-5 div.sk-parallel-item::after {content: \"\";width: 100%;border-bottom: 1px solid gray;flex-grow: 1;}#sk-container-id-5 div.sk-label:hover label.sk-toggleable__label {background-color: #d4ebff;}#sk-container-id-5 div.sk-serial::before {content: \"\";position: absolute;border-left: 1px solid gray;box-sizing: border-box;top: 0;bottom: 0;left: 50%;z-index: 0;}#sk-container-id-5 div.sk-serial {display: flex;flex-direction: column;align-items: center;background-color: white;padding-right: 0.2em;padding-left: 0.2em;position: relative;}#sk-container-id-5 div.sk-item {position: relative;z-index: 1;}#sk-container-id-5 div.sk-parallel {display: flex;align-items: stretch;justify-content: center;background-color: white;position: relative;}#sk-container-id-5 div.sk-item::before, #sk-container-id-5 div.sk-parallel-item::before {content: \"\";position: absolute;border-left: 1px solid gray;box-sizing: border-box;top: 0;bottom: 0;left: 50%;z-index: -1;}#sk-container-id-5 div.sk-parallel-item {display: flex;flex-direction: column;z-index: 1;position: relative;background-color: white;}#sk-container-id-5 div.sk-parallel-item:first-child::after {align-self: flex-end;width: 50%;}#sk-container-id-5 div.sk-parallel-item:last-child::after {align-self: flex-start;width: 50%;}#sk-container-id-5 div.sk-parallel-item:only-child::after {width: 0;}#sk-container-id-5 div.sk-dashed-wrapped {border: 1px dashed gray;margin: 0 0.4em 0.5em 0.4em;box-sizing: border-box;padding-bottom: 0.4em;background-color: white;}#sk-container-id-5 div.sk-label label {font-family: monospace;font-weight: bold;display: inline-block;line-height: 1.2em;}#sk-container-id-5 div.sk-label-container {text-align: center;}#sk-container-id-5 div.sk-container {/* jupyter's `normalize.less` sets `[hidden] { display: none; }` but bootstrap.min.css set `[hidden] { display: none !important; }` so we also need the `!important` here to be able to override the default hidden behavior on the sphinx rendered scikit-learn.org. See: https://github.com/scikit-learn/scikit-learn/issues/21755 */display: inline-block !important;position: relative;}#sk-container-id-5 div.sk-text-repr-fallback {display: none;}</style><div id=\"sk-container-id-5\" class=\"sk-top-container\"><div class=\"sk-text-repr-fallback\"><pre>DecisionTreeClassifier(random_state=10)</pre><b>In a Jupyter environment, please rerun this cell to show the HTML representation or trust the notebook. <br />On GitHub, the HTML representation is unable to render, please try loading this page with nbviewer.org.</b></div><div class=\"sk-container\" hidden><div class=\"sk-item\"><div class=\"sk-estimator sk-toggleable\"><input class=\"sk-toggleable__control sk-hidden--visually\" id=\"sk-estimator-id-7\" type=\"checkbox\" checked><label for=\"sk-estimator-id-7\" class=\"sk-toggleable__label sk-toggleable__label-arrow\">DecisionTreeClassifier</label><div class=\"sk-toggleable__content\"><pre>DecisionTreeClassifier(random_state=10)</pre></div></div></div></div></div>"
      ],
      "text/plain": [
       "DecisionTreeClassifier(random_state=10)"
      ]
     },
     "execution_count": 67,
     "metadata": {},
     "output_type": "execute_result"
    }
   ],
   "source": [
    "gs.best_estimator_"
   ]
  },
  {
   "cell_type": "code",
   "execution_count": 68,
   "metadata": {
    "ExecuteTime": {
     "end_time": "2021-10-28T03:33:41.214030Z",
     "start_time": "2021-10-28T03:33:41.205532Z"
    },
    "hidden": true,
    "scrolled": true
   },
   "outputs": [
    {
     "data": {
      "text/plain": [
       "{'mean_fit_time': array([0.00435443, 0.00205464, 0.00167327, 0.0014214 , 0.00105848,\n",
       "        0.00129924, 0.00127821, 0.0010428 , 0.0012897 , 0.00104604,\n",
       "        0.00108538, 0.00117483, 0.00111222, 0.0010704 , 0.00106626,\n",
       "        0.00119781, 0.0011045 , 0.00132899, 0.00144963, 0.00108609,\n",
       "        0.00128307, 0.00123544, 0.00104275, 0.00115113, 0.0013751 ,\n",
       "        0.0010632 , 0.00105929, 0.00125232, 0.00113997, 0.00106335,\n",
       "        0.00132709, 0.00119805, 0.00114489, 0.00113144, 0.00128121,\n",
       "        0.00112004, 0.00108132, 0.00147672, 0.00138578, 0.001263  ,\n",
       "        0.00134935, 0.00118542, 0.00109639, 0.00124712, 0.00112305,\n",
       "        0.001057  , 0.00126858, 0.0011054 , 0.00109148, 0.0012876 ,\n",
       "        0.00111675, 0.0011097 , 0.00117435, 0.00119843, 0.00115886,\n",
       "        0.00104151, 0.00153303, 0.00121288, 0.0011024 , 0.00126767,\n",
       "        0.00108938, 0.00104141, 0.00151176, 0.00102921, 0.00121336,\n",
       "        0.00135818, 0.00108657, 0.00111184, 0.00135236, 0.00110226,\n",
       "        0.0012248 , 0.00104723, 0.00111403, 0.00110021, 0.00102882,\n",
       "        0.00133848, 0.00121183, 0.0011044 , 0.00130873, 0.00108638]),\n",
       " 'std_fit_time': array([3.27563251e-03, 2.04041534e-04, 1.69878242e-04, 2.68227891e-04,\n",
       "        3.31601076e-05, 2.49569736e-04, 1.52229126e-04, 1.47837976e-05,\n",
       "        3.47370735e-04, 8.83964011e-06, 6.13575853e-05, 2.66743601e-04,\n",
       "        6.28304206e-05, 5.59020343e-05, 4.36219744e-05, 1.62897023e-04,\n",
       "        1.47304607e-04, 3.42885487e-04, 4.32123119e-04, 5.70203541e-05,\n",
       "        2.25596674e-04, 1.85834361e-04, 1.71532848e-05, 1.11788306e-04,\n",
       "        2.92802578e-04, 6.11089841e-05, 2.16974007e-05, 1.31286060e-04,\n",
       "        1.97264922e-04, 4.46427569e-05, 2.74408139e-04, 1.98508746e-04,\n",
       "        1.85378257e-04, 1.96645216e-04, 2.05669844e-04, 1.00595057e-04,\n",
       "        6.44514877e-05, 4.09192200e-04, 2.06661224e-04, 3.17508624e-04,\n",
       "        3.04227772e-04, 1.77989649e-04, 4.23697654e-05, 2.12382617e-04,\n",
       "        7.49788488e-05, 9.52791759e-06, 2.17516648e-04, 1.32985481e-04,\n",
       "        4.30317466e-05, 3.27315162e-04, 8.36609401e-05, 4.05456293e-05,\n",
       "        2.42932813e-04, 1.94224479e-04, 1.66670283e-04, 8.53338698e-06,\n",
       "        4.51921294e-04, 1.66073175e-04, 7.59106784e-05, 2.18005704e-04,\n",
       "        7.09942154e-05, 1.41316064e-05, 6.24876428e-04, 1.52836537e-05,\n",
       "        2.56446969e-04, 3.25616611e-04, 5.10724874e-05, 1.26765309e-04,\n",
       "        4.08392623e-04, 7.41921537e-05, 2.62209991e-04, 2.07764248e-05,\n",
       "        9.52611092e-05, 1.34994831e-04, 1.27792358e-05, 3.53042903e-04,\n",
       "        1.46082034e-04, 3.85885902e-05, 3.22165928e-04, 3.17788266e-05]),\n",
       " 'mean_score_time': array([0.00189776, 0.0011651 , 0.00097547, 0.00073638, 0.00065398,\n",
       "        0.00077953, 0.00076637, 0.00063362, 0.00073156, 0.00063324,\n",
       "        0.00066905, 0.00072899, 0.00066776, 0.00065055, 0.00063586,\n",
       "        0.00071101, 0.00065136, 0.00068202, 0.00082078, 0.00065546,\n",
       "        0.00075059, 0.00074019, 0.00063677, 0.00074153, 0.00079494,\n",
       "        0.0006525 , 0.0006875 , 0.00074415, 0.00066752, 0.00063825,\n",
       "        0.00075164, 0.00068045, 0.00064111, 0.00074296, 0.00072398,\n",
       "        0.00068088, 0.00064626, 0.00094194, 0.00075378, 0.00067801,\n",
       "        0.00075107, 0.00066338, 0.00068359, 0.00075164, 0.00070071,\n",
       "        0.00063581, 0.00075345, 0.00065012, 0.00067735, 0.00078101,\n",
       "        0.00064769, 0.00066352, 0.00071082, 0.0006948 , 0.00067015,\n",
       "        0.00062361, 0.00077848, 0.00080323, 0.0006362 , 0.00076799,\n",
       "        0.00070767, 0.00063195, 0.00078025, 0.00064158, 0.00065589,\n",
       "        0.0007977 , 0.00068598, 0.00066056, 0.00072303, 0.00063992,\n",
       "        0.00066524, 0.00061994, 0.00078096, 0.00063105, 0.00061731,\n",
       "        0.00069733, 0.00068736, 0.00065784, 0.00078602, 0.00064011]),\n",
       " 'std_score_time': array([7.24962277e-04, 1.10121657e-04, 1.19770028e-04, 5.87305057e-05,\n",
       "        4.83184530e-05, 1.61690031e-04, 1.03643669e-04, 9.03552942e-06,\n",
       "        1.14073920e-04, 7.76381101e-06, 5.51536745e-05, 1.54419471e-04,\n",
       "        4.22805353e-05, 2.44011137e-05, 1.08944508e-05, 8.72415771e-05,\n",
       "        6.33043308e-05, 6.29431551e-05, 2.09963405e-04, 2.19051538e-05,\n",
       "        9.49630987e-05, 1.08283052e-04, 7.35999351e-06, 1.17832473e-04,\n",
       "        1.18150530e-04, 2.03974863e-05, 8.48284593e-05, 1.01475317e-04,\n",
       "        7.09225988e-05, 2.39375103e-05, 1.18545170e-04, 6.72003817e-05,\n",
       "        2.83114408e-05, 1.96983063e-04, 8.16232682e-05, 6.78166383e-05,\n",
       "        2.17050492e-05, 3.53490626e-04, 7.80704322e-05, 8.21616022e-05,\n",
       "        1.14349527e-04, 4.24512565e-05, 7.45844655e-05, 1.43829817e-04,\n",
       "        8.75393027e-05, 1.58761713e-05, 2.04609786e-04, 3.78515006e-05,\n",
       "        5.05013099e-05, 1.22710446e-04, 8.00546964e-06, 5.70849961e-05,\n",
       "        1.12249189e-04, 1.08399508e-04, 2.78969707e-05, 4.96826793e-06,\n",
       "        1.62670073e-04, 2.92810204e-04, 1.77615281e-05, 1.51828755e-04,\n",
       "        9.42449554e-05, 9.05814907e-06, 1.73243189e-04, 2.73302993e-05,\n",
       "        5.57546830e-05, 1.71187289e-04, 9.25643238e-05, 5.10642506e-05,\n",
       "        1.15365683e-04, 2.51031102e-05, 6.00543036e-05, 4.97695572e-06,\n",
       "        2.06050192e-04, 1.44028504e-05, 5.17626447e-06, 7.26899735e-05,\n",
       "        4.65806695e-05, 2.70057431e-05, 2.72374519e-04, 1.26261942e-05]),\n",
       " 'param_max_depth': masked_array(data=[None, None, None, None, None, None, None, None, None,\n",
       "                    None, None, None, None, None, None, None, 2, 2, 2, 2,\n",
       "                    2, 2, 2, 2, 2, 2, 2, 2, 2, 2, 2, 2, 3, 3, 3, 3, 3, 3,\n",
       "                    3, 3, 3, 3, 3, 3, 3, 3, 3, 3, 4, 4, 4, 4, 4, 4, 4, 4,\n",
       "                    4, 4, 4, 4, 4, 4, 4, 4, 5, 5, 5, 5, 5, 5, 5, 5, 5, 5,\n",
       "                    5, 5, 5, 5, 5, 5],\n",
       "              mask=[False, False, False, False, False, False, False, False,\n",
       "                    False, False, False, False, False, False, False, False,\n",
       "                    False, False, False, False, False, False, False, False,\n",
       "                    False, False, False, False, False, False, False, False,\n",
       "                    False, False, False, False, False, False, False, False,\n",
       "                    False, False, False, False, False, False, False, False,\n",
       "                    False, False, False, False, False, False, False, False,\n",
       "                    False, False, False, False, False, False, False, False,\n",
       "                    False, False, False, False, False, False, False, False,\n",
       "                    False, False, False, False, False, False, False, False],\n",
       "        fill_value='?',\n",
       "             dtype=object),\n",
       " 'param_min_samples_leaf': masked_array(data=[1, 1, 1, 1, 2, 2, 2, 2, 3, 3, 3, 3, 4, 4, 4, 4, 1, 1,\n",
       "                    1, 1, 2, 2, 2, 2, 3, 3, 3, 3, 4, 4, 4, 4, 1, 1, 1, 1,\n",
       "                    2, 2, 2, 2, 3, 3, 3, 3, 4, 4, 4, 4, 1, 1, 1, 1, 2, 2,\n",
       "                    2, 2, 3, 3, 3, 3, 4, 4, 4, 4, 1, 1, 1, 1, 2, 2, 2, 2,\n",
       "                    3, 3, 3, 3, 4, 4, 4, 4],\n",
       "              mask=[False, False, False, False, False, False, False, False,\n",
       "                    False, False, False, False, False, False, False, False,\n",
       "                    False, False, False, False, False, False, False, False,\n",
       "                    False, False, False, False, False, False, False, False,\n",
       "                    False, False, False, False, False, False, False, False,\n",
       "                    False, False, False, False, False, False, False, False,\n",
       "                    False, False, False, False, False, False, False, False,\n",
       "                    False, False, False, False, False, False, False, False,\n",
       "                    False, False, False, False, False, False, False, False,\n",
       "                    False, False, False, False, False, False, False, False],\n",
       "        fill_value='?',\n",
       "             dtype=object),\n",
       " 'param_min_samples_split': masked_array(data=[2, 3, 4, 5, 2, 3, 4, 5, 2, 3, 4, 5, 2, 3, 4, 5, 2, 3,\n",
       "                    4, 5, 2, 3, 4, 5, 2, 3, 4, 5, 2, 3, 4, 5, 2, 3, 4, 5,\n",
       "                    2, 3, 4, 5, 2, 3, 4, 5, 2, 3, 4, 5, 2, 3, 4, 5, 2, 3,\n",
       "                    4, 5, 2, 3, 4, 5, 2, 3, 4, 5, 2, 3, 4, 5, 2, 3, 4, 5,\n",
       "                    2, 3, 4, 5, 2, 3, 4, 5],\n",
       "              mask=[False, False, False, False, False, False, False, False,\n",
       "                    False, False, False, False, False, False, False, False,\n",
       "                    False, False, False, False, False, False, False, False,\n",
       "                    False, False, False, False, False, False, False, False,\n",
       "                    False, False, False, False, False, False, False, False,\n",
       "                    False, False, False, False, False, False, False, False,\n",
       "                    False, False, False, False, False, False, False, False,\n",
       "                    False, False, False, False, False, False, False, False,\n",
       "                    False, False, False, False, False, False, False, False,\n",
       "                    False, False, False, False, False, False, False, False],\n",
       "        fill_value='?',\n",
       "             dtype=object),\n",
       " 'params': [{'max_depth': None, 'min_samples_leaf': 1, 'min_samples_split': 2},\n",
       "  {'max_depth': None, 'min_samples_leaf': 1, 'min_samples_split': 3},\n",
       "  {'max_depth': None, 'min_samples_leaf': 1, 'min_samples_split': 4},\n",
       "  {'max_depth': None, 'min_samples_leaf': 1, 'min_samples_split': 5},\n",
       "  {'max_depth': None, 'min_samples_leaf': 2, 'min_samples_split': 2},\n",
       "  {'max_depth': None, 'min_samples_leaf': 2, 'min_samples_split': 3},\n",
       "  {'max_depth': None, 'min_samples_leaf': 2, 'min_samples_split': 4},\n",
       "  {'max_depth': None, 'min_samples_leaf': 2, 'min_samples_split': 5},\n",
       "  {'max_depth': None, 'min_samples_leaf': 3, 'min_samples_split': 2},\n",
       "  {'max_depth': None, 'min_samples_leaf': 3, 'min_samples_split': 3},\n",
       "  {'max_depth': None, 'min_samples_leaf': 3, 'min_samples_split': 4},\n",
       "  {'max_depth': None, 'min_samples_leaf': 3, 'min_samples_split': 5},\n",
       "  {'max_depth': None, 'min_samples_leaf': 4, 'min_samples_split': 2},\n",
       "  {'max_depth': None, 'min_samples_leaf': 4, 'min_samples_split': 3},\n",
       "  {'max_depth': None, 'min_samples_leaf': 4, 'min_samples_split': 4},\n",
       "  {'max_depth': None, 'min_samples_leaf': 4, 'min_samples_split': 5},\n",
       "  {'max_depth': 2, 'min_samples_leaf': 1, 'min_samples_split': 2},\n",
       "  {'max_depth': 2, 'min_samples_leaf': 1, 'min_samples_split': 3},\n",
       "  {'max_depth': 2, 'min_samples_leaf': 1, 'min_samples_split': 4},\n",
       "  {'max_depth': 2, 'min_samples_leaf': 1, 'min_samples_split': 5},\n",
       "  {'max_depth': 2, 'min_samples_leaf': 2, 'min_samples_split': 2},\n",
       "  {'max_depth': 2, 'min_samples_leaf': 2, 'min_samples_split': 3},\n",
       "  {'max_depth': 2, 'min_samples_leaf': 2, 'min_samples_split': 4},\n",
       "  {'max_depth': 2, 'min_samples_leaf': 2, 'min_samples_split': 5},\n",
       "  {'max_depth': 2, 'min_samples_leaf': 3, 'min_samples_split': 2},\n",
       "  {'max_depth': 2, 'min_samples_leaf': 3, 'min_samples_split': 3},\n",
       "  {'max_depth': 2, 'min_samples_leaf': 3, 'min_samples_split': 4},\n",
       "  {'max_depth': 2, 'min_samples_leaf': 3, 'min_samples_split': 5},\n",
       "  {'max_depth': 2, 'min_samples_leaf': 4, 'min_samples_split': 2},\n",
       "  {'max_depth': 2, 'min_samples_leaf': 4, 'min_samples_split': 3},\n",
       "  {'max_depth': 2, 'min_samples_leaf': 4, 'min_samples_split': 4},\n",
       "  {'max_depth': 2, 'min_samples_leaf': 4, 'min_samples_split': 5},\n",
       "  {'max_depth': 3, 'min_samples_leaf': 1, 'min_samples_split': 2},\n",
       "  {'max_depth': 3, 'min_samples_leaf': 1, 'min_samples_split': 3},\n",
       "  {'max_depth': 3, 'min_samples_leaf': 1, 'min_samples_split': 4},\n",
       "  {'max_depth': 3, 'min_samples_leaf': 1, 'min_samples_split': 5},\n",
       "  {'max_depth': 3, 'min_samples_leaf': 2, 'min_samples_split': 2},\n",
       "  {'max_depth': 3, 'min_samples_leaf': 2, 'min_samples_split': 3},\n",
       "  {'max_depth': 3, 'min_samples_leaf': 2, 'min_samples_split': 4},\n",
       "  {'max_depth': 3, 'min_samples_leaf': 2, 'min_samples_split': 5},\n",
       "  {'max_depth': 3, 'min_samples_leaf': 3, 'min_samples_split': 2},\n",
       "  {'max_depth': 3, 'min_samples_leaf': 3, 'min_samples_split': 3},\n",
       "  {'max_depth': 3, 'min_samples_leaf': 3, 'min_samples_split': 4},\n",
       "  {'max_depth': 3, 'min_samples_leaf': 3, 'min_samples_split': 5},\n",
       "  {'max_depth': 3, 'min_samples_leaf': 4, 'min_samples_split': 2},\n",
       "  {'max_depth': 3, 'min_samples_leaf': 4, 'min_samples_split': 3},\n",
       "  {'max_depth': 3, 'min_samples_leaf': 4, 'min_samples_split': 4},\n",
       "  {'max_depth': 3, 'min_samples_leaf': 4, 'min_samples_split': 5},\n",
       "  {'max_depth': 4, 'min_samples_leaf': 1, 'min_samples_split': 2},\n",
       "  {'max_depth': 4, 'min_samples_leaf': 1, 'min_samples_split': 3},\n",
       "  {'max_depth': 4, 'min_samples_leaf': 1, 'min_samples_split': 4},\n",
       "  {'max_depth': 4, 'min_samples_leaf': 1, 'min_samples_split': 5},\n",
       "  {'max_depth': 4, 'min_samples_leaf': 2, 'min_samples_split': 2},\n",
       "  {'max_depth': 4, 'min_samples_leaf': 2, 'min_samples_split': 3},\n",
       "  {'max_depth': 4, 'min_samples_leaf': 2, 'min_samples_split': 4},\n",
       "  {'max_depth': 4, 'min_samples_leaf': 2, 'min_samples_split': 5},\n",
       "  {'max_depth': 4, 'min_samples_leaf': 3, 'min_samples_split': 2},\n",
       "  {'max_depth': 4, 'min_samples_leaf': 3, 'min_samples_split': 3},\n",
       "  {'max_depth': 4, 'min_samples_leaf': 3, 'min_samples_split': 4},\n",
       "  {'max_depth': 4, 'min_samples_leaf': 3, 'min_samples_split': 5},\n",
       "  {'max_depth': 4, 'min_samples_leaf': 4, 'min_samples_split': 2},\n",
       "  {'max_depth': 4, 'min_samples_leaf': 4, 'min_samples_split': 3},\n",
       "  {'max_depth': 4, 'min_samples_leaf': 4, 'min_samples_split': 4},\n",
       "  {'max_depth': 4, 'min_samples_leaf': 4, 'min_samples_split': 5},\n",
       "  {'max_depth': 5, 'min_samples_leaf': 1, 'min_samples_split': 2},\n",
       "  {'max_depth': 5, 'min_samples_leaf': 1, 'min_samples_split': 3},\n",
       "  {'max_depth': 5, 'min_samples_leaf': 1, 'min_samples_split': 4},\n",
       "  {'max_depth': 5, 'min_samples_leaf': 1, 'min_samples_split': 5},\n",
       "  {'max_depth': 5, 'min_samples_leaf': 2, 'min_samples_split': 2},\n",
       "  {'max_depth': 5, 'min_samples_leaf': 2, 'min_samples_split': 3},\n",
       "  {'max_depth': 5, 'min_samples_leaf': 2, 'min_samples_split': 4},\n",
       "  {'max_depth': 5, 'min_samples_leaf': 2, 'min_samples_split': 5},\n",
       "  {'max_depth': 5, 'min_samples_leaf': 3, 'min_samples_split': 2},\n",
       "  {'max_depth': 5, 'min_samples_leaf': 3, 'min_samples_split': 3},\n",
       "  {'max_depth': 5, 'min_samples_leaf': 3, 'min_samples_split': 4},\n",
       "  {'max_depth': 5, 'min_samples_leaf': 3, 'min_samples_split': 5},\n",
       "  {'max_depth': 5, 'min_samples_leaf': 4, 'min_samples_split': 2},\n",
       "  {'max_depth': 5, 'min_samples_leaf': 4, 'min_samples_split': 3},\n",
       "  {'max_depth': 5, 'min_samples_leaf': 4, 'min_samples_split': 4},\n",
       "  {'max_depth': 5, 'min_samples_leaf': 4, 'min_samples_split': 5}],\n",
       " 'split0_test_score': array([1.        , 1.        , 1.        , 1.        , 0.97058824,\n",
       "        0.97058824, 0.97058824, 0.97058824, 1.        , 1.        ,\n",
       "        1.        , 1.        , 1.        , 1.        , 1.        ,\n",
       "        1.        , 0.97058824, 0.97058824, 0.97058824, 0.97058824,\n",
       "        0.94117647, 0.94117647, 0.94117647, 0.94117647, 0.97058824,\n",
       "        0.97058824, 0.97058824, 0.97058824, 0.97058824, 0.97058824,\n",
       "        0.97058824, 0.97058824, 1.        , 1.        , 1.        ,\n",
       "        1.        , 0.97058824, 0.97058824, 0.97058824, 0.97058824,\n",
       "        1.        , 1.        , 1.        , 1.        , 1.        ,\n",
       "        1.        , 1.        , 1.        , 1.        , 1.        ,\n",
       "        1.        , 1.        , 0.97058824, 0.97058824, 0.97058824,\n",
       "        0.97058824, 1.        , 1.        , 1.        , 1.        ,\n",
       "        1.        , 1.        , 1.        , 1.        , 1.        ,\n",
       "        1.        , 1.        , 1.        , 0.97058824, 0.97058824,\n",
       "        0.97058824, 0.97058824, 1.        , 1.        , 1.        ,\n",
       "        1.        , 1.        , 1.        , 1.        , 1.        ]),\n",
       " 'split1_test_score': array([0.93939394, 0.93939394, 0.93939394, 0.93939394, 0.93939394,\n",
       "        0.93939394, 0.93939394, 0.93939394, 0.93939394, 0.93939394,\n",
       "        0.93939394, 0.93939394, 0.87878788, 0.87878788, 0.87878788,\n",
       "        0.87878788, 0.87878788, 0.87878788, 0.87878788, 0.87878788,\n",
       "        0.87878788, 0.87878788, 0.87878788, 0.87878788, 0.87878788,\n",
       "        0.87878788, 0.87878788, 0.87878788, 0.87878788, 0.87878788,\n",
       "        0.87878788, 0.87878788, 0.93939394, 0.93939394, 0.93939394,\n",
       "        0.93939394, 0.93939394, 0.93939394, 0.93939394, 0.93939394,\n",
       "        0.93939394, 0.93939394, 0.93939394, 0.93939394, 0.87878788,\n",
       "        0.87878788, 0.87878788, 0.87878788, 0.93939394, 0.93939394,\n",
       "        0.93939394, 0.93939394, 0.93939394, 0.93939394, 0.93939394,\n",
       "        0.93939394, 0.93939394, 0.93939394, 0.93939394, 0.93939394,\n",
       "        0.87878788, 0.87878788, 0.87878788, 0.87878788, 0.93939394,\n",
       "        0.93939394, 0.93939394, 0.93939394, 0.93939394, 0.93939394,\n",
       "        0.93939394, 0.93939394, 0.93939394, 0.93939394, 0.93939394,\n",
       "        0.93939394, 0.87878788, 0.87878788, 0.87878788, 0.87878788]),\n",
       " 'split2_test_score': array([1.        , 1.        , 1.        , 1.        , 0.96969697,\n",
       "        0.96969697, 0.96969697, 0.96969697, 0.96969697, 0.96969697,\n",
       "        0.96969697, 0.96969697, 0.96969697, 0.96969697, 0.96969697,\n",
       "        0.96969697, 0.96969697, 0.96969697, 0.96969697, 0.96969697,\n",
       "        0.93939394, 0.93939394, 0.93939394, 0.93939394, 0.96969697,\n",
       "        0.96969697, 0.96969697, 0.96969697, 0.96969697, 0.96969697,\n",
       "        0.96969697, 0.96969697, 0.96969697, 0.96969697, 0.96969697,\n",
       "        0.96969697, 0.93939394, 0.93939394, 0.93939394, 0.93939394,\n",
       "        0.96969697, 0.96969697, 0.96969697, 0.96969697, 0.96969697,\n",
       "        0.96969697, 0.96969697, 0.96969697, 1.        , 1.        ,\n",
       "        1.        , 1.        , 0.96969697, 0.96969697, 0.96969697,\n",
       "        0.96969697, 0.96969697, 0.96969697, 0.96969697, 0.96969697,\n",
       "        0.96969697, 0.96969697, 0.96969697, 0.96969697, 1.        ,\n",
       "        1.        , 1.        , 1.        , 0.96969697, 0.96969697,\n",
       "        0.96969697, 0.96969697, 0.96969697, 0.96969697, 0.96969697,\n",
       "        0.96969697, 0.96969697, 0.96969697, 0.96969697, 0.96969697]),\n",
       " 'split3_test_score': array([0.93939394, 0.93939394, 0.93939394, 0.93939394, 0.93939394,\n",
       "        0.93939394, 0.93939394, 0.93939394, 0.90909091, 0.90909091,\n",
       "        0.90909091, 0.90909091, 0.90909091, 0.90909091, 0.90909091,\n",
       "        0.90909091, 0.90909091, 0.90909091, 0.90909091, 0.90909091,\n",
       "        0.90909091, 0.90909091, 0.90909091, 0.90909091, 0.90909091,\n",
       "        0.90909091, 0.90909091, 0.90909091, 0.90909091, 0.90909091,\n",
       "        0.90909091, 0.90909091, 0.90909091, 0.90909091, 0.90909091,\n",
       "        0.90909091, 0.90909091, 0.90909091, 0.90909091, 0.90909091,\n",
       "        0.90909091, 0.90909091, 0.90909091, 0.90909091, 0.90909091,\n",
       "        0.90909091, 0.90909091, 0.90909091, 0.93939394, 0.93939394,\n",
       "        0.93939394, 0.93939394, 0.93939394, 0.93939394, 0.93939394,\n",
       "        0.93939394, 0.90909091, 0.90909091, 0.90909091, 0.90909091,\n",
       "        0.90909091, 0.90909091, 0.90909091, 0.90909091, 0.93939394,\n",
       "        0.93939394, 0.93939394, 0.93939394, 0.93939394, 0.93939394,\n",
       "        0.93939394, 0.93939394, 0.90909091, 0.90909091, 0.90909091,\n",
       "        0.90909091, 0.90909091, 0.90909091, 0.90909091, 0.90909091]),\n",
       " 'split4_test_score': array([1., 1., 1., 1., 1., 1., 1., 1., 1., 1., 1., 1., 1., 1., 1., 1., 1.,\n",
       "        1., 1., 1., 1., 1., 1., 1., 1., 1., 1., 1., 1., 1., 1., 1., 1., 1.,\n",
       "        1., 1., 1., 1., 1., 1., 1., 1., 1., 1., 1., 1., 1., 1., 1., 1., 1.,\n",
       "        1., 1., 1., 1., 1., 1., 1., 1., 1., 1., 1., 1., 1., 1., 1., 1., 1.,\n",
       "        1., 1., 1., 1., 1., 1., 1., 1., 1., 1., 1., 1.]),\n",
       " 'mean_test_score': array([0.97575758, 0.97575758, 0.97575758, 0.97575758, 0.96381462,\n",
       "        0.96381462, 0.96381462, 0.96381462, 0.96363636, 0.96363636,\n",
       "        0.96363636, 0.96363636, 0.95151515, 0.95151515, 0.95151515,\n",
       "        0.95151515, 0.9456328 , 0.9456328 , 0.9456328 , 0.9456328 ,\n",
       "        0.93368984, 0.93368984, 0.93368984, 0.93368984, 0.9456328 ,\n",
       "        0.9456328 , 0.9456328 , 0.9456328 , 0.9456328 , 0.9456328 ,\n",
       "        0.9456328 , 0.9456328 , 0.96363636, 0.96363636, 0.96363636,\n",
       "        0.96363636, 0.9516934 , 0.9516934 , 0.9516934 , 0.9516934 ,\n",
       "        0.96363636, 0.96363636, 0.96363636, 0.96363636, 0.95151515,\n",
       "        0.95151515, 0.95151515, 0.95151515, 0.97575758, 0.97575758,\n",
       "        0.97575758, 0.97575758, 0.96381462, 0.96381462, 0.96381462,\n",
       "        0.96381462, 0.96363636, 0.96363636, 0.96363636, 0.96363636,\n",
       "        0.95151515, 0.95151515, 0.95151515, 0.95151515, 0.97575758,\n",
       "        0.97575758, 0.97575758, 0.97575758, 0.96381462, 0.96381462,\n",
       "        0.96381462, 0.96381462, 0.96363636, 0.96363636, 0.96363636,\n",
       "        0.96363636, 0.95151515, 0.95151515, 0.95151515, 0.95151515]),\n",
       " 'std_test_score': array([0.02969078, 0.02969078, 0.02969078, 0.02969078, 0.0227271 ,\n",
       "        0.0227271 , 0.0227271 , 0.0227271 , 0.0353391 , 0.0353391 ,\n",
       "        0.0353391 , 0.0353391 , 0.0492366 , 0.0492366 , 0.0492366 ,\n",
       "        0.0492366 , 0.04463452, 0.04463452, 0.04463452, 0.04463452,\n",
       "        0.04026154, 0.04026154, 0.04026154, 0.04026154, 0.04463452,\n",
       "        0.04463452, 0.04463452, 0.04463452, 0.04463452, 0.04463452,\n",
       "        0.04463452, 0.04463452, 0.0353391 , 0.0353391 , 0.0353391 ,\n",
       "        0.0353391 , 0.0310099 , 0.0310099 , 0.0310099 , 0.0310099 ,\n",
       "        0.0353391 , 0.0353391 , 0.0353391 , 0.0353391 , 0.0492366 ,\n",
       "        0.0492366 , 0.0492366 , 0.0492366 , 0.02969078, 0.02969078,\n",
       "        0.02969078, 0.02969078, 0.0227271 , 0.0227271 , 0.0227271 ,\n",
       "        0.0227271 , 0.0353391 , 0.0353391 , 0.0353391 , 0.0353391 ,\n",
       "        0.0492366 , 0.0492366 , 0.0492366 , 0.0492366 , 0.02969078,\n",
       "        0.02969078, 0.02969078, 0.02969078, 0.0227271 , 0.0227271 ,\n",
       "        0.0227271 , 0.0227271 , 0.0353391 , 0.0353391 , 0.0353391 ,\n",
       "        0.0353391 , 0.0492366 , 0.0492366 , 0.0492366 , 0.0492366 ]),\n",
       " 'rank_test_score': array([ 1,  1,  1,  1, 13, 13, 13, 13, 25, 25, 25, 25, 49, 49, 49, 49, 65,\n",
       "        65, 65, 65, 77, 77, 77, 77, 65, 65, 65, 65, 65, 65, 65, 65, 25, 25,\n",
       "        25, 25, 45, 45, 45, 45, 25, 25, 25, 25, 49, 49, 49, 49,  1,  1,  1,\n",
       "         1, 13, 13, 13, 13, 25, 25, 25, 25, 49, 49, 49, 49,  1,  1,  1,  1,\n",
       "        13, 13, 13, 13, 25, 25, 25, 25, 49, 49, 49, 49], dtype=int32)}"
      ]
     },
     "execution_count": 68,
     "metadata": {},
     "output_type": "execute_result"
    }
   ],
   "source": [
    "gs.cv_results_"
   ]
  },
  {
   "cell_type": "code",
   "execution_count": 69,
   "metadata": {
    "ExecuteTime": {
     "end_time": "2021-10-28T03:33:41.818645Z",
     "start_time": "2021-10-28T03:33:41.790982Z"
    },
    "hidden": true
   },
   "outputs": [
    {
     "data": {
      "text/html": [
       "<div>\n",
       "<style scoped>\n",
       "    .dataframe tbody tr th:only-of-type {\n",
       "        vertical-align: middle;\n",
       "    }\n",
       "\n",
       "    .dataframe tbody tr th {\n",
       "        vertical-align: top;\n",
       "    }\n",
       "\n",
       "    .dataframe thead th {\n",
       "        text-align: right;\n",
       "    }\n",
       "</style>\n",
       "<table border=\"1\" class=\"dataframe\">\n",
       "  <thead>\n",
       "    <tr style=\"text-align: right;\">\n",
       "      <th></th>\n",
       "      <th>mean_fit_time</th>\n",
       "      <th>std_fit_time</th>\n",
       "      <th>mean_score_time</th>\n",
       "      <th>std_score_time</th>\n",
       "      <th>param_max_depth</th>\n",
       "      <th>param_min_samples_leaf</th>\n",
       "      <th>param_min_samples_split</th>\n",
       "      <th>params</th>\n",
       "      <th>split0_test_score</th>\n",
       "      <th>split1_test_score</th>\n",
       "      <th>split2_test_score</th>\n",
       "      <th>split3_test_score</th>\n",
       "      <th>split4_test_score</th>\n",
       "      <th>mean_test_score</th>\n",
       "      <th>std_test_score</th>\n",
       "      <th>rank_test_score</th>\n",
       "    </tr>\n",
       "  </thead>\n",
       "  <tbody>\n",
       "    <tr>\n",
       "      <th>0</th>\n",
       "      <td>0.004354</td>\n",
       "      <td>0.003276</td>\n",
       "      <td>0.001898</td>\n",
       "      <td>0.000725</td>\n",
       "      <td>None</td>\n",
       "      <td>1</td>\n",
       "      <td>2</td>\n",
       "      <td>{'max_depth': None, 'min_samples_leaf': 1, 'mi...</td>\n",
       "      <td>1.000000</td>\n",
       "      <td>0.939394</td>\n",
       "      <td>1.000000</td>\n",
       "      <td>0.939394</td>\n",
       "      <td>1.0</td>\n",
       "      <td>0.975758</td>\n",
       "      <td>0.029691</td>\n",
       "      <td>1</td>\n",
       "    </tr>\n",
       "    <tr>\n",
       "      <th>1</th>\n",
       "      <td>0.002055</td>\n",
       "      <td>0.000204</td>\n",
       "      <td>0.001165</td>\n",
       "      <td>0.000110</td>\n",
       "      <td>None</td>\n",
       "      <td>1</td>\n",
       "      <td>3</td>\n",
       "      <td>{'max_depth': None, 'min_samples_leaf': 1, 'mi...</td>\n",
       "      <td>1.000000</td>\n",
       "      <td>0.939394</td>\n",
       "      <td>1.000000</td>\n",
       "      <td>0.939394</td>\n",
       "      <td>1.0</td>\n",
       "      <td>0.975758</td>\n",
       "      <td>0.029691</td>\n",
       "      <td>1</td>\n",
       "    </tr>\n",
       "    <tr>\n",
       "      <th>2</th>\n",
       "      <td>0.001673</td>\n",
       "      <td>0.000170</td>\n",
       "      <td>0.000975</td>\n",
       "      <td>0.000120</td>\n",
       "      <td>None</td>\n",
       "      <td>1</td>\n",
       "      <td>4</td>\n",
       "      <td>{'max_depth': None, 'min_samples_leaf': 1, 'mi...</td>\n",
       "      <td>1.000000</td>\n",
       "      <td>0.939394</td>\n",
       "      <td>1.000000</td>\n",
       "      <td>0.939394</td>\n",
       "      <td>1.0</td>\n",
       "      <td>0.975758</td>\n",
       "      <td>0.029691</td>\n",
       "      <td>1</td>\n",
       "    </tr>\n",
       "    <tr>\n",
       "      <th>3</th>\n",
       "      <td>0.001421</td>\n",
       "      <td>0.000268</td>\n",
       "      <td>0.000736</td>\n",
       "      <td>0.000059</td>\n",
       "      <td>None</td>\n",
       "      <td>1</td>\n",
       "      <td>5</td>\n",
       "      <td>{'max_depth': None, 'min_samples_leaf': 1, 'mi...</td>\n",
       "      <td>1.000000</td>\n",
       "      <td>0.939394</td>\n",
       "      <td>1.000000</td>\n",
       "      <td>0.939394</td>\n",
       "      <td>1.0</td>\n",
       "      <td>0.975758</td>\n",
       "      <td>0.029691</td>\n",
       "      <td>1</td>\n",
       "    </tr>\n",
       "    <tr>\n",
       "      <th>4</th>\n",
       "      <td>0.001058</td>\n",
       "      <td>0.000033</td>\n",
       "      <td>0.000654</td>\n",
       "      <td>0.000048</td>\n",
       "      <td>None</td>\n",
       "      <td>2</td>\n",
       "      <td>2</td>\n",
       "      <td>{'max_depth': None, 'min_samples_leaf': 2, 'mi...</td>\n",
       "      <td>0.970588</td>\n",
       "      <td>0.939394</td>\n",
       "      <td>0.969697</td>\n",
       "      <td>0.939394</td>\n",
       "      <td>1.0</td>\n",
       "      <td>0.963815</td>\n",
       "      <td>0.022727</td>\n",
       "      <td>13</td>\n",
       "    </tr>\n",
       "    <tr>\n",
       "      <th>...</th>\n",
       "      <td>...</td>\n",
       "      <td>...</td>\n",
       "      <td>...</td>\n",
       "      <td>...</td>\n",
       "      <td>...</td>\n",
       "      <td>...</td>\n",
       "      <td>...</td>\n",
       "      <td>...</td>\n",
       "      <td>...</td>\n",
       "      <td>...</td>\n",
       "      <td>...</td>\n",
       "      <td>...</td>\n",
       "      <td>...</td>\n",
       "      <td>...</td>\n",
       "      <td>...</td>\n",
       "      <td>...</td>\n",
       "    </tr>\n",
       "    <tr>\n",
       "      <th>75</th>\n",
       "      <td>0.001338</td>\n",
       "      <td>0.000353</td>\n",
       "      <td>0.000697</td>\n",
       "      <td>0.000073</td>\n",
       "      <td>5</td>\n",
       "      <td>3</td>\n",
       "      <td>5</td>\n",
       "      <td>{'max_depth': 5, 'min_samples_leaf': 3, 'min_s...</td>\n",
       "      <td>1.000000</td>\n",
       "      <td>0.939394</td>\n",
       "      <td>0.969697</td>\n",
       "      <td>0.909091</td>\n",
       "      <td>1.0</td>\n",
       "      <td>0.963636</td>\n",
       "      <td>0.035339</td>\n",
       "      <td>25</td>\n",
       "    </tr>\n",
       "    <tr>\n",
       "      <th>76</th>\n",
       "      <td>0.001212</td>\n",
       "      <td>0.000146</td>\n",
       "      <td>0.000687</td>\n",
       "      <td>0.000047</td>\n",
       "      <td>5</td>\n",
       "      <td>4</td>\n",
       "      <td>2</td>\n",
       "      <td>{'max_depth': 5, 'min_samples_leaf': 4, 'min_s...</td>\n",
       "      <td>1.000000</td>\n",
       "      <td>0.878788</td>\n",
       "      <td>0.969697</td>\n",
       "      <td>0.909091</td>\n",
       "      <td>1.0</td>\n",
       "      <td>0.951515</td>\n",
       "      <td>0.049237</td>\n",
       "      <td>49</td>\n",
       "    </tr>\n",
       "    <tr>\n",
       "      <th>77</th>\n",
       "      <td>0.001104</td>\n",
       "      <td>0.000039</td>\n",
       "      <td>0.000658</td>\n",
       "      <td>0.000027</td>\n",
       "      <td>5</td>\n",
       "      <td>4</td>\n",
       "      <td>3</td>\n",
       "      <td>{'max_depth': 5, 'min_samples_leaf': 4, 'min_s...</td>\n",
       "      <td>1.000000</td>\n",
       "      <td>0.878788</td>\n",
       "      <td>0.969697</td>\n",
       "      <td>0.909091</td>\n",
       "      <td>1.0</td>\n",
       "      <td>0.951515</td>\n",
       "      <td>0.049237</td>\n",
       "      <td>49</td>\n",
       "    </tr>\n",
       "    <tr>\n",
       "      <th>78</th>\n",
       "      <td>0.001309</td>\n",
       "      <td>0.000322</td>\n",
       "      <td>0.000786</td>\n",
       "      <td>0.000272</td>\n",
       "      <td>5</td>\n",
       "      <td>4</td>\n",
       "      <td>4</td>\n",
       "      <td>{'max_depth': 5, 'min_samples_leaf': 4, 'min_s...</td>\n",
       "      <td>1.000000</td>\n",
       "      <td>0.878788</td>\n",
       "      <td>0.969697</td>\n",
       "      <td>0.909091</td>\n",
       "      <td>1.0</td>\n",
       "      <td>0.951515</td>\n",
       "      <td>0.049237</td>\n",
       "      <td>49</td>\n",
       "    </tr>\n",
       "    <tr>\n",
       "      <th>79</th>\n",
       "      <td>0.001086</td>\n",
       "      <td>0.000032</td>\n",
       "      <td>0.000640</td>\n",
       "      <td>0.000013</td>\n",
       "      <td>5</td>\n",
       "      <td>4</td>\n",
       "      <td>5</td>\n",
       "      <td>{'max_depth': 5, 'min_samples_leaf': 4, 'min_s...</td>\n",
       "      <td>1.000000</td>\n",
       "      <td>0.878788</td>\n",
       "      <td>0.969697</td>\n",
       "      <td>0.909091</td>\n",
       "      <td>1.0</td>\n",
       "      <td>0.951515</td>\n",
       "      <td>0.049237</td>\n",
       "      <td>49</td>\n",
       "    </tr>\n",
       "  </tbody>\n",
       "</table>\n",
       "<p>80 rows × 16 columns</p>\n",
       "</div>"
      ],
      "text/plain": [
       "    mean_fit_time  std_fit_time  mean_score_time  std_score_time  \\\n",
       "0        0.004354      0.003276         0.001898        0.000725   \n",
       "1        0.002055      0.000204         0.001165        0.000110   \n",
       "2        0.001673      0.000170         0.000975        0.000120   \n",
       "3        0.001421      0.000268         0.000736        0.000059   \n",
       "4        0.001058      0.000033         0.000654        0.000048   \n",
       "..            ...           ...              ...             ...   \n",
       "75       0.001338      0.000353         0.000697        0.000073   \n",
       "76       0.001212      0.000146         0.000687        0.000047   \n",
       "77       0.001104      0.000039         0.000658        0.000027   \n",
       "78       0.001309      0.000322         0.000786        0.000272   \n",
       "79       0.001086      0.000032         0.000640        0.000013   \n",
       "\n",
       "   param_max_depth param_min_samples_leaf param_min_samples_split  \\\n",
       "0             None                      1                       2   \n",
       "1             None                      1                       3   \n",
       "2             None                      1                       4   \n",
       "3             None                      1                       5   \n",
       "4             None                      2                       2   \n",
       "..             ...                    ...                     ...   \n",
       "75               5                      3                       5   \n",
       "76               5                      4                       2   \n",
       "77               5                      4                       3   \n",
       "78               5                      4                       4   \n",
       "79               5                      4                       5   \n",
       "\n",
       "                                               params  split0_test_score  \\\n",
       "0   {'max_depth': None, 'min_samples_leaf': 1, 'mi...           1.000000   \n",
       "1   {'max_depth': None, 'min_samples_leaf': 1, 'mi...           1.000000   \n",
       "2   {'max_depth': None, 'min_samples_leaf': 1, 'mi...           1.000000   \n",
       "3   {'max_depth': None, 'min_samples_leaf': 1, 'mi...           1.000000   \n",
       "4   {'max_depth': None, 'min_samples_leaf': 2, 'mi...           0.970588   \n",
       "..                                                ...                ...   \n",
       "75  {'max_depth': 5, 'min_samples_leaf': 3, 'min_s...           1.000000   \n",
       "76  {'max_depth': 5, 'min_samples_leaf': 4, 'min_s...           1.000000   \n",
       "77  {'max_depth': 5, 'min_samples_leaf': 4, 'min_s...           1.000000   \n",
       "78  {'max_depth': 5, 'min_samples_leaf': 4, 'min_s...           1.000000   \n",
       "79  {'max_depth': 5, 'min_samples_leaf': 4, 'min_s...           1.000000   \n",
       "\n",
       "    split1_test_score  split2_test_score  split3_test_score  \\\n",
       "0            0.939394           1.000000           0.939394   \n",
       "1            0.939394           1.000000           0.939394   \n",
       "2            0.939394           1.000000           0.939394   \n",
       "3            0.939394           1.000000           0.939394   \n",
       "4            0.939394           0.969697           0.939394   \n",
       "..                ...                ...                ...   \n",
       "75           0.939394           0.969697           0.909091   \n",
       "76           0.878788           0.969697           0.909091   \n",
       "77           0.878788           0.969697           0.909091   \n",
       "78           0.878788           0.969697           0.909091   \n",
       "79           0.878788           0.969697           0.909091   \n",
       "\n",
       "    split4_test_score  mean_test_score  std_test_score  rank_test_score  \n",
       "0                 1.0         0.975758        0.029691                1  \n",
       "1                 1.0         0.975758        0.029691                1  \n",
       "2                 1.0         0.975758        0.029691                1  \n",
       "3                 1.0         0.975758        0.029691                1  \n",
       "4                 1.0         0.963815        0.022727               13  \n",
       "..                ...              ...             ...              ...  \n",
       "75                1.0         0.963636        0.035339               25  \n",
       "76                1.0         0.951515        0.049237               49  \n",
       "77                1.0         0.951515        0.049237               49  \n",
       "78                1.0         0.951515        0.049237               49  \n",
       "79                1.0         0.951515        0.049237               49  \n",
       "\n",
       "[80 rows x 16 columns]"
      ]
     },
     "execution_count": 69,
     "metadata": {},
     "output_type": "execute_result"
    }
   ],
   "source": [
    "pd.DataFrame(gs.cv_results_)"
   ]
  },
  {
   "cell_type": "markdown",
   "metadata": {
    "heading_collapsed": true,
    "hidden": true
   },
   "source": [
    "### Choice of Grid Values"
   ]
  },
  {
   "cell_type": "markdown",
   "metadata": {
    "hidden": true
   },
   "source": [
    "Which values should you pick for your grid? Intuitively, you should try both \"large\" and \"small\" values, but of course what counts as large and small will really depend on the type of hyperparameter."
   ]
  },
  {
   "cell_type": "markdown",
   "metadata": {
    "hidden": true
   },
   "source": [
    "- ALWAYS INCLUDE THE DEFAULT IN YOUR FIRST SEARCH\n",
    "- For a k-nearest neighbors model, 1 or 3 would be a small value for the number of neighbors and 15 or 17 would be a large value.\n",
    "- For a decision tree model, what counts as a small `max_depth` will really depend on the size of your training data. A `max_depth` of 5 would likely have little effect on a very small dataset but, at the same time, it would probably significantly decrease the variance of a model where the dataset is large.\n",
    "- For a logistic regression's regularization constant, you may want to try a set of values that are exponentially separated, like \\[1, 10, 100, 1000\\].\n",
    "- **If a grid search finds optimal values at the ends of your hyperparameter ranges, you might try another grid search with more extreme values.**"
   ]
  },
  {
   "cell_type": "code",
   "execution_count": 70,
   "metadata": {},
   "outputs": [],
   "source": [
    "grid_1 = {'max_depth': [1, 3, 5], 'min_samples_split': [2, 3, 4, 5, 6]}\n",
    "\n",
    "# Best values were 5 and 6\n",
    "\n",
    "grid_2 = {'max_depth': [5, 10, 15], 'min_samples_split': [6, 8, 10]}\n",
    "\n",
    "# New best values were 10 and 8\n",
    "\n",
    "grid_3 = {'max_depth': [8, 9, 10, 11, 12], 'min_samples_split': [7, 8, 9]}"
   ]
  },
  {
   "cell_type": "markdown",
   "metadata": {
    "heading_collapsed": true
   },
   "source": [
    "# Better Process: Pipelines"
   ]
  },
  {
   "cell_type": "markdown",
   "metadata": {
    "hidden": true
   },
   "source": [
    "> **Pipelines** can keep our code neat and clean all the way from gathering & cleaning our data, to creating models & fine-tuning them!"
   ]
  },
  {
   "cell_type": "markdown",
   "metadata": {
    "hidden": true
   },
   "source": [
    "![](https://imgs.xkcd.com/comics/data_pipeline.png)"
   ]
  },
  {
   "cell_type": "markdown",
   "metadata": {
    "hidden": true
   },
   "source": [
    "The `Pipeline` class from [Scikit-Learn's API](https://scikit-learn.org/stable/modules/generated/sklearn.pipeline.Pipeline.html) is especially convenient since it allows us to use our other Estimators that we know and love!"
   ]
  },
  {
   "cell_type": "markdown",
   "metadata": {
    "heading_collapsed": true,
    "hidden": true
   },
   "source": [
    "## Advantages of `Pipeline`"
   ]
  },
  {
   "cell_type": "markdown",
   "metadata": {
    "heading_collapsed": true,
    "hidden": true
   },
   "source": [
    "### Reduces Complexity"
   ]
  },
  {
   "cell_type": "markdown",
   "metadata": {
    "hidden": true
   },
   "source": [
    "> You can focus on particular parts of the pipeline one at a time and debug or adjust parts as needed."
   ]
  },
  {
   "cell_type": "markdown",
   "metadata": {
    "heading_collapsed": true,
    "hidden": true
   },
   "source": [
    "### Convenient"
   ]
  },
  {
   "cell_type": "markdown",
   "metadata": {
    "hidden": true
   },
   "source": [
    "> The pipeline summarizes your fine-detail steps. That way you can focus on the big-picture aspects."
   ]
  },
  {
   "cell_type": "markdown",
   "metadata": {
    "heading_collapsed": true,
    "hidden": true
   },
   "source": [
    "### Flexible"
   ]
  },
  {
   "cell_type": "markdown",
   "metadata": {
    "hidden": true
   },
   "source": [
    "> You can use pipelines with different models and with GridSearch."
   ]
  },
  {
   "cell_type": "markdown",
   "metadata": {
    "heading_collapsed": true,
    "hidden": true
   },
   "source": [
    "### Prevent Mistakes"
   ]
  },
  {
   "cell_type": "markdown",
   "metadata": {
    "hidden": true
   },
   "source": [
    "> We can focus on one section at a time.\n",
    ">\n",
    "> We also can ensure data leakage between our training and doesn't occur between our training dataset and validation/testing datasets!"
   ]
  },
  {
   "cell_type": "markdown",
   "metadata": {
    "heading_collapsed": true,
    "hidden": true
   },
   "source": [
    "## Example of Using `Pipeline`"
   ]
  },
  {
   "cell_type": "code",
   "execution_count": 71,
   "metadata": {
    "ExecuteTime": {
     "end_time": "2021-10-28T03:33:53.002370Z",
     "start_time": "2021-10-28T03:33:52.905962Z"
    },
    "hidden": true
   },
   "outputs": [],
   "source": [
    "# Getting some data\n",
    "from sklearn import datasets\n",
    "\n",
    "iris = datasets.load_iris()\n",
    "X = iris.data\n",
    "y = iris.target\n",
    "\n",
    "# Split\n",
    "X_train, X_test, y_train, y_test = train_test_split(X, y, test_size=0.2, \n",
    "                                                    random_state=27)"
   ]
  },
  {
   "cell_type": "markdown",
   "metadata": {
    "heading_collapsed": true,
    "hidden": true
   },
   "source": [
    "### Without the Pipeline class"
   ]
  },
  {
   "cell_type": "code",
   "execution_count": 72,
   "metadata": {
    "ExecuteTime": {
     "end_time": "2021-10-28T03:33:54.664937Z",
     "start_time": "2021-10-28T03:33:54.657819Z"
    },
    "hidden": true
   },
   "outputs": [
    {
     "name": "stdout",
     "output_type": "stream",
     "text": [
      "[2 0 2 2 1 1 1 2 2 0 1 1 0 1 1 1 0 2 2 2 1 0 1 0 2 2 1 0 1 2]\n"
     ]
    }
   ],
   "source": [
    "# Define transformers (will adjust/massage the data)\n",
    "imputer = SimpleImputer(strategy=\"median\") # replaces missing values\n",
    "std_scaler = StandardScaler() # scales the data\n",
    "\n",
    "# Define the classifier (predictor) to train\n",
    "rf_clf = DecisionTreeClassifier(random_state=42)\n",
    "\n",
    "# Have the classifer (and full pipeline) learn/train/fit from the data\n",
    "X_train_filled = imputer.fit_transform(X_train)\n",
    "X_train_scaled = std_scaler.fit_transform(X_train_filled)\n",
    "rf_clf.fit(X_train_scaled, y_train)\n",
    "\n",
    "# Predict using the trained classifier (still need to do the transformations)\n",
    "X_test_filled = imputer.transform(X_test)\n",
    "X_test_scaled = std_scaler.transform(X_test_filled)\n",
    "y_pred = rf_clf.predict(X_test_scaled)\n",
    "print(y_pred)"
   ]
  },
  {
   "cell_type": "markdown",
   "metadata": {
    "hidden": true
   },
   "source": [
    "> Note that if we were to add more steps in this process, we'd have to change both the *training* and *testing* processes."
   ]
  },
  {
   "cell_type": "markdown",
   "metadata": {
    "heading_collapsed": true,
    "hidden": true
   },
   "source": [
    "### With `Pipeline` Class"
   ]
  },
  {
   "cell_type": "code",
   "execution_count": 73,
   "metadata": {
    "ExecuteTime": {
     "end_time": "2021-10-28T03:33:58.205429Z",
     "start_time": "2021-10-28T03:33:58.198897Z"
    },
    "hidden": true
   },
   "outputs": [
    {
     "name": "stdout",
     "output_type": "stream",
     "text": [
      "[2 0 2 2 1 1 1 2 2 0 1 1 0 1 1 1 0 2 2 2 1 0 1 0 2 2 1 0 1 2]\n"
     ]
    }
   ],
   "source": [
    "pipeline = Pipeline([\n",
    "        ('imputer', SimpleImputer(strategy=\"median\")), \n",
    "        ('std_scaler', StandardScaler()),\n",
    "        ('rf_clf', DecisionTreeClassifier(random_state=42)),\n",
    "])\n",
    "\n",
    "\n",
    "# Train the pipeline (tranformations & predictor)\n",
    "pipeline.fit(X_train, y_train)\n",
    "\n",
    "# Predict using the pipeline (includes the transfomers & trained predictor)\n",
    "predicted = pipeline.predict(X_test)\n",
    "print(predicted)"
   ]
  },
  {
   "cell_type": "code",
   "execution_count": 74,
   "metadata": {},
   "outputs": [
    {
     "data": {
      "text/html": [
       "<style>#sk-container-id-6 {color: black;}#sk-container-id-6 pre{padding: 0;}#sk-container-id-6 div.sk-toggleable {background-color: white;}#sk-container-id-6 label.sk-toggleable__label {cursor: pointer;display: block;width: 100%;margin-bottom: 0;padding: 0.3em;box-sizing: border-box;text-align: center;}#sk-container-id-6 label.sk-toggleable__label-arrow:before {content: \"▸\";float: left;margin-right: 0.25em;color: #696969;}#sk-container-id-6 label.sk-toggleable__label-arrow:hover:before {color: black;}#sk-container-id-6 div.sk-estimator:hover label.sk-toggleable__label-arrow:before {color: black;}#sk-container-id-6 div.sk-toggleable__content {max-height: 0;max-width: 0;overflow: hidden;text-align: left;background-color: #f0f8ff;}#sk-container-id-6 div.sk-toggleable__content pre {margin: 0.2em;color: black;border-radius: 0.25em;background-color: #f0f8ff;}#sk-container-id-6 input.sk-toggleable__control:checked~div.sk-toggleable__content {max-height: 200px;max-width: 100%;overflow: auto;}#sk-container-id-6 input.sk-toggleable__control:checked~label.sk-toggleable__label-arrow:before {content: \"▾\";}#sk-container-id-6 div.sk-estimator input.sk-toggleable__control:checked~label.sk-toggleable__label {background-color: #d4ebff;}#sk-container-id-6 div.sk-label input.sk-toggleable__control:checked~label.sk-toggleable__label {background-color: #d4ebff;}#sk-container-id-6 input.sk-hidden--visually {border: 0;clip: rect(1px 1px 1px 1px);clip: rect(1px, 1px, 1px, 1px);height: 1px;margin: -1px;overflow: hidden;padding: 0;position: absolute;width: 1px;}#sk-container-id-6 div.sk-estimator {font-family: monospace;background-color: #f0f8ff;border: 1px dotted black;border-radius: 0.25em;box-sizing: border-box;margin-bottom: 0.5em;}#sk-container-id-6 div.sk-estimator:hover {background-color: #d4ebff;}#sk-container-id-6 div.sk-parallel-item::after {content: \"\";width: 100%;border-bottom: 1px solid gray;flex-grow: 1;}#sk-container-id-6 div.sk-label:hover label.sk-toggleable__label {background-color: #d4ebff;}#sk-container-id-6 div.sk-serial::before {content: \"\";position: absolute;border-left: 1px solid gray;box-sizing: border-box;top: 0;bottom: 0;left: 50%;z-index: 0;}#sk-container-id-6 div.sk-serial {display: flex;flex-direction: column;align-items: center;background-color: white;padding-right: 0.2em;padding-left: 0.2em;position: relative;}#sk-container-id-6 div.sk-item {position: relative;z-index: 1;}#sk-container-id-6 div.sk-parallel {display: flex;align-items: stretch;justify-content: center;background-color: white;position: relative;}#sk-container-id-6 div.sk-item::before, #sk-container-id-6 div.sk-parallel-item::before {content: \"\";position: absolute;border-left: 1px solid gray;box-sizing: border-box;top: 0;bottom: 0;left: 50%;z-index: -1;}#sk-container-id-6 div.sk-parallel-item {display: flex;flex-direction: column;z-index: 1;position: relative;background-color: white;}#sk-container-id-6 div.sk-parallel-item:first-child::after {align-self: flex-end;width: 50%;}#sk-container-id-6 div.sk-parallel-item:last-child::after {align-self: flex-start;width: 50%;}#sk-container-id-6 div.sk-parallel-item:only-child::after {width: 0;}#sk-container-id-6 div.sk-dashed-wrapped {border: 1px dashed gray;margin: 0 0.4em 0.5em 0.4em;box-sizing: border-box;padding-bottom: 0.4em;background-color: white;}#sk-container-id-6 div.sk-label label {font-family: monospace;font-weight: bold;display: inline-block;line-height: 1.2em;}#sk-container-id-6 div.sk-label-container {text-align: center;}#sk-container-id-6 div.sk-container {/* jupyter's `normalize.less` sets `[hidden] { display: none; }` but bootstrap.min.css set `[hidden] { display: none !important; }` so we also need the `!important` here to be able to override the default hidden behavior on the sphinx rendered scikit-learn.org. See: https://github.com/scikit-learn/scikit-learn/issues/21755 */display: inline-block !important;position: relative;}#sk-container-id-6 div.sk-text-repr-fallback {display: none;}</style><div id=\"sk-container-id-6\" class=\"sk-top-container\"><div class=\"sk-text-repr-fallback\"><pre>SimpleImputer(strategy=&#x27;median&#x27;)</pre><b>In a Jupyter environment, please rerun this cell to show the HTML representation or trust the notebook. <br />On GitHub, the HTML representation is unable to render, please try loading this page with nbviewer.org.</b></div><div class=\"sk-container\" hidden><div class=\"sk-item\"><div class=\"sk-estimator sk-toggleable\"><input class=\"sk-toggleable__control sk-hidden--visually\" id=\"sk-estimator-id-8\" type=\"checkbox\" checked><label for=\"sk-estimator-id-8\" class=\"sk-toggleable__label sk-toggleable__label-arrow\">SimpleImputer</label><div class=\"sk-toggleable__content\"><pre>SimpleImputer(strategy=&#x27;median&#x27;)</pre></div></div></div></div></div>"
      ],
      "text/plain": [
       "SimpleImputer(strategy='median')"
      ]
     },
     "execution_count": 74,
     "metadata": {},
     "output_type": "execute_result"
    }
   ],
   "source": [
    "pipeline['imputer']"
   ]
  },
  {
   "cell_type": "code",
   "execution_count": 75,
   "metadata": {},
   "outputs": [
    {
     "data": {
      "text/plain": [
       "{'imputer': SimpleImputer(strategy='median'),\n",
       " 'std_scaler': StandardScaler(),\n",
       " 'rf_clf': DecisionTreeClassifier(random_state=42)}"
      ]
     },
     "execution_count": 75,
     "metadata": {},
     "output_type": "execute_result"
    }
   ],
   "source": [
    "pipeline.named_steps"
   ]
  },
  {
   "cell_type": "code",
   "execution_count": 92,
   "metadata": {},
   "outputs": [
    {
     "data": {
      "text/plain": [
       "array([0.        , 0.03338202, 0.55667565, 0.40994234])"
      ]
     },
     "execution_count": 92,
     "metadata": {},
     "output_type": "execute_result"
    }
   ],
   "source": [
    "pipeline['rf_clf'].feature_importances_"
   ]
  },
  {
   "cell_type": "markdown",
   "metadata": {
    "hidden": true
   },
   "source": [
    "> If we need to change our process, we change it _just once_ in the Pipeline"
   ]
  },
  {
   "cell_type": "markdown",
   "metadata": {
    "heading_collapsed": true,
    "hidden": true
   },
   "source": [
    "## Grid Searching a Pipeline"
   ]
  },
  {
   "cell_type": "markdown",
   "metadata": {
    "hidden": true
   },
   "source": [
    "> Let's first get our data prepared like we did before"
   ]
  },
  {
   "cell_type": "code",
   "execution_count": null,
   "metadata": {
    "ExecuteTime": {
     "end_time": "2021-10-28T03:34:01.754929Z",
     "start_time": "2021-10-28T03:34:01.746719Z"
    },
    "hidden": true
   },
   "outputs": [],
   "source": [
    "penguins = sns.load_dataset('penguins')\n",
    "penguins = penguins.dropna()"
   ]
  },
  {
   "cell_type": "code",
   "execution_count": null,
   "metadata": {
    "ExecuteTime": {
     "end_time": "2021-10-28T03:34:02.556723Z",
     "start_time": "2021-10-28T03:34:02.552362Z"
    },
    "hidden": true
   },
   "outputs": [],
   "source": [
    "y = penguins.pop('species')\n",
    "X_train, X_test, y_train, y_test = train_test_split(\n",
    "    penguins, y, test_size=0.5, random_state=42)"
   ]
  },
  {
   "cell_type": "code",
   "execution_count": null,
   "metadata": {
    "ExecuteTime": {
     "end_time": "2021-10-28T03:34:03.045865Z",
     "start_time": "2021-10-28T03:34:03.037423Z"
    },
    "hidden": true
   },
   "outputs": [],
   "source": [
    "X_train_nums = X_train.select_dtypes('float64')\n",
    "\n",
    "ss = StandardScaler()\n",
    "\n",
    "ss.fit(X_train_nums)\n",
    "nums_df = pd.DataFrame(ss.transform(X_train_nums),\n",
    "                      index=X_train_nums.index)"
   ]
  },
  {
   "cell_type": "code",
   "execution_count": null,
   "metadata": {
    "ExecuteTime": {
     "end_time": "2021-10-28T03:34:04.617701Z",
     "start_time": "2021-10-28T03:34:04.611557Z"
    },
    "hidden": true
   },
   "outputs": [],
   "source": [
    "X_train_cat = X_train.select_dtypes('object')\n",
    "\n",
    "ohe = OneHotEncoder(sparse=False)\n",
    "\n",
    "dums = ohe.fit_transform(X_train_cat)\n",
    "dums_df = pd.DataFrame(dums,\n",
    "                       columns=ohe.get_feature_names(),\n",
    "                       index=X_train_cat.index)"
   ]
  },
  {
   "cell_type": "markdown",
   "metadata": {
    "hidden": true
   },
   "source": [
    "> Intermediary step to treat categorical and numerical data differently"
   ]
  },
  {
   "cell_type": "markdown",
   "metadata": {},
   "source": [
    "### Using `ColumnTransformer`"
   ]
  },
  {
   "cell_type": "code",
   "execution_count": null,
   "metadata": {
    "ExecuteTime": {
     "end_time": "2021-10-28T03:34:07.230978Z",
     "start_time": "2021-10-28T03:34:07.226999Z"
    }
   },
   "outputs": [],
   "source": [
    "X_train_nums.columns"
   ]
  },
  {
   "cell_type": "code",
   "execution_count": null,
   "metadata": {
    "ExecuteTime": {
     "end_time": "2021-10-28T03:34:07.623709Z",
     "start_time": "2021-10-28T03:34:07.620047Z"
    },
    "hidden": true
   },
   "outputs": [],
   "source": [
    "numerical_pipeline = Pipeline(steps=[('ss', StandardScaler())])\n",
    "\n",
    "categorical_pipeline = Pipeline(steps=[('ohe', OneHotEncoder(sparse=False, \n",
    "                                                            handle_unknown='ignore'))])\n",
    "transformer = ColumnTransformer(transformers=[\n",
    "    ('num', numerical_pipeline, X_train_nums.columns),\n",
    "    ('cat', categorical_pipeline, X_train_cat.columns)])"
   ]
  },
  {
   "cell_type": "code",
   "execution_count": null,
   "metadata": {
    "ExecuteTime": {
     "end_time": "2021-10-28T03:34:09.542917Z",
     "start_time": "2021-10-28T03:34:09.540088Z"
    },
    "hidden": true
   },
   "outputs": [],
   "source": [
    "model_pipe = Pipeline(steps=[('col_tr', transformer),\n",
    "                             ('log_reg', LogisticRegression(random_state=42))])"
   ]
  },
  {
   "cell_type": "markdown",
   "metadata": {
    "hidden": true
   },
   "source": [
    "> Finally showing we can fit the full pipeline"
   ]
  },
  {
   "cell_type": "code",
   "execution_count": null,
   "metadata": {
    "scrolled": true
   },
   "outputs": [],
   "source": [
    "model_pipe.fit(X_train, y_train)"
   ]
  },
  {
   "cell_type": "code",
   "execution_count": null,
   "metadata": {
    "ExecuteTime": {
     "end_time": "2021-10-28T03:34:13.618940Z",
     "start_time": "2021-10-28T03:34:13.603520Z"
    },
    "hidden": true,
    "scrolled": true
   },
   "outputs": [],
   "source": [
    "model_pipe.score(X_train, y_train)"
   ]
  },
  {
   "cell_type": "code",
   "execution_count": null,
   "metadata": {
    "scrolled": true
   },
   "outputs": [],
   "source": [
    "model_pipe.score(X_test, y_test)"
   ]
  },
  {
   "cell_type": "markdown",
   "metadata": {
    "hidden": true
   },
   "source": [
    "> Performing grid search on the full pipeline"
   ]
  },
  {
   "cell_type": "code",
   "execution_count": null,
   "metadata": {},
   "outputs": [],
   "source": [
    "model_pipe.named_steps"
   ]
  },
  {
   "cell_type": "code",
   "execution_count": null,
   "metadata": {},
   "outputs": [],
   "source": [
    "model_pipe.named_steps['log_reg']"
   ]
  },
  {
   "cell_type": "code",
   "execution_count": null,
   "metadata": {},
   "outputs": [],
   "source": [
    "model_pipe['col_tr'].named_transformers_"
   ]
  },
  {
   "cell_type": "code",
   "execution_count": null,
   "metadata": {
    "ExecuteTime": {
     "end_time": "2021-10-28T03:34:16.220781Z",
     "start_time": "2021-10-28T03:34:16.217965Z"
    },
    "hidden": true
   },
   "outputs": [],
   "source": [
    "pipe_grid = None\n",
    "gs_pipe = GridSearchCV(estimator=model_pipe, param_grid=pipe_grid, verbose=2)"
   ]
  },
  {
   "cell_type": "code",
   "execution_count": null,
   "metadata": {
    "ExecuteTime": {
     "end_time": "2021-10-28T03:34:17.181559Z",
     "start_time": "2021-10-28T03:34:16.542973Z"
    },
    "hidden": true
   },
   "outputs": [],
   "source": [
    "gs_pipe.fit(X_train, y_train)"
   ]
  },
  {
   "cell_type": "code",
   "execution_count": null,
   "metadata": {
    "ExecuteTime": {
     "end_time": "2021-10-28T03:34:17.201665Z",
     "start_time": "2021-10-28T03:34:17.183254Z"
    },
    "hidden": true
   },
   "outputs": [],
   "source": [
    "pd.DataFrame(gs_pipe.cv_results_)"
   ]
  },
  {
   "cell_type": "code",
   "execution_count": null,
   "metadata": {
    "ExecuteTime": {
     "end_time": "2021-10-28T03:34:17.390365Z",
     "start_time": "2021-10-28T03:34:17.386703Z"
    },
    "hidden": true,
    "scrolled": true
   },
   "outputs": [],
   "source": [
    "gs_pipe.best_params_"
   ]
  },
  {
   "cell_type": "code",
   "execution_count": null,
   "metadata": {},
   "outputs": [],
   "source": [
    "gs_pipe.best_estimator_.score(X_test, y_test)"
   ]
  },
  {
   "cell_type": "markdown",
   "metadata": {
    "heading_collapsed": true
   },
   "source": [
    "# Grid Search Exercise"
   ]
  },
  {
   "cell_type": "markdown",
   "metadata": {
    "hidden": true
   },
   "source": [
    "Use a classifier of your choice to predict the category of price range for the phones in this dataset. Try tuning some hyperparameters using a grid search, and then write up a short paragraph about your findings."
   ]
  },
  {
   "cell_type": "code",
   "execution_count": null,
   "metadata": {
    "ExecuteTime": {
     "end_time": "2021-10-28T03:34:38.974212Z",
     "start_time": "2021-10-28T03:34:38.957557Z"
    },
    "hidden": true
   },
   "outputs": [],
   "source": [
    "phones_train = pd.read_csv('data/train.csv')\n",
    "phones_test = pd.read_csv('data/test.csv')"
   ]
  },
  {
   "cell_type": "markdown",
   "metadata": {
    "heading_collapsed": true
   },
   "source": [
    "# Level Up: Random Searching"
   ]
  },
  {
   "cell_type": "markdown",
   "metadata": {
    "hidden": true
   },
   "source": [
    "It is also possible to search for good hyperparameter values randomly. This is a nice choice if computation time is an issue or if you are tuning over continuous hyperparameters."
   ]
  },
  {
   "cell_type": "markdown",
   "metadata": {
    "heading_collapsed": true,
    "hidden": true
   },
   "source": [
    "### `RandomizedSearchCV` with `LogisticRegression`"
   ]
  },
  {
   "cell_type": "code",
   "execution_count": null,
   "metadata": {
    "ExecuteTime": {
     "end_time": "2021-10-28T03:34:46.731177Z",
     "start_time": "2021-10-28T03:34:46.727225Z"
    },
    "hidden": true
   },
   "outputs": [],
   "source": [
    "log_reg_grid = {'C': stats.uniform(loc=0, scale=10),\n",
    "               'l1_ratio': stats.expon(scale=0.2)}"
   ]
  },
  {
   "cell_type": "code",
   "execution_count": null,
   "metadata": {
    "ExecuteTime": {
     "end_time": "2021-10-28T03:34:49.166819Z",
     "start_time": "2021-10-28T03:34:48.678224Z"
    },
    "hidden": true
   },
   "outputs": [],
   "source": [
    "rs = RandomizedSearchCV(estimator=LogisticRegression(penalty='elasticnet',\n",
    "                                                    solver='saga',\n",
    "                                                    max_iter=1000,\n",
    "                                                    random_state=42),\n",
    "                        param_distributions=log_reg_grid,\n",
    "                       random_state=42, n_iter=100, verbose=2)\n",
    "\n",
    "rs.fit(X_train_clean, y_train)\n",
    "\n",
    "rs.best_params_"
   ]
  }
 ],
 "metadata": {
  "hide_input": false,
  "kernelspec": {
   "display_name": "Python (learn-env-test)",
   "language": "python",
   "name": "learn-env-test"
  },
  "language_info": {
   "codemirror_mode": {
    "name": "ipython",
    "version": 3
   },
   "file_extension": ".py",
   "mimetype": "text/x-python",
   "name": "python",
   "nbconvert_exporter": "python",
   "pygments_lexer": "ipython3",
   "version": "3.11.5"
  },
  "latex_envs": {
   "LaTeX_envs_menu_present": true,
   "autoclose": false,
   "autocomplete": true,
   "bibliofile": "biblio.bib",
   "cite_by": "apalike",
   "current_citInitial": 1,
   "eqLabelWithNumbers": true,
   "eqNumInitial": 1,
   "hotkeys": {
    "equation": "Ctrl-E",
    "itemize": "Ctrl-I"
   },
   "labels_anchors": false,
   "latex_user_defs": false,
   "report_style_numbering": false,
   "user_envs_cfg": false
  },
  "nbTranslate": {
   "displayLangs": [
    "*"
   ],
   "hotkey": "alt-t",
   "langInMainMenu": true,
   "sourceLang": "en",
   "targetLang": "fr",
   "useGoogleTranslate": true
  },
  "toc": {
   "base_numbering": 1,
   "nav_menu": {},
   "number_sections": true,
   "sideBar": true,
   "skip_h1_title": false,
   "title_cell": "Table of Contents",
   "title_sidebar": "TOC",
   "toc_cell": true,
   "toc_position": {
    "height": "calc(100% - 180px)",
    "left": "10px",
    "top": "150px",
    "width": "232px"
   },
   "toc_section_display": true,
   "toc_window_display": false
  }
 },
 "nbformat": 4,
 "nbformat_minor": 4
}
